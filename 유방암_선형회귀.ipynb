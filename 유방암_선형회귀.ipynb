{
  "nbformat": 4,
  "nbformat_minor": 0,
  "metadata": {
    "kernelspec": {
      "display_name": "TensorFlow 2.4 on Python 3.8 & CUDA 11.1",
      "language": "python",
      "name": "python3"
    },
    "language_info": {
      "codemirror_mode": {
        "name": "ipython",
        "version": 3
      },
      "file_extension": ".py",
      "mimetype": "text/x-python",
      "name": "python",
      "nbconvert_exporter": "python",
      "pygments_lexer": "ipython3",
      "version": "3.8.7"
    },
    "colab": {
      "name": "유방암 선형회귀.ipynb",
      "provenance": [],
      "collapsed_sections": [],
      "include_colab_link": true
    }
  },
  "cells": [
    {
      "cell_type": "markdown",
      "metadata": {
        "id": "view-in-github",
        "colab_type": "text"
      },
      "source": [
        "<a href=\"https://colab.research.google.com/github/hyo250/gittest/blob/master/%EC%9C%A0%EB%B0%A9%EC%95%94_%EC%84%A0%ED%98%95%ED%9A%8C%EA%B7%80.ipynb\" target=\"_parent\"><img src=\"https://colab.research.google.com/assets/colab-badge.svg\" alt=\"Open In Colab\"/></a>"
      ]
    },
    {
      "cell_type": "markdown",
      "metadata": {
        "id": "ZbX8HHay7CIf"
      },
      "source": [
        "# 03 머신러닝의 기초를 다집니다"
      ]
    },
    {
      "cell_type": "markdown",
      "metadata": {
        "id": "n4uI-LvH7CIk"
      },
      "source": [
        "이 노트북을 주피터 노트북 뷰어(nbviewer.jupyter.org)로 보거나 구글 코랩(colab.research.google.com)에서 실행할 수 있습니다.\n",
        "\n",
        "<table class=\"tfo-notebook-buttons\" align=\"left\">\n",
        "  <td>\n",
        "    <a target=\"_blank\" href=\"https://nbviewer.jupyter.org/github/rickiepark/do-it-dl/blob/master/Ch03.ipynb\"><img src=\"https://jupyter.org/assets/main-logo.svg\" width=\"28\" />주피터 노트북 뷰어로 보기</a>\n",
        "  </td>\n",
        "  <td>\n",
        "    <a target=\"_blank\" href=\"https://colab.research.google.com/github/rickiepark/do-it-dl/blob/master/Ch03.ipynb\"><img src=\"https://www.tensorflow.org/images/colab_logo_32px.png\" />구글 코랩(Colab)에서 실행하기</a>\n",
        "  </td>\n",
        "</table>"
      ]
    },
    {
      "cell_type": "markdown",
      "metadata": {
        "id": "bQfUr7E17CIp"
      },
      "source": [
        "## 03-1 선형 회귀에 대해 알아봅니다"
      ]
    },
    {
      "cell_type": "code",
      "metadata": {
        "id": "ftX67A8G7CIq"
      },
      "source": [
        "from sklearn.datasets import load_diabetes\n",
        "diabetes = load_diabetes()"
      ],
      "execution_count": 1,
      "outputs": []
    },
    {
      "cell_type": "code",
      "metadata": {
        "id": "GYnvJxJt7CIs",
        "colab": {
          "base_uri": "https://localhost:8080/"
        },
        "outputId": "d7437fd2-81c1-44e9-874f-04564a967568"
      },
      "source": [
        "print(diabetes.data.shape, diabetes.target.shape)"
      ],
      "execution_count": 2,
      "outputs": [
        {
          "output_type": "stream",
          "text": [
            "(442, 10) (442,)\n"
          ],
          "name": "stdout"
        }
      ]
    },
    {
      "cell_type": "code",
      "metadata": {
        "colab": {
          "base_uri": "https://localhost:8080/"
        },
        "id": "bZjGbIAP77hm",
        "outputId": "29e72a1e-ddc0-454a-dfd7-8e962e066af4"
      },
      "source": [
        "diabetes.data.shape #10개의 열이 있나봄. "
      ],
      "execution_count": 13,
      "outputs": [
        {
          "output_type": "execute_result",
          "data": {
            "text/plain": [
              "(442, 10)"
            ]
          },
          "metadata": {
            "tags": []
          },
          "execution_count": 13
        }
      ]
    },
    {
      "cell_type": "code",
      "metadata": {
        "id": "2HLLGg2S7CIu",
        "colab": {
          "base_uri": "https://localhost:8080/"
        },
        "outputId": "c94360d7-d581-4ef9-e245-77e37dd2afe7"
      },
      "source": [
        "diabetes.data[0:3]"
      ],
      "execution_count": 3,
      "outputs": [
        {
          "output_type": "execute_result",
          "data": {
            "text/plain": [
              "array([[ 0.03807591,  0.05068012,  0.06169621,  0.02187235, -0.0442235 ,\n",
              "        -0.03482076, -0.04340085, -0.00259226,  0.01990842, -0.01764613],\n",
              "       [-0.00188202, -0.04464164, -0.05147406, -0.02632783, -0.00844872,\n",
              "        -0.01916334,  0.07441156, -0.03949338, -0.06832974, -0.09220405],\n",
              "       [ 0.08529891,  0.05068012,  0.04445121, -0.00567061, -0.04559945,\n",
              "        -0.03419447, -0.03235593, -0.00259226,  0.00286377, -0.02593034]])"
            ]
          },
          "metadata": {
            "tags": []
          },
          "execution_count": 3
        }
      ]
    },
    {
      "cell_type": "code",
      "metadata": {
        "colab": {
          "base_uri": "https://localhost:8080/"
        },
        "id": "jB9kNwQ28N_-",
        "outputId": "473ac51f-4042-4475-e49c-dd961d8e2e66"
      },
      "source": [
        "diabetes.target.shape"
      ],
      "execution_count": 14,
      "outputs": [
        {
          "output_type": "execute_result",
          "data": {
            "text/plain": [
              "(442,)"
            ]
          },
          "metadata": {
            "tags": []
          },
          "execution_count": 14
        }
      ]
    },
    {
      "cell_type": "code",
      "metadata": {
        "id": "fFW7D1Is7CIv",
        "colab": {
          "base_uri": "https://localhost:8080/"
        },
        "outputId": "5689527b-52a1-4f01-a8ac-2e0cb2b45f17"
      },
      "source": [
        "diabetes.target[:3]\n"
      ],
      "execution_count": 4,
      "outputs": [
        {
          "output_type": "execute_result",
          "data": {
            "text/plain": [
              "array([151.,  75., 141.])"
            ]
          },
          "metadata": {
            "tags": []
          },
          "execution_count": 4
        }
      ]
    },
    {
      "cell_type": "code",
      "metadata": {
        "id": "wxJBkdXL7CIv"
      },
      "source": [
        "import matplotlib.pyplot as plt"
      ],
      "execution_count": 5,
      "outputs": []
    },
    {
      "cell_type": "code",
      "metadata": {
        "id": "0r4sKhYc7CIw",
        "colab": {
          "base_uri": "https://localhost:8080/",
          "height": 295
        },
        "outputId": "1cf13691-71b3-4b0a-e6b4-2d61c4d77afa"
      },
      "source": [
        "plt.scatter(diabetes.data[:, 2], diabetes.target) #산점도\n",
        "plt.xlabel('x') #x축 표시\n",
        "plt.ylabel('y') #y축 표시\n",
        "plt.title('scatter')\n",
        "plt.show()"
      ],
      "execution_count": 6,
      "outputs": [
        {
          "output_type": "display_data",
          "data": {
            "image/png": "[encoded data removed]",
            "text/plain": [
              "<Figure size 432x288 with 1 Axes>"
            ]
          },
          "metadata": {
            "tags": [],
            "needs_background": "light"
          }
        }
      ]
    },
    {
      "cell_type": "code",
      "metadata": {
        "id": "dMrIiFbn7CIy"
      },
      "source": [
        "x = diabetes.data[:, 2]\n",
        "y = diabetes.target"
      ],
      "execution_count": 10,
      "outputs": []
    },
    {
      "cell_type": "markdown",
      "metadata": {
        "id": "NpZeCq9B7CIz"
      },
      "source": [
        "<퀴즈> 슬라이싱을 사용해 훈련 데이터 x에서 100번째 부터 109번째 까지 샘플을 출력해 보세요. 슬라이싱한 배열의 크기는 얼마인가요?"
      ]
    },
    {
      "cell_type": "code",
      "metadata": {
        "id": "Lt9ik6Tk7CI0",
        "colab": {
          "base_uri": "https://localhost:8080/"
        },
        "outputId": "7a9b3a33-fb2c-4677-dbaa-e48bf27130e3"
      },
      "source": [
        "x_sample = x[99:109]\n",
        "print(x_sample, x_sample.shape)"
      ],
      "execution_count": 15,
      "outputs": [
        {
          "output_type": "stream",
          "text": [
            "[-0.06440781  0.01750591 -0.04500719  0.02828403  0.04121778  0.06492964\n",
            " -0.03207344 -0.07626374  0.04984027  0.04552903] (10,)\n"
          ],
          "name": "stdout"
        }
      ]
    },
    {
      "cell_type": "markdown",
      "metadata": {
        "id": "jJiXcbPj7CI1"
      },
      "source": [
        "## 03-2 경사 하강법에 대해 알아봅니다"
      ]
    },
    {
      "cell_type": "code",
      "metadata": {
        "id": "2lisM7Uc7CI1"
      },
      "source": [
        "w = 1.0\n",
        "b = 1.0"
      ],
      "execution_count": 16,
      "outputs": []
    },
    {
      "cell_type": "code",
      "metadata": {
        "id": "PjmBoVMk7CI2",
        "colab": {
          "base_uri": "https://localhost:8080/"
        },
        "outputId": "dad3d231-2c8c-4611-eab1-76bb32595c54"
      },
      "source": [
        "y_hat = x[0] * w + b #y_hat=예측값.\n",
        "print(y_hat)"
      ],
      "execution_count": 17,
      "outputs": [
        {
          "output_type": "stream",
          "text": [
            "1.0616962065186886\n"
          ],
          "name": "stdout"
        }
      ]
    },
    {
      "cell_type": "code",
      "metadata": {
        "id": "CVLN4Hr77CI7",
        "colab": {
          "base_uri": "https://localhost:8080/"
        },
        "outputId": "d263bccc-341b-4f34-d953-4b2efacdcc93"
      },
      "source": [
        "print(y[0]) #정답값."
      ],
      "execution_count": 18,
      "outputs": [
        {
          "output_type": "stream",
          "text": [
            "151.0\n"
          ],
          "name": "stdout"
        }
      ]
    },
    {
      "cell_type": "code",
      "metadata": {
        "id": "xHS6iqo_7CI-",
        "colab": {
          "base_uri": "https://localhost:8080/"
        },
        "outputId": "03587ffe-d11f-4798-c023-045991fd378a"
      },
      "source": [
        "w_inc = w + 0.1 #w, 기울기를 점점더 높여보고 예측값이 어떨지 보자.\n",
        "y_hat_inc = w_inc * x[0] + b\n",
        "print(y_hat_inc)"
      ],
      "execution_count": 19,
      "outputs": [
        {
          "output_type": "stream",
          "text": [
            "1.0678658271705574\n"
          ],
          "name": "stdout"
        }
      ]
    },
    {
      "cell_type": "code",
      "metadata": {
        "id": "AECqjpiN7CJA",
        "colab": {
          "base_uri": "https://localhost:8080/"
        },
        "outputId": "4e887b79-3d1d-47a9-cacd-ce9e6dcca5ff"
      },
      "source": [
        "w_rate = (y_hat_inc - y_hat) / (w_inc - w)\n",
        "print(w_rate)"
      ],
      "execution_count": 20,
      "outputs": [
        {
          "output_type": "stream",
          "text": [
            "0.061696206518688734\n"
          ],
          "name": "stdout"
        }
      ]
    },
    {
      "cell_type": "code",
      "metadata": {
        "id": "vLfGzbxs7CJB",
        "colab": {
          "base_uri": "https://localhost:8080/"
        },
        "outputId": "f5fea6da-fdd8-4815-b0f5-86dc435d6efe"
      },
      "source": [
        "w_new = w + w_rate\n",
        "print(w_new)"
      ],
      "execution_count": 21,
      "outputs": [
        {
          "output_type": "stream",
          "text": [
            "1.0616962065186888\n"
          ],
          "name": "stdout"
        }
      ]
    },
    {
      "cell_type": "code",
      "metadata": {
        "id": "L6lUoCU07CJC",
        "colab": {
          "base_uri": "https://localhost:8080/"
        },
        "outputId": "40f8976b-6dac-4450-b1b7-a7ae8049acc4"
      },
      "source": [
        "b_inc = b + 0.1 #절편 값 늘려보기\n",
        "y_hat_inc = x[0] * w + b_inc\n",
        "print(y_hat_inc)"
      ],
      "execution_count": 22,
      "outputs": [
        {
          "output_type": "stream",
          "text": [
            "1.1616962065186887\n"
          ],
          "name": "stdout"
        }
      ]
    },
    {
      "cell_type": "code",
      "metadata": {
        "id": "XeJU3BIY7CJC",
        "colab": {
          "base_uri": "https://localhost:8080/"
        },
        "outputId": "7c7122a6-aa15-41c8-b5bf-3a84e32d6dfd"
      },
      "source": [
        "b_rate = (y_hat_inc - y_hat) / (b_inc - b)\n",
        "print(b_rate)"
      ],
      "execution_count": 23,
      "outputs": [
        {
          "output_type": "stream",
          "text": [
            "1.0\n"
          ],
          "name": "stdout"
        }
      ]
    },
    {
      "cell_type": "code",
      "metadata": {
        "scrolled": true,
        "id": "w32npMFh7CJD",
        "colab": {
          "base_uri": "https://localhost:8080/"
        },
        "outputId": "c2635d35-7de6-48d2-e29c-6488f711666e"
      },
      "source": [
        "b_new = b + 1\n",
        "print(b_new)"
      ],
      "execution_count": 25,
      "outputs": [
        {
          "output_type": "stream",
          "text": [
            "2.0\n"
          ],
          "name": "stdout"
        }
      ]
    },
    {
      "cell_type": "code",
      "metadata": {
        "scrolled": true,
        "id": "0BD40ZSh7CJE",
        "colab": {
          "base_uri": "https://localhost:8080/"
        },
        "outputId": "ac7489c4-9442-4474-cc45-5fba0a10d319"
      },
      "source": [
        "err = y[0] - y_hat #실제값과 예측값 간 차이. 에러. 잔차(예상된 차이)\n",
        "w_new = w + w_rate * err\n",
        "b_new = b + 1 * err\n",
        "print(w_new, b_new)"
      ],
      "execution_count": 26,
      "outputs": [
        {
          "output_type": "stream",
          "text": [
            "10.250624555904514 150.9383037934813\n"
          ],
          "name": "stdout"
        }
      ]
    },
    {
      "cell_type": "code",
      "metadata": {
        "id": "S6UaXaea7CJG",
        "colab": {
          "base_uri": "https://localhost:8080/"
        },
        "outputId": "ba808e5c-44f9-49ac-b73a-ed056fece188"
      },
      "source": [
        "y_hat = x[1] * w_new + b_new\n",
        "err = y[1] - y_hat\n",
        "w_rate = x[1]\n",
        "w_new = w_new + w_rate * err\n",
        "b_new = b_new + 1 * err\n",
        "print(w_new, b_new)"
      ],
      "execution_count": 27,
      "outputs": [
        {
          "output_type": "stream",
          "text": [
            "14.132317616381767 75.52764127612664\n"
          ],
          "name": "stdout"
        }
      ]
    },
    {
      "cell_type": "code",
      "metadata": {
        "scrolled": true,
        "id": "ow81ST0J7CJI",
        "colab": {
          "base_uri": "https://localhost:8080/"
        },
        "outputId": "ff15fec0-e9a2-4cf0-db4d-51ce9d1ee48f"
      },
      "source": [
        "for x_i, y_i in zip(x, y):\n",
        "    y_hat = x_i * w + b\n",
        "    err = y_i - y_hat\n",
        "    w_rate = x_i\n",
        "    w = w + w_rate * err\n",
        "    b = b + 1 * err\n",
        "print(w, b)"
      ],
      "execution_count": 29,
      "outputs": [
        {
          "output_type": "stream",
          "text": [
            "796.8938154365328 114.80085167130312\n"
          ],
          "name": "stdout"
        }
      ]
    },
    {
      "cell_type": "code",
      "metadata": {
        "scrolled": true,
        "id": "iRpNJuxo7CJL",
        "colab": {
          "base_uri": "https://localhost:8080/",
          "height": 279
        },
        "outputId": "c13fdf40-2286-4b31-8af6-ae84412ae170"
      },
      "source": [
        "plt.scatter(x, y)\n",
        "pt1 = (-0.1, -0.1 * w + b) #-0.1 = 그래프가 잘보이게 위치만 조정한것. \n",
        "pt2 = (0.15, 0.15 * w + b)\n",
        "plt.plot([pt1[0], pt2[0]], [pt1[1], pt2[1]])\n",
        "plt.xlabel('x')\n",
        "plt.ylabel('y')\n",
        "plt.show()"
      ],
      "execution_count": 30,
      "outputs": [
        {
          "output_type": "display_data",
          "data": {
            "image/png": "[encoded data removed]",
            "text/plain": [
              "<Figure size 432x288 with 1 Axes>"
            ]
          },
          "metadata": {
            "tags": [],
            "needs_background": "light"
          }
        }
      ]
    },
    {
      "cell_type": "code",
      "metadata": {
        "id": "jzcsDT4n7CJM",
        "colab": {
          "base_uri": "https://localhost:8080/"
        },
        "outputId": "c4806a0c-e0c3-4a9a-9c06-e5e1b5fea857"
      },
      "source": [
        "for i in range(1, 100):\n",
        "    for x_i, y_i in zip(x, y):\n",
        "        y_hat = x_i * w + b\n",
        "        err = y_i - y_hat\n",
        "        w_rate = x_i\n",
        "        w = w + w_rate * err\n",
        "        b = b + 1 * err\n",
        "print(w, b)"
      ],
      "execution_count": 31,
      "outputs": [
        {
          "output_type": "stream",
          "text": [
            "913.5973364345905 123.39414383177204\n"
          ],
          "name": "stdout"
        }
      ]
    },
    {
      "cell_type": "code",
      "metadata": {
        "scrolled": false,
        "id": "zmomOZNO7CJM",
        "colab": {
          "base_uri": "https://localhost:8080/",
          "height": 279
        },
        "outputId": "b56ff8b1-9296-4e4c-b16c-f4345c1e1e49"
      },
      "source": [
        "plt.scatter(x, y)\n",
        "pt1 = (-0.1, -0.1 * w + b)\n",
        "pt2 = (0.15, 0.15 * w + b)\n",
        "plt.plot([pt1[0], pt2[0]], [pt1[1], pt2[1]])\n",
        "plt.xlabel('x')\n",
        "plt.ylabel('y')\n",
        "plt.show()"
      ],
      "execution_count": 32,
      "outputs": [
        {
          "output_type": "display_data",
          "data": {
            "image/png": "[encoded data removed]",
            "text/plain": [
              "<Figure size 432x288 with 1 Axes>"
            ]
          },
          "metadata": {
            "tags": [],
            "needs_background": "light"
          }
        }
      ]
    },
    {
      "cell_type": "code",
      "metadata": {
        "id": "vYA5njgl7CJN",
        "colab": {
          "base_uri": "https://localhost:8080/"
        },
        "outputId": "d3bb3205-1a23-4adf-9265-b827f0f94a29"
      },
      "source": [
        "x_new = 0.18 #x에 새로운 값(예측하고자 하는 데이터)을 넣어주면.\n",
        "y_pred = x_new * w + b\n",
        "print(y_pred)"
      ],
      "execution_count": 35,
      "outputs": [
        {
          "output_type": "stream",
          "text": [
            "287.8416643899983\n"
          ],
          "name": "stdout"
        }
      ]
    },
    {
      "cell_type": "code",
      "metadata": {
        "scrolled": true,
        "id": "xuwWd4cU7CJO",
        "colab": {
          "base_uri": "https://localhost:8080/",
          "height": 279
        },
        "outputId": "c3418fb5-a3dc-4ab8-a1da-1a2ff1739c35"
      },
      "source": [
        "plt.scatter(x, y)\n",
        "plt.scatter(x_new, y_pred)\n",
        "plt.xlabel('x')\n",
        "plt.ylabel('y')\n",
        "plt.show()"
      ],
      "execution_count": 36,
      "outputs": [
        {
          "output_type": "display_data",
          "data": {
            "image/png": "[encoded data removed]",
            "text/plain": [
              "<Figure size 432x288 with 1 Axes>"
            ]
          },
          "metadata": {
            "tags": [],
            "needs_background": "light"
          }
        }
      ]
    },
    {
      "cell_type": "markdown",
      "metadata": {
        "id": "rwKGXtg27CJP"
      },
      "source": [
        "## 03-4 뉴런을 만들어봅니다"
      ]
    },
    {
      "cell_type": "code",
      "metadata": {
        "id": "gCILC2qT7CJP"
      },
      "source": [
        "class Neuron:\n",
        "    \n",
        "    def __init__(self):\n",
        "        self.w = 1.0     # 가중치를 초기화합니다\n",
        "        self.b = 1.0     # 절편을 초기화합니다\n",
        "    \n",
        "    def forpass(self, x): #순전파\n",
        "        y_hat = x * self.w + self.b       # 직선 방정식을 계산합니다\n",
        "        return y_hat\n",
        "    \n",
        "    def backprop(self, x, err): #역전파\n",
        "        w_grad = x * err    # 가중치에 대한 그래디언트를 계산합니다\n",
        "        b_grad = 1 * err    # 절편에 대한 그래디언트를 계산합니다\n",
        "        return w_grad, b_grad\n",
        "\n",
        "    def fit(self, x, y, epochs=100):\n",
        "        for i in range(epochs):           # 에포크만큼 반복합니다\n",
        "            for x_i, y_i in zip(x, y):    # 모든 샘플에 대해 반복합니다\n",
        "                y_hat = self.forpass(x_i) # 정방향 계산\n",
        "                err = -(y_i - y_hat)      # 오차 계산\n",
        "                w_grad, b_grad = self.backprop(x_i, err)  # 역방향 계산\n",
        "                self.w -= w_grad          # 가중치 업데이트\n",
        "                self.b -= b_grad          # 절편 업데이트"
      ],
      "execution_count": 37,
      "outputs": []
    },
    {
      "cell_type": "code",
      "metadata": {
        "id": "y8ubx4Hq7CJQ"
      },
      "source": [
        "neuron = Neuron()\n",
        "neuron.fit(x, y)"
      ],
      "execution_count": 38,
      "outputs": []
    },
    {
      "cell_type": "code",
      "metadata": {
        "scrolled": true,
        "id": "SWwSFV-M7CJQ",
        "colab": {
          "base_uri": "https://localhost:8080/",
          "height": 279
        },
        "outputId": "c814793d-fa89-4284-e854-d01eceffd6ec"
      },
      "source": [
        "plt.scatter(x, y)\n",
        "pt1 = (-0.1, -0.1 * neuron.w + neuron.b)\n",
        "pt2 = (0.15, 0.15 * neuron.w + neuron.b)\n",
        "plt.plot([pt1[0], pt2[0]], [pt1[1], pt2[1]])\n",
        "plt.xlabel('x')\n",
        "plt.ylabel('y')\n",
        "plt.show()"
      ],
      "execution_count": 39,
      "outputs": [
        {
          "output_type": "display_data",
          "data": {
            "image/png": "[encoded data removed]",
            "text/plain": [
              "<Figure size 432x288 with 1 Axes>"
            ]
          },
          "metadata": {
            "tags": [],
            "needs_background": "light"
          }
        }
      ]
    },
    {
      "cell_type": "code",
      "metadata": {
        "id": "JKppylmm-d10"
      },
      "source": [
        ""
      ],
      "execution_count": null,
      "outputs": []
    }
  ]
}