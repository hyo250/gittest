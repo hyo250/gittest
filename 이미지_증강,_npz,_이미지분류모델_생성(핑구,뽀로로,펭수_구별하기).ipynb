{
  "nbformat": 4,
  "nbformat_minor": 0,
  "metadata": {
    "colab": {
      "name": "이미지 증강, npz, 이미지분류모델 생성(핑구,뽀로로,펭수 구별하기).ipynb",
      "provenance": [],
      "collapsed_sections": [],
      "mount_file_id": "1N9S_gUqNLdGVrQcS81AUM-tffRFhxGie",
      "authorship_tag": "ABX9TyOo8DESG83eByJ8+DofUw0P",
      "include_colab_link": true
    },
    "kernelspec": {
      "name": "python3",
      "display_name": "Python 3"
    },
    "language_info": {
      "name": "python"
    },
    "accelerator": "GPU"
  },
  "cells": [
    {
      "cell_type": "markdown",
      "metadata": {
        "id": "view-in-github",
        "colab_type": "text"
      },
      "source": [
        "<a href=\"https://colab.research.google.com/github/hyo250/gittest/blob/master/%EC%9D%B4%EB%AF%B8%EC%A7%80_%EC%A6%9D%EA%B0%95%2C_npz%2C_%EC%9D%B4%EB%AF%B8%EC%A7%80%EB%B6%84%EB%A5%98%EB%AA%A8%EB%8D%B8_%EC%83%9D%EC%84%B1(%ED%95%91%EA%B5%AC%2C%EB%BD%80%EB%A1%9C%EB%A1%9C%2C%ED%8E%AD%EC%88%98_%EA%B5%AC%EB%B3%84%ED%95%98%EA%B8%B0).ipynb\" target=\"_parent\"><img src=\"https://colab.research.google.com/assets/colab-badge.svg\" alt=\"Open In Colab\"/></a>"
      ]
    },
    {
      "cell_type": "code",
      "metadata": {
        "colab": {
          "base_uri": "https://localhost:8080/"
        },
        "id": "SVXwIgYV-acD",
        "outputId": "317ce6b8-f3b7-4d3f-bc10-0422abedff39"
      },
      "source": [
        "cd /content/drive/MyDrive/인공지능실습/한경/미션"
      ],
      "execution_count": 1,
      "outputs": [
        {
          "output_type": "stream",
          "text": [
            "/content/drive/MyDrive/인공지능실습/한경/미션\n"
          ],
          "name": "stdout"
        }
      ]
    },
    {
      "cell_type": "code",
      "metadata": {
        "id": "joe_5vhf_Fop"
      },
      "source": [
        "#1. 이미지 크롤링 (카테고리 최소 3개로) -->colab에서는 이거 안함. 주피터에서 진행함. "
      ],
      "execution_count": null,
      "outputs": []
    },
    {
      "cell_type": "code",
      "metadata": {
        "colab": {
          "base_uri": "https://localhost:8080/"
        },
        "id": "dMWcC7qGCWRD",
        "outputId": "eb246cab-ee9d-4e64-8b77-fb5ad2b6b80d"
      },
      "source": [
        "#colab에서 셀레니움 사용할때 기본 설정\n",
        "!pip install selenium\n",
        "!apt-get update\n",
        "!apt install chromium-chromedriver"
      ],
      "execution_count": null,
      "outputs": [
        {
          "output_type": "stream",
          "text": [
            "Collecting selenium\n",
            "\u001b[?25l  Downloading https://files.pythonhosted.org/packages/80/d6/4294f0b4bce4de0abf13e17190289f9d0613b0a44e5dd6a7f5ca98459853/selenium-3.141.0-py2.py3-none-any.whl (904kB)\n",
            "\r\u001b[K     |▍                               | 10kB 19.8MB/s eta 0:00:01\r\u001b[K     |▊                               | 20kB 25.9MB/s eta 0:00:01\r\u001b[K     |█                               | 30kB 30.3MB/s eta 0:00:01\r\u001b[K     |█▌                              | 40kB 29.5MB/s eta 0:00:01\r\u001b[K     |█▉                              | 51kB 31.2MB/s eta 0:00:01\r\u001b[K     |██▏                             | 61kB 32.2MB/s eta 0:00:01\r\u001b[K     |██▌                             | 71kB 25.6MB/s eta 0:00:01\r\u001b[K     |███                             | 81kB 27.1MB/s eta 0:00:01\r\u001b[K     |███▎                            | 92kB 26.4MB/s eta 0:00:01\r\u001b[K     |███▋                            | 102kB 27.5MB/s eta 0:00:01\r\u001b[K     |████                            | 112kB 27.5MB/s eta 0:00:01\r\u001b[K     |████▍                           | 122kB 27.5MB/s eta 0:00:01\r\u001b[K     |████▊                           | 133kB 27.5MB/s eta 0:00:01\r\u001b[K     |█████                           | 143kB 27.5MB/s eta 0:00:01\r\u001b[K     |█████▍                          | 153kB 27.5MB/s eta 0:00:01\r\u001b[K     |█████▉                          | 163kB 27.5MB/s eta 0:00:01\r\u001b[K     |██████▏                         | 174kB 27.5MB/s eta 0:00:01\r\u001b[K     |██████▌                         | 184kB 27.5MB/s eta 0:00:01\r\u001b[K     |██████▉                         | 194kB 27.5MB/s eta 0:00:01\r\u001b[K     |███████▎                        | 204kB 27.5MB/s eta 0:00:01\r\u001b[K     |███████▋                        | 215kB 27.5MB/s eta 0:00:01\r\u001b[K     |████████                        | 225kB 27.5MB/s eta 0:00:01\r\u001b[K     |████████▎                       | 235kB 27.5MB/s eta 0:00:01\r\u001b[K     |████████▊                       | 245kB 27.5MB/s eta 0:00:01\r\u001b[K     |█████████                       | 256kB 27.5MB/s eta 0:00:01\r\u001b[K     |█████████▍                      | 266kB 27.5MB/s eta 0:00:01\r\u001b[K     |█████████▉                      | 276kB 27.5MB/s eta 0:00:01\r\u001b[K     |██████████▏                     | 286kB 27.5MB/s eta 0:00:01\r\u001b[K     |██████████▌                     | 296kB 27.5MB/s eta 0:00:01\r\u001b[K     |██████████▉                     | 307kB 27.5MB/s eta 0:00:01\r\u001b[K     |███████████▎                    | 317kB 27.5MB/s eta 0:00:01\r\u001b[K     |███████████▋                    | 327kB 27.5MB/s eta 0:00:01\r\u001b[K     |████████████                    | 337kB 27.5MB/s eta 0:00:01\r\u001b[K     |████████████▎                   | 348kB 27.5MB/s eta 0:00:01\r\u001b[K     |████████████▊                   | 358kB 27.5MB/s eta 0:00:01\r\u001b[K     |█████████████                   | 368kB 27.5MB/s eta 0:00:01\r\u001b[K     |█████████████▍                  | 378kB 27.5MB/s eta 0:00:01\r\u001b[K     |█████████████▊                  | 389kB 27.5MB/s eta 0:00:01\r\u001b[K     |██████████████▏                 | 399kB 27.5MB/s eta 0:00:01\r\u001b[K     |██████████████▌                 | 409kB 27.5MB/s eta 0:00:01\r\u001b[K     |██████████████▉                 | 419kB 27.5MB/s eta 0:00:01\r\u001b[K     |███████████████▏                | 430kB 27.5MB/s eta 0:00:01\r\u001b[K     |███████████████▋                | 440kB 27.5MB/s eta 0:00:01\r\u001b[K     |████████████████                | 450kB 27.5MB/s eta 0:00:01\r\u001b[K     |████████████████▎               | 460kB 27.5MB/s eta 0:00:01\r\u001b[K     |████████████████▋               | 471kB 27.5MB/s eta 0:00:01\r\u001b[K     |█████████████████               | 481kB 27.5MB/s eta 0:00:01\r\u001b[K     |█████████████████▍              | 491kB 27.5MB/s eta 0:00:01\r\u001b[K     |█████████████████▊              | 501kB 27.5MB/s eta 0:00:01\r\u001b[K     |██████████████████▏             | 512kB 27.5MB/s eta 0:00:01\r\u001b[K     |██████████████████▌             | 522kB 27.5MB/s eta 0:00:01\r\u001b[K     |██████████████████▉             | 532kB 27.5MB/s eta 0:00:01\r\u001b[K     |███████████████████▏            | 542kB 27.5MB/s eta 0:00:01\r\u001b[K     |███████████████████▋            | 552kB 27.5MB/s eta 0:00:01\r\u001b[K     |████████████████████            | 563kB 27.5MB/s eta 0:00:01\r\u001b[K     |████████████████████▎           | 573kB 27.5MB/s eta 0:00:01\r\u001b[K     |████████████████████▋           | 583kB 27.5MB/s eta 0:00:01\r\u001b[K     |█████████████████████           | 593kB 27.5MB/s eta 0:00:01\r\u001b[K     |█████████████████████▍          | 604kB 27.5MB/s eta 0:00:01\r\u001b[K     |█████████████████████▊          | 614kB 27.5MB/s eta 0:00:01\r\u001b[K     |██████████████████████          | 624kB 27.5MB/s eta 0:00:01\r\u001b[K     |██████████████████████▌         | 634kB 27.5MB/s eta 0:00:01\r\u001b[K     |██████████████████████▉         | 645kB 27.5MB/s eta 0:00:01\r\u001b[K     |███████████████████████▏        | 655kB 27.5MB/s eta 0:00:01\r\u001b[K     |███████████████████████▌        | 665kB 27.5MB/s eta 0:00:01\r\u001b[K     |████████████████████████        | 675kB 27.5MB/s eta 0:00:01\r\u001b[K     |████████████████████████▎       | 686kB 27.5MB/s eta 0:00:01\r\u001b[K     |████████████████████████▋       | 696kB 27.5MB/s eta 0:00:01\r\u001b[K     |█████████████████████████       | 706kB 27.5MB/s eta 0:00:01\r\u001b[K     |█████████████████████████▍      | 716kB 27.5MB/s eta 0:00:01\r\u001b[K     |█████████████████████████▊      | 727kB 27.5MB/s eta 0:00:01\r\u001b[K     |██████████████████████████      | 737kB 27.5MB/s eta 0:00:01\r\u001b[K     |██████████████████████████▍     | 747kB 27.5MB/s eta 0:00:01\r\u001b[K     |██████████████████████████▉     | 757kB 27.5MB/s eta 0:00:01\r\u001b[K     |███████████████████████████▏    | 768kB 27.5MB/s eta 0:00:01\r\u001b[K     |███████████████████████████▌    | 778kB 27.5MB/s eta 0:00:01\r\u001b[K     |████████████████████████████    | 788kB 27.5MB/s eta 0:00:01\r\u001b[K     |████████████████████████████▎   | 798kB 27.5MB/s eta 0:00:01\r\u001b[K     |████████████████████████████▋   | 808kB 27.5MB/s eta 0:00:01\r\u001b[K     |█████████████████████████████   | 819kB 27.5MB/s eta 0:00:01\r\u001b[K     |█████████████████████████████▍  | 829kB 27.5MB/s eta 0:00:01\r\u001b[K     |█████████████████████████████▊  | 839kB 27.5MB/s eta 0:00:01\r\u001b[K     |██████████████████████████████  | 849kB 27.5MB/s eta 0:00:01\r\u001b[K     |██████████████████████████████▍ | 860kB 27.5MB/s eta 0:00:01\r\u001b[K     |██████████████████████████████▉ | 870kB 27.5MB/s eta 0:00:01\r\u001b[K     |███████████████████████████████▏| 880kB 27.5MB/s eta 0:00:01\r\u001b[K     |███████████████████████████████▌| 890kB 27.5MB/s eta 0:00:01\r\u001b[K     |███████████████████████████████▉| 901kB 27.5MB/s eta 0:00:01\r\u001b[K     |████████████████████████████████| 911kB 27.5MB/s \n",
            "\u001b[?25hRequirement already satisfied: urllib3 in /usr/local/lib/python3.7/dist-packages (from selenium) (1.24.3)\n",
            "Installing collected packages: selenium\n",
            "Successfully installed selenium-3.141.0\n",
            "Get:1 http://security.ubuntu.com/ubuntu bionic-security InRelease [88.7 kB]\n",
            "Get:2 https://cloud.r-project.org/bin/linux/ubuntu bionic-cran40/ InRelease [3,626 B]\n",
            "Ign:3 https://developer.download.nvidia.com/compute/cuda/repos/ubuntu1804/x86_64  InRelease\n",
            "Get:4 http://ppa.launchpad.net/c2d4u.team/c2d4u4.0+/ubuntu bionic InRelease [15.9 kB]\n",
            "Hit:5 http://archive.ubuntu.com/ubuntu bionic InRelease\n",
            "Ign:6 https://developer.download.nvidia.com/compute/machine-learning/repos/ubuntu1804/x86_64  InRelease\n",
            "Get:7 https://developer.download.nvidia.com/compute/cuda/repos/ubuntu1804/x86_64  Release [697 B]\n",
            "Hit:8 https://developer.download.nvidia.com/compute/machine-learning/repos/ubuntu1804/x86_64  Release\n",
            "Get:9 https://developer.download.nvidia.com/compute/cuda/repos/ubuntu1804/x86_64  Release.gpg [836 B]\n",
            "Get:10 http://archive.ubuntu.com/ubuntu bionic-updates InRelease [88.7 kB]\n",
            "Get:11 https://cloud.r-project.org/bin/linux/ubuntu bionic-cran40/ Packages [61.8 kB]\n",
            "Hit:12 http://ppa.launchpad.net/cran/libgit2/ubuntu bionic InRelease\n",
            "Get:13 http://security.ubuntu.com/ubuntu bionic-security/restricted amd64 Packages [450 kB]\n",
            "Get:14 http://security.ubuntu.com/ubuntu bionic-security/main amd64 Packages [2,185 kB]\n",
            "Get:15 http://archive.ubuntu.com/ubuntu bionic-backports InRelease [74.6 kB]\n",
            "Get:16 http://ppa.launchpad.net/deadsnakes/ppa/ubuntu bionic InRelease [15.9 kB]\n",
            "Get:17 http://security.ubuntu.com/ubuntu bionic-security/universe amd64 Packages [1,415 kB]\n",
            "Get:18 http://ppa.launchpad.net/graphics-drivers/ppa/ubuntu bionic InRelease [21.3 kB]\n",
            "Ign:20 https://developer.download.nvidia.com/compute/cuda/repos/ubuntu1804/x86_64  Packages\n",
            "Get:20 https://developer.download.nvidia.com/compute/cuda/repos/ubuntu1804/x86_64  Packages [800 kB]\n",
            "Get:21 http://ppa.launchpad.net/c2d4u.team/c2d4u4.0+/ubuntu bionic/main Sources [1,771 kB]\n",
            "Get:22 http://archive.ubuntu.com/ubuntu bionic-updates/restricted amd64 Packages [481 kB]\n",
            "Get:23 http://archive.ubuntu.com/ubuntu bionic-updates/universe amd64 Packages [2,184 kB]\n",
            "Get:24 http://ppa.launchpad.net/c2d4u.team/c2d4u4.0+/ubuntu bionic/main amd64 Packages [906 kB]\n",
            "Get:25 http://archive.ubuntu.com/ubuntu bionic-updates/main amd64 Packages [2,619 kB]\n",
            "Get:26 http://archive.ubuntu.com/ubuntu bionic-updates/multiverse amd64 Packages [33.5 kB]\n",
            "Get:27 http://ppa.launchpad.net/deadsnakes/ppa/ubuntu bionic/main amd64 Packages [40.9 kB]\n",
            "Get:28 http://ppa.launchpad.net/graphics-drivers/ppa/ubuntu bionic/main amd64 Packages [41.6 kB]\n",
            "Fetched 13.3 MB in 3s (4,268 kB/s)\n",
            "Reading package lists... Done\n",
            "Reading package lists... Done\n",
            "Building dependency tree       \n",
            "Reading state information... Done\n",
            "The following additional packages will be installed:\n",
            "  chromium-browser chromium-browser-l10n chromium-codecs-ffmpeg-extra\n",
            "Suggested packages:\n",
            "  webaccounts-chromium-extension unity-chromium-extension\n",
            "The following NEW packages will be installed:\n",
            "  chromium-browser chromium-browser-l10n chromium-chromedriver\n",
            "  chromium-codecs-ffmpeg-extra\n",
            "0 upgraded, 4 newly installed, 0 to remove and 48 not upgraded.\n",
            "Need to get 86.0 MB of archives.\n",
            "After this operation, 298 MB of additional disk space will be used.\n",
            "Get:1 http://archive.ubuntu.com/ubuntu bionic-updates/universe amd64 chromium-codecs-ffmpeg-extra amd64 91.0.4472.77-0ubuntu0.18.04.1 [1,124 kB]\n",
            "Get:2 http://archive.ubuntu.com/ubuntu bionic-updates/universe amd64 chromium-browser amd64 91.0.4472.77-0ubuntu0.18.04.1 [76.1 MB]\n",
            "Get:3 http://archive.ubuntu.com/ubuntu bionic-updates/universe amd64 chromium-browser-l10n all 91.0.4472.77-0ubuntu0.18.04.1 [3,948 kB]\n",
            "Get:4 http://archive.ubuntu.com/ubuntu bionic-updates/universe amd64 chromium-chromedriver amd64 91.0.4472.77-0ubuntu0.18.04.1 [4,838 kB]\n",
            "Fetched 86.0 MB in 3s (28.6 MB/s)\n",
            "Selecting previously unselected package chromium-codecs-ffmpeg-extra.\n",
            "(Reading database ... 160772 files and directories currently installed.)\n",
            "Preparing to unpack .../chromium-codecs-ffmpeg-extra_91.0.4472.77-0ubuntu0.18.04.1_amd64.deb ...\n",
            "Unpacking chromium-codecs-ffmpeg-extra (91.0.4472.77-0ubuntu0.18.04.1) ...\n",
            "Selecting previously unselected package chromium-browser.\n",
            "Preparing to unpack .../chromium-browser_91.0.4472.77-0ubuntu0.18.04.1_amd64.deb ...\n",
            "Unpacking chromium-browser (91.0.4472.77-0ubuntu0.18.04.1) ...\n",
            "Selecting previously unselected package chromium-browser-l10n.\n",
            "Preparing to unpack .../chromium-browser-l10n_91.0.4472.77-0ubuntu0.18.04.1_all.deb ...\n",
            "Unpacking chromium-browser-l10n (91.0.4472.77-0ubuntu0.18.04.1) ...\n",
            "Selecting previously unselected package chromium-chromedriver.\n",
            "Preparing to unpack .../chromium-chromedriver_91.0.4472.77-0ubuntu0.18.04.1_amd64.deb ...\n",
            "Unpacking chromium-chromedriver (91.0.4472.77-0ubuntu0.18.04.1) ...\n",
            "Setting up chromium-codecs-ffmpeg-extra (91.0.4472.77-0ubuntu0.18.04.1) ...\n",
            "Setting up chromium-browser (91.0.4472.77-0ubuntu0.18.04.1) ...\n",
            "update-alternatives: using /usr/bin/chromium-browser to provide /usr/bin/x-www-browser (x-www-browser) in auto mode\n",
            "update-alternatives: using /usr/bin/chromium-browser to provide /usr/bin/gnome-www-browser (gnome-www-browser) in auto mode\n",
            "Setting up chromium-chromedriver (91.0.4472.77-0ubuntu0.18.04.1) ...\n",
            "Setting up chromium-browser-l10n (91.0.4472.77-0ubuntu0.18.04.1) ...\n",
            "Processing triggers for man-db (2.8.3-2ubuntu0.1) ...\n",
            "Processing triggers for hicolor-icon-theme (0.17-2) ...\n",
            "Processing triggers for mime-support (3.60ubuntu1) ...\n",
            "Processing triggers for libc-bin (2.27-3ubuntu1.2) ...\n",
            "/sbin/ldconfig.real: /usr/local/lib/python3.7/dist-packages/ideep4py/lib/libmkldnn.so.0 is not a symbolic link\n",
            "\n"
          ],
          "name": "stdout"
        }
      ]
    },
    {
      "cell_type": "code",
      "metadata": {
        "id": "C2k8R1Vz55zv"
      },
      "source": [
        "from bs4 import BeautifulSoup as bs\n",
        "import time\n",
        "import os\n",
        "import urllib.request\n",
        "from urllib.parse import quote_plus"
      ],
      "execution_count": null,
      "outputs": []
    },
    {
      "cell_type": "code",
      "metadata": {
        "colab": {
          "base_uri": "https://localhost:8080/"
        },
        "id": "U0E2hdLX_sQc",
        "outputId": "ec4d5859-9082-4e6b-823a-fc447da6bc50"
      },
      "source": [
        "#이미지 크롤링하고 폴더 새로 만들어서 거기에 이미지 넣기\n",
        "# 참고사이트: https://ai-run.tistory.com/47\n",
        "from selenium import webdriver\n",
        "from bs4 import BeautifulSoup as bs\n",
        "import time\n",
        "import os\n",
        "import urllib.request\n",
        "from urllib.parse import quote_plus\n",
        "from selenium.webdriver.common.keys import Keys\n",
        "\n",
        "def naver_img(Keyword, count_down):\n",
        "    # 네이버 이미지 검색 및 저장 함수\n",
        "    url='https://search.naver.com/search.naver?where=image&sm=tab_jum&query='+Keyword\n",
        "\n",
        "    #colab용 Selenium 설정\n",
        "    chrome_options = webdriver.ChromeOptions()\n",
        "    chrome_options.add_argument('--headless')\n",
        "    chrome_options.add_argument('--no-sandbox')\n",
        "    chrome_options.add_argument('--disable-dev-shm-usage')\n",
        "    driver = webdriver.Chrome('chromedriver', chrome_options=chrome_options)\n",
        "    \n",
        "    driver.get(url)\n",
        "    time.sleep(3)\n",
        "\n",
        "    body = driver.find_element_by_css_selector('body')\n",
        "\n",
        "    # 페이지 다운시켜서 더 많은 이미지가 나오게 한다\n",
        "    for i in range(20):\n",
        "        body.send_keys(Keys.PAGE_DOWN)\n",
        "        time.sleep(1)\n",
        "\n",
        "        html = driver.page_source\n",
        "        soup = bs(html, 'html.parser')\n",
        "        img = soup.find_all(class_='_img')\n",
        "\n",
        "        img_url_lst=[]\n",
        "        tag_img = soup.find_all(\"img\")\n",
        "\n",
        "    for url_num in tag_img:\n",
        "        try:\n",
        "            img_url_lst.append(url_num['src'])\n",
        "        except:\n",
        "            pass\n",
        "\n",
        "\n",
        "    #### 이미지 저장 기본 디렉토리 확인 및 생성 \n",
        "    if not os.path.exists('/content/drive/My Drive/인공지능실습/한경/미션/images/'):\n",
        "        os.makedirs('/content/drive/My Drive/인공지능실습/한경/미션/images/')\n",
        "        fdir='/content/drive/My Drive/인공지능실습/한경/미션/images/'\n",
        "    else:\n",
        "        fdir = '/content/drive/My Drive/인공지능실습/한경/미션/images/'\n",
        "\n",
        "    #### 검색어에 해당하는 디렉토리가 존재하는지 확인(직접 코딩하세요)\n",
        "    ## 1. 없는 경우 저장을 위해 디렉토리 생성\n",
        "    ## 2. 있는 경우 폴더 뒤에 '1'을 추가로 붙여 새로운 폴더 생성\n",
        "\n",
        "    if not os.path.exists(fdir+Keyword):   # 키워드 폴더가 없다면 생성\n",
        "        os.makedirs(fdir+Keyword+'/')\n",
        "        fdir=fdir+Keyword+'/'\n",
        "    else:\n",
        "        # 키워드 폴더가 있다면 새로운 폴더 생성(없는 폴더 생성까지 무한 반복)\n",
        "        i=0\n",
        "        while True:\n",
        "            i+=1\n",
        "            if not os.path.exists(fdir+Keyword+str(i)):\n",
        "                os.makedirs(fdir+Keyword+str(i)+'/')\n",
        "                fdir=fdir+Keyword+str(i)+'/'\n",
        "                break\n",
        "\n",
        "    ##### 이미지 저장하기  #####################\n",
        "    i=1\n",
        "    for img_u in img_url_lst:\n",
        "        img_name=fdir+Keyword+str(i)+'.jpg'     # 파일명 생성\n",
        "        urllib.request.urlretrieve(img_u, img_name)  # 이미지 url에서 데이터 다운로드 받아 폴더에 저장\n",
        "        i+=1\n",
        "\n",
        "    driver.close()\n",
        "    print('이미지 검색을 완료하였습니다.')\n",
        "\n",
        "\n",
        "if __name__=='__main__':\n",
        "    Keyword = input(\"검색어를 입력하세요: \")\n",
        "    count_down = int(input(\"스크롤 다운 횟수를 입력해 주세요(최대6): \"))\n",
        "    naver_img(Keyword, count_down)\n"
      ],
      "execution_count": null,
      "outputs": [
        {
          "output_type": "stream",
          "text": [
            "검색어를 입력하세요: 펭수\n",
            "스크롤 다운 횟수를 입력해 주세요(최대6): 1\n"
          ],
          "name": "stdout"
        },
        {
          "output_type": "stream",
          "text": [
            "/usr/local/lib/python3.7/dist-packages/ipykernel_launcher.py:20: DeprecationWarning: use options instead of chrome_options\n"
          ],
          "name": "stderr"
        },
        {
          "output_type": "stream",
          "text": [
            "이미지 검색을 완료하였습니다.\n"
          ],
          "name": "stdout"
        }
      ]
    },
    {
      "cell_type": "code",
      "metadata": {
        "colab": {
          "base_uri": "https://localhost:8080/"
        },
        "id": "bXb9RuIw_v7Y",
        "outputId": "149e0e47-f0d3-495e-c0db-56e47944d9a1"
      },
      "source": [
        "#현재 핑구, 핑가, 루피 폴더에 각각 다음과 같이 사진을 넣었음\n",
        "import os\n",
        "핑구_dir='/content/drive/My Drive/인공지능실습/한경/미션/images/핑구'\n",
        "뽀로로_dir='/content/drive/My Drive/인공지능실습/한경/미션/images/뽀로로'\n",
        "펭수_dir='/content/drive/My Drive/인공지능실습/한경/미션/images/펭수'\n",
        "print('핑구 사진 개수: ', len(os.listdir(핑구_dir)))\n",
        "print('뽀로로 사진 개수: ', len(os.listdir(뽀로로_dir)))\n",
        "print('펭수 사진 개수: ', len(os.listdir(펭수_dir)))"
      ],
      "execution_count": 3,
      "outputs": [
        {
          "output_type": "stream",
          "text": [
            "핑구 사진 개수:  181\n",
            "뽀로로 사진 개수:  154\n",
            "펭수 사진 개수:  180\n"
          ],
          "name": "stdout"
        }
      ]
    },
    {
      "cell_type": "code",
      "metadata": {
        "id": "L5K_Z3NlId50"
      },
      "source": [
        "#중복 사진(이름 같거나, 용량이 같은 거(42바이트 이런거)) 삭제하기\n",
        "#https://mizykk.tistory.com/55\n",
        "#지금은 어려우니 패스하겠음..ㅠ.ㅠ"
      ],
      "execution_count": null,
      "outputs": []
    },
    {
      "cell_type": "code",
      "metadata": {
        "id": "KxyKlh5S_zfk",
        "colab": {
          "base_uri": "https://localhost:8080/"
        },
        "outputId": "2ea25aef-58e2-4d38-d289-e67b22ccbd3a"
      },
      "source": [
        "# #2.폴더 정리(train, test로 나누어 수동으로 정리..)\n",
        "## 방법1 아래의 코드를 이용해서 기존 폴더에서 새 폴더로 옮기기.. \n",
        "# import os # miscellaneous operating system interfaces\n",
        "# import shutil # high-level file operations\n",
        "## 출처: https://rfriend.tistory.com/431 [R, Python 분석과 프로그래밍의 친구 (by R Friend)]\n",
        "##나는 그냥 수동으로 함... \n",
        "train_핑구='/content/drive/My Drive/인공지능실습/한경/미션/images/train/핑구'\n",
        "test_핑구='/content/drive/My Drive/인공지능실습/한경/미션/images/test/핑구'\n",
        "\n",
        "train_뽀로로='/content/drive/My Drive/인공지능실습/한경/미션/images/train/뽀로로'\n",
        "test_뽀로로='/content/drive/My Drive/인공지능실습/한경/미션/images/test/뽀로로'\n",
        "\n",
        "train_펭수='/content/drive/My Drive/인공지능실습/한경/미션/images/train/펭수'\n",
        "test_펭수='/content/drive/My Drive/인공지능실습/한경/미션/images/test/펭수'\n",
        "print('핑구 train data 개수: ', len(os.listdir(train_핑구)))\n",
        "print('핑구 test data 개수: ', len(os.listdir(test_핑구)))\n",
        "print('뽀로로 train data 개수: ', len(os.listdir(train_뽀로로)))\n",
        "print('뽀로로 test data 개수: ', len(os.listdir(test_뽀로로)))\n",
        "print('펭수 train data 개수: ', len(os.listdir(train_펭수)))\n",
        "print('펭수 test data 개수: ', len(os.listdir(test_펭수)))"
      ],
      "execution_count": 4,
      "outputs": [
        {
          "output_type": "stream",
          "text": [
            "핑구 train data 개수:  160\n",
            "핑구 test data 개수:  39\n",
            "뽀로로 train data 개수:  112\n",
            "뽀로로 test data 개수:  39\n",
            "펭수 train data 개수:  139\n",
            "펭수 test data 개수:  39\n"
          ],
          "name": "stdout"
        }
      ]
    },
    {
      "cell_type": "code",
      "metadata": {
        "id": "a8y58SVp_z_u"
      },
      "source": [
        "#3 이미지 증강\n",
        "# 데이터 증강( 이미지 증강, data augmetation)\n",
        "- 이미지 인공지능 딥러닝 모델을 만들때 이미지 데이터를 수집하여 CNN을 거쳐 훈련을 시키는 것을 함. \n",
        "- 이때 이미지 데이터의 수는 인식률을 높히기 위해선 객체당 수백장에서  수천, 수만장까지 필요.\n",
        "- 그러나 이미지의 수에 비례하여 인식률이 높아지는 것은 아님. \n",
        "- 원본 이미지를 좌우 반전, 상하 반전, 왜곡시키며 이미지의 경우의 수를 늘리는 augmentation이 유용함. \n",
        "- https://btw-e-m.tistory.com/8"
      ],
      "execution_count": null,
      "outputs": []
    },
    {
      "cell_type": "code",
      "metadata": {
        "id": "2mQrSyY5YBrn",
        "colab": {
          "base_uri": "https://localhost:8080/"
        },
        "outputId": "2f76c155-d68c-4faf-aae5-9f9018df8832"
      },
      "source": [
        "!pip install Augmentor"
      ],
      "execution_count": 6,
      "outputs": [
        {
          "output_type": "stream",
          "text": [
            "Collecting Augmentor\n",
            "  Downloading https://files.pythonhosted.org/packages/cb/79/861f38d5830cff631e30e33b127076bfef8ac98171e51daa06df0118c75f/Augmentor-0.2.8-py2.py3-none-any.whl\n",
            "Requirement already satisfied: future>=0.16.0 in /usr/local/lib/python3.7/dist-packages (from Augmentor) (0.16.0)\n",
            "Requirement already satisfied: tqdm>=4.9.0 in /usr/local/lib/python3.7/dist-packages (from Augmentor) (4.41.1)\n",
            "Requirement already satisfied: Pillow>=5.2.0 in /usr/local/lib/python3.7/dist-packages (from Augmentor) (7.1.2)\n",
            "Requirement already satisfied: numpy>=1.11.0 in /usr/local/lib/python3.7/dist-packages (from Augmentor) (1.19.5)\n",
            "Installing collected packages: Augmentor\n",
            "Successfully installed Augmentor-0.2.8\n"
          ],
          "name": "stdout"
        }
      ]
    },
    {
      "cell_type": "code",
      "metadata": {
        "id": "PLqlzI30_w96",
        "colab": {
          "base_uri": "https://localhost:8080/"
        },
        "outputId": "62a36de5-32f6-429d-8a31-f3c8847fd7b1"
      },
      "source": [
        "import Augmentor\n",
        "\n",
        "## 증강 시킬 이미지 폴더 경로\n",
        "img = Augmentor.Pipeline(\"/content/drive/My Drive/인공지능실습/한경/미션/images/train/핑구\")\n",
        "\n",
        "## 좌우 반전\n",
        "img.flip_left_right(probability=1.0)\n",
        "\n",
        "## 상하 반전\n",
        "img.flip_top_bottom(probability=1.0)\n",
        "\n",
        "## 왜곡\n",
        "img.random_distortion(probability=1, grid_width=10, grid_height=10, magnitude=8)\n",
        "\n",
        "## 증강 이미지 수\n",
        "img.sample(10)\n"
      ],
      "execution_count": 12,
      "outputs": [
        {
          "output_type": "stream",
          "text": [
            "Processing <PIL.Image.Image image mode=RGB size=340x506 at 0x7F0232C7F9D0>:  30%|███       | 3/10 [00:00<00:00,  9.14 Samples/s]"
          ],
          "name": "stderr"
        },
        {
          "output_type": "stream",
          "text": [
            "Initialised with 160 image(s) found.\n",
            "Output directory set to /content/drive/My Drive/인공지능실습/한경/미션/images/train/핑구/output."
          ],
          "name": "stdout"
        },
        {
          "output_type": "stream",
          "text": [
            "Processing <PIL.Image.Image image mode=RGB size=340x255 at 0x7F0232C74F50>: 100%|██████████| 10/10 [00:00<00:00, 44.30 Samples/s]\n"
          ],
          "name": "stderr"
        }
      ]
    },
    {
      "cell_type": "code",
      "metadata": {
        "id": "6wGVGcKw_w28"
      },
      "source": [
        "#4. 특정 이미지 배열만 골라 작업( , , 3 )인 것만 고르기. shape 제작\n",
        "#5. ylabel 값 추가해서 shape 제작\n",
        "from PIL import Image\n",
        "import numpy as np\n",
        "import matplotlib.pyplot as plt\n",
        "import os\n",
        "X_train=[]; Y_train=[]\n",
        "작업폴더='/content/drive/My Drive/인공지능실습/한경/미션/images/train/펭수/'\n",
        "\n",
        "fileList=os.listdir(작업폴더)\n",
        "for item in fileList:\n",
        "    img= Image.open(작업폴더 + item)\n",
        "\n",
        "    imgRe=img.resize((50,50))\n",
        "    imgArr=np.array(imgRe)/255\n",
        "    \n",
        "    if np.shape(imgArr) == (50,50,3):\n",
        "        X_train.append(imgArr)\n",
        "        Y_train.append(2)\n",
        "\n",
        "작업폴더='/content/drive/My Drive/인공지능실습/한경/미션/images/train/뽀로로/'\n",
        "\n",
        "fileList=os.listdir(작업폴더)\n",
        "for item in fileList:\n",
        "    img= Image.open(작업폴더 + item)\n",
        "\n",
        "    imgRe=img.resize((50,50))\n",
        "    imgArr=np.array(imgRe)/255\n",
        "    \n",
        "    if np.shape(imgArr) == (50,50,3):\n",
        "        X_train.append(imgArr)\n",
        "        Y_train.append(1)\n",
        "\n",
        "작업폴더='/content/drive/My Drive/인공지능실습/한경/미션/images/train/핑구/'\n",
        "\n",
        "fileList=os.listdir(작업폴더)\n",
        "for item in fileList:\n",
        "    img= Image.open(작업폴더 + item)\n",
        "\n",
        "    imgRe=img.resize((50,50))\n",
        "    imgArr=np.array(imgRe)/255\n",
        "    \n",
        "    if np.shape(imgArr) == (50,50,3):\n",
        "        X_train.append(imgArr)\n",
        "        Y_train.append(0)"
      ],
      "execution_count": 20,
      "outputs": []
    },
    {
      "cell_type": "code",
      "metadata": {
        "id": "Lg3-pmPu_wvu",
        "colab": {
          "base_uri": "https://localhost:8080/"
        },
        "outputId": "8ac6d948-0121-4cc9-e5f8-0b119196939d"
      },
      "source": [
        "print(np.shape(X_train));print(np.shape(Y_train))"
      ],
      "execution_count": 21,
      "outputs": [
        {
          "output_type": "stream",
          "text": [
            "(441, 50, 50, 3)\n",
            "(441,)\n"
          ],
          "name": "stdout"
        }
      ]
    },
    {
      "cell_type": "code",
      "metadata": {
        "colab": {
          "base_uri": "https://localhost:8080/"
        },
        "id": "OrhrW0Xi8sdl",
        "outputId": "7f7ad4c9-af33-4494-807c-3ff86d753248"
      },
      "source": [
        "Y_train"
      ],
      "execution_count": 22,
      "outputs": [
        {
          "output_type": "execute_result",
          "data": {
            "text/plain": [
              "[2,\n",
              " 2,\n",
              " 2,\n",
              " 2,\n",
              " 2,\n",
              " 2,\n",
              " 2,\n",
              " 2,\n",
              " 2,\n",
              " 2,\n",
              " 2,\n",
              " 2,\n",
              " 2,\n",
              " 2,\n",
              " 2,\n",
              " 2,\n",
              " 2,\n",
              " 2,\n",
              " 2,\n",
              " 2,\n",
              " 2,\n",
              " 2,\n",
              " 2,\n",
              " 2,\n",
              " 2,\n",
              " 2,\n",
              " 2,\n",
              " 2,\n",
              " 2,\n",
              " 2,\n",
              " 2,\n",
              " 2,\n",
              " 2,\n",
              " 2,\n",
              " 2,\n",
              " 2,\n",
              " 2,\n",
              " 2,\n",
              " 2,\n",
              " 2,\n",
              " 2,\n",
              " 2,\n",
              " 2,\n",
              " 2,\n",
              " 2,\n",
              " 2,\n",
              " 2,\n",
              " 2,\n",
              " 2,\n",
              " 2,\n",
              " 2,\n",
              " 2,\n",
              " 2,\n",
              " 2,\n",
              " 2,\n",
              " 2,\n",
              " 2,\n",
              " 2,\n",
              " 2,\n",
              " 2,\n",
              " 2,\n",
              " 2,\n",
              " 2,\n",
              " 2,\n",
              " 2,\n",
              " 2,\n",
              " 2,\n",
              " 2,\n",
              " 2,\n",
              " 2,\n",
              " 2,\n",
              " 2,\n",
              " 2,\n",
              " 2,\n",
              " 2,\n",
              " 2,\n",
              " 2,\n",
              " 2,\n",
              " 2,\n",
              " 2,\n",
              " 2,\n",
              " 2,\n",
              " 2,\n",
              " 2,\n",
              " 2,\n",
              " 2,\n",
              " 2,\n",
              " 2,\n",
              " 2,\n",
              " 2,\n",
              " 2,\n",
              " 2,\n",
              " 2,\n",
              " 2,\n",
              " 2,\n",
              " 2,\n",
              " 2,\n",
              " 2,\n",
              " 2,\n",
              " 2,\n",
              " 2,\n",
              " 2,\n",
              " 2,\n",
              " 2,\n",
              " 2,\n",
              " 2,\n",
              " 2,\n",
              " 2,\n",
              " 2,\n",
              " 2,\n",
              " 2,\n",
              " 2,\n",
              " 2,\n",
              " 2,\n",
              " 2,\n",
              " 2,\n",
              " 2,\n",
              " 2,\n",
              " 2,\n",
              " 2,\n",
              " 2,\n",
              " 2,\n",
              " 2,\n",
              " 2,\n",
              " 2,\n",
              " 2,\n",
              " 2,\n",
              " 2,\n",
              " 2,\n",
              " 2,\n",
              " 2,\n",
              " 2,\n",
              " 2,\n",
              " 2,\n",
              " 2,\n",
              " 2,\n",
              " 2,\n",
              " 2,\n",
              " 2,\n",
              " 2,\n",
              " 2,\n",
              " 2,\n",
              " 2,\n",
              " 2,\n",
              " 2,\n",
              " 2,\n",
              " 2,\n",
              " 2,\n",
              " 2,\n",
              " 1,\n",
              " 1,\n",
              " 1,\n",
              " 1,\n",
              " 1,\n",
              " 1,\n",
              " 1,\n",
              " 1,\n",
              " 1,\n",
              " 1,\n",
              " 1,\n",
              " 1,\n",
              " 1,\n",
              " 1,\n",
              " 1,\n",
              " 1,\n",
              " 1,\n",
              " 1,\n",
              " 1,\n",
              " 1,\n",
              " 1,\n",
              " 1,\n",
              " 1,\n",
              " 1,\n",
              " 1,\n",
              " 1,\n",
              " 1,\n",
              " 1,\n",
              " 1,\n",
              " 1,\n",
              " 1,\n",
              " 1,\n",
              " 1,\n",
              " 1,\n",
              " 1,\n",
              " 1,\n",
              " 1,\n",
              " 1,\n",
              " 1,\n",
              " 1,\n",
              " 1,\n",
              " 1,\n",
              " 1,\n",
              " 1,\n",
              " 1,\n",
              " 1,\n",
              " 1,\n",
              " 1,\n",
              " 1,\n",
              " 1,\n",
              " 1,\n",
              " 1,\n",
              " 1,\n",
              " 1,\n",
              " 1,\n",
              " 1,\n",
              " 1,\n",
              " 1,\n",
              " 1,\n",
              " 1,\n",
              " 1,\n",
              " 1,\n",
              " 1,\n",
              " 1,\n",
              " 1,\n",
              " 1,\n",
              " 1,\n",
              " 1,\n",
              " 1,\n",
              " 1,\n",
              " 1,\n",
              " 1,\n",
              " 1,\n",
              " 1,\n",
              " 1,\n",
              " 1,\n",
              " 1,\n",
              " 1,\n",
              " 1,\n",
              " 1,\n",
              " 1,\n",
              " 1,\n",
              " 1,\n",
              " 1,\n",
              " 1,\n",
              " 1,\n",
              " 1,\n",
              " 1,\n",
              " 1,\n",
              " 1,\n",
              " 1,\n",
              " 1,\n",
              " 1,\n",
              " 1,\n",
              " 1,\n",
              " 1,\n",
              " 1,\n",
              " 1,\n",
              " 1,\n",
              " 1,\n",
              " 1,\n",
              " 1,\n",
              " 1,\n",
              " 1,\n",
              " 1,\n",
              " 1,\n",
              " 1,\n",
              " 1,\n",
              " 1,\n",
              " 1,\n",
              " 1,\n",
              " 1,\n",
              " 1,\n",
              " 1,\n",
              " 1,\n",
              " 1,\n",
              " 1,\n",
              " 1,\n",
              " 1,\n",
              " 1,\n",
              " 1,\n",
              " 1,\n",
              " 0,\n",
              " 0,\n",
              " 0,\n",
              " 0,\n",
              " 0,\n",
              " 0,\n",
              " 0,\n",
              " 0,\n",
              " 0,\n",
              " 0,\n",
              " 0,\n",
              " 0,\n",
              " 0,\n",
              " 0,\n",
              " 0,\n",
              " 0,\n",
              " 0,\n",
              " 0,\n",
              " 0,\n",
              " 0,\n",
              " 0,\n",
              " 0,\n",
              " 0,\n",
              " 0,\n",
              " 0,\n",
              " 0,\n",
              " 0,\n",
              " 0,\n",
              " 0,\n",
              " 0,\n",
              " 0,\n",
              " 0,\n",
              " 0,\n",
              " 0,\n",
              " 0,\n",
              " 0,\n",
              " 0,\n",
              " 0,\n",
              " 0,\n",
              " 0,\n",
              " 0,\n",
              " 0,\n",
              " 0,\n",
              " 0,\n",
              " 0,\n",
              " 0,\n",
              " 0,\n",
              " 0,\n",
              " 0,\n",
              " 0,\n",
              " 0,\n",
              " 0,\n",
              " 0,\n",
              " 0,\n",
              " 0,\n",
              " 0,\n",
              " 0,\n",
              " 0,\n",
              " 0,\n",
              " 0,\n",
              " 0,\n",
              " 0,\n",
              " 0,\n",
              " 0,\n",
              " 0,\n",
              " 0,\n",
              " 0,\n",
              " 0,\n",
              " 0,\n",
              " 0,\n",
              " 0,\n",
              " 0,\n",
              " 0,\n",
              " 0,\n",
              " 0,\n",
              " 0,\n",
              " 0,\n",
              " 0,\n",
              " 0,\n",
              " 0,\n",
              " 0,\n",
              " 0,\n",
              " 0,\n",
              " 0,\n",
              " 0,\n",
              " 0,\n",
              " 0,\n",
              " 0,\n",
              " 0,\n",
              " 0,\n",
              " 0,\n",
              " 0,\n",
              " 0,\n",
              " 0,\n",
              " 0,\n",
              " 0,\n",
              " 0,\n",
              " 0,\n",
              " 0,\n",
              " 0,\n",
              " 0,\n",
              " 0,\n",
              " 0,\n",
              " 0,\n",
              " 0,\n",
              " 0,\n",
              " 0,\n",
              " 0,\n",
              " 0,\n",
              " 0,\n",
              " 0,\n",
              " 0,\n",
              " 0,\n",
              " 0,\n",
              " 0,\n",
              " 0,\n",
              " 0,\n",
              " 0,\n",
              " 0,\n",
              " 0,\n",
              " 0,\n",
              " 0,\n",
              " 0,\n",
              " 0,\n",
              " 0,\n",
              " 0,\n",
              " 0,\n",
              " 0,\n",
              " 0,\n",
              " 0,\n",
              " 0,\n",
              " 0,\n",
              " 0,\n",
              " 0,\n",
              " 0,\n",
              " 0,\n",
              " 0,\n",
              " 0,\n",
              " 0,\n",
              " 0,\n",
              " 0,\n",
              " 0,\n",
              " 0,\n",
              " 0,\n",
              " 0,\n",
              " 0,\n",
              " 0,\n",
              " 0,\n",
              " 0,\n",
              " 0,\n",
              " 0,\n",
              " 0,\n",
              " 0,\n",
              " 0,\n",
              " 0,\n",
              " 0,\n",
              " 0,\n",
              " 0,\n",
              " 0,\n",
              " 0,\n",
              " 0,\n",
              " 0,\n",
              " 0,\n",
              " 0,\n",
              " 0,\n",
              " 0,\n",
              " 0,\n",
              " 0,\n",
              " 0,\n",
              " 0]"
            ]
          },
          "metadata": {
            "tags": []
          },
          "execution_count": 22
        }
      ]
    },
    {
      "cell_type": "code",
      "metadata": {
        "colab": {
          "base_uri": "https://localhost:8080/",
          "height": 767
        },
        "id": "nzQvt1_C9Ftz",
        "outputId": "f2c3bca1-ad82-4d68-92f1-37b4b99eaa57"
      },
      "source": [
        "plt.imshow(X_train[0])\n",
        "plt.show()\n",
        "\n",
        "plt.imshow(X_train[150])\n",
        "plt.show()\n",
        "\n",
        "plt.imshow(X_train[400])\n",
        "plt.show()"
      ],
      "execution_count": 27,
      "outputs": [
        {
          "output_type": "display_data",
          "data": {
            "image/png": "[encoded data removed]",
            "text/plain": [
              "<Figure size 432x288 with 1 Axes>"
            ]
          },
          "metadata": {
            "tags": [],
            "needs_background": "light"
          }
        },
        {
          "output_type": "display_data",
          "data": {
            "image/png": "[encoded data removed]",
            "text/plain": [
              "<Figure size 432x288 with 1 Axes>"
            ]
          },
          "metadata": {
            "tags": [],
            "needs_background": "light"
          }
        },
        {
          "output_type": "display_data",
          "data": {
            "image/png": "[encoded data removed]",
            "text/plain": [
              "<Figure size 432x288 with 1 Axes>"
            ]
          },
          "metadata": {
            "tags": [],
            "needs_background": "light"
          }
        }
      ]
    },
    {
      "cell_type": "code",
      "metadata": {
        "id": "TXFC21Uy_wln"
      },
      "source": [
        "#5-1 test 셋 제작\n",
        "#4. 특정 이미지 배열만 골라 작업( , , 3 )인 것만 고르기. shape 제작\n",
        "#5. ylabel 값 추가해서 shape 제작\n",
        "from PIL import Image\n",
        "import numpy as np\n",
        "import matplotlib.pyplot as plt\n",
        "import os\n",
        "X_test=[]; Y_test=[]\n",
        "작업폴더='/content/drive/My Drive/인공지능실습/한경/미션/images/test/펭수/'\n",
        "\n",
        "fileList=os.listdir(작업폴더)\n",
        "for item in fileList:\n",
        "    img= Image.open(작업폴더 + item)\n",
        "\n",
        "    imgRe=img.resize((50,50))\n",
        "    imgArr=np.array(imgRe)/255\n",
        "    \n",
        "    if np.shape(imgArr) == (50,50,3):\n",
        "        X_test.append(imgArr)\n",
        "        Y_test.append(2)\n",
        "\n",
        "작업폴더='/content/drive/My Drive/인공지능실습/한경/미션/images/test/뽀로로/'\n",
        "\n",
        "fileList=os.listdir(작업폴더)\n",
        "for item in fileList:\n",
        "    img= Image.open(작업폴더 + item)\n",
        "\n",
        "    imgRe=img.resize((50,50))\n",
        "    imgArr=np.array(imgRe)/255\n",
        "    \n",
        "    if np.shape(imgArr) == (50,50,3):\n",
        "        X_test.append(imgArr)\n",
        "        Y_test.append(1)\n",
        "\n",
        "작업폴더='/content/drive/My Drive/인공지능실습/한경/미션/images/test/핑구/'\n",
        "\n",
        "fileList=os.listdir(작업폴더)\n",
        "for item in fileList:\n",
        "    img= Image.open(작업폴더 + item)\n",
        "\n",
        "    imgRe=img.resize((50,50))\n",
        "    imgArr=np.array(imgRe)/255\n",
        "    \n",
        "    if np.shape(imgArr) == (50,50,3):\n",
        "        X_test.append(imgArr)\n",
        "        Y_test.append(0)"
      ],
      "execution_count": 29,
      "outputs": []
    },
    {
      "cell_type": "code",
      "metadata": {
        "colab": {
          "base_uri": "https://localhost:8080/"
        },
        "id": "rf7uQCrK-lVH",
        "outputId": "0516cfcb-83be-49dc-f5fa-e5ec10e636b5"
      },
      "source": [
        "print(np.shape(X_test));print(np.shape(Y_test))"
      ],
      "execution_count": 30,
      "outputs": [
        {
          "output_type": "stream",
          "text": [
            "(117, 50, 50, 3)\n",
            "(117,)\n"
          ],
          "name": "stdout"
        }
      ]
    },
    {
      "cell_type": "code",
      "metadata": {
        "colab": {
          "base_uri": "https://localhost:8080/"
        },
        "id": "LwQWN7fj-IK2",
        "outputId": "8f25a3c5-ba59-43be-a7e7-bd7fd4c659aa"
      },
      "source": [
        "#5-2 y_lable 차원 정리하기. \n",
        "#(441,)를 (441,1)로 바꾸기\n",
        "Y_train_result=np.reshape(Y_train,(-1,1))\n",
        "print(np.shape(Y_train_result))\n",
        "\n",
        "#(117,)를 (117,1)로 바꾸기\n",
        "Y_test_result=np.reshape(Y_test,(-1,1))\n",
        "print(np.shape(Y_test_result))\n"
      ],
      "execution_count": 31,
      "outputs": [
        {
          "output_type": "stream",
          "text": [
            "(441, 1)\n",
            "(117, 1)\n"
          ],
          "name": "stdout"
        }
      ]
    },
    {
      "cell_type": "code",
      "metadata": {
        "id": "FKcJ3zO6_pjy"
      },
      "source": [
        "#6. npz로 저장\n",
        "np.savez('/content/drive/My Drive/인공지능실습/한경/미션/핑구뽀로로펭수',\n",
        "         X_train=X_train, Y_train=Y_train_result, X_test=X_test, Y_test=Y_test_result)\n"
      ],
      "execution_count": null,
      "outputs": []
    },
    {
      "cell_type": "code",
      "metadata": {
        "id": "0TO9fOuS_wV5",
        "colab": {
          "base_uri": "https://localhost:8080/"
        },
        "outputId": "6feb6ce0-a446-4998-c5ea-833d2df76058"
      },
      "source": [
        "#6-1 저장된 npz 불러와서 확인하기\n",
        "imgSet=np.load('/content/drive/My Drive/인공지능실습/한경/미션/핑구뽀로로펭수.npz')\n",
        "list(imgSet)"
      ],
      "execution_count": 33,
      "outputs": [
        {
          "output_type": "execute_result",
          "data": {
            "text/plain": [
              "['X_train', 'Y_train', 'X_test', 'Y_test']"
            ]
          },
          "metadata": {
            "tags": []
          },
          "execution_count": 33
        }
      ]
    },
    {
      "cell_type": "code",
      "metadata": {
        "id": "S-WCZGBL_xhb"
      },
      "source": [
        "X_train=imgSet['X_train']\n",
        "Y_train=imgSet['Y_train']\n",
        "X_test=imgSet['X_test']\n",
        "Y_test=imgSet['Y_test']"
      ],
      "execution_count": 34,
      "outputs": []
    },
    {
      "cell_type": "code",
      "metadata": {
        "colab": {
          "base_uri": "https://localhost:8080/",
          "height": 263
        },
        "id": "ujyxjYt5_1lv",
        "outputId": "f6daad89-07fe-4c4b-8475-29673eb893fb"
      },
      "source": [
        "plt.imshow(np.hstack(X_train[145:155]))\n",
        "plt.show()\n",
        "Y_train[145:155]"
      ],
      "execution_count": 39,
      "outputs": [
        {
          "output_type": "display_data",
          "data": {
            "image/png": "[encoded data removed]",
            "text/plain": [
              "<Figure size 432x288 with 1 Axes>"
            ]
          },
          "metadata": {
            "tags": [],
            "needs_background": "light"
          }
        },
        {
          "output_type": "execute_result",
          "data": {
            "text/plain": [
              "array([[2],\n",
              "       [2],\n",
              "       [2],\n",
              "       [2],\n",
              "       [1],\n",
              "       [1],\n",
              "       [1],\n",
              "       [1],\n",
              "       [1],\n",
              "       [1]])"
            ]
          },
          "metadata": {
            "tags": []
          },
          "execution_count": 39
        }
      ]
    },
    {
      "cell_type": "code",
      "metadata": {
        "id": "gdcJAi-pAS_t"
      },
      "source": [
        "#7. 모델 생성\n",
        "import tensorflow as tf\n",
        "import matplotlib.pyplot as plt\n",
        "import numpy\n",
        "import os\n",
        "\n",
        "from keras.utils import np_utils\n",
        "from keras.models import Sequential\n",
        "from keras.layers import Dense, Dropout, Flatten, Conv2D, MaxPooling2D\n",
        "from keras.callbacks import ModelCheckpoint,EarlyStopping\n"
      ],
      "execution_count": 40,
      "outputs": []
    },
    {
      "cell_type": "code",
      "metadata": {
        "colab": {
          "base_uri": "https://localhost:8080/"
        },
        "id": "11bLyXrsAPiN",
        "outputId": "07accfac-b28c-4602-c57e-8e52a2059a8c"
      },
      "source": [
        "#shape 확인\n",
        "for i in list(imgSet):\n",
        "  print(np.shape(imgSet[i]))"
      ],
      "execution_count": 43,
      "outputs": [
        {
          "output_type": "stream",
          "text": [
            "(441, 50, 50, 3)\n",
            "(441, 1)\n",
            "(117, 50, 50, 3)\n",
            "(117, 1)\n"
          ],
          "name": "stdout"
        }
      ]
    },
    {
      "cell_type": "code",
      "metadata": {
        "colab": {
          "base_uri": "https://localhost:8080/"
        },
        "id": "JfBszPtLA6oN",
        "outputId": "d2d7328a-1ef3-4e0d-931d-b19d85a37ebb"
      },
      "source": [
        "## 스케일링 유무를 확인하기 위해서 X_train과 X_test의 max,min 값을 출력 #최댓값이 1.0 최솟값이 0.0인 것으로 보아 스켈링 된듯.2.0은 y값이므로 무시.. \n",
        "for i in list(imgSet):\n",
        "  print(imgSet[i].max(), imgSet[i].min()) "
      ],
      "execution_count": 45,
      "outputs": [
        {
          "output_type": "stream",
          "text": [
            "1.0 0.0\n",
            "2 0\n",
            "1.0 0.0\n",
            "2 0\n"
          ],
          "name": "stdout"
        }
      ]
    },
    {
      "cell_type": "code",
      "metadata": {
        "id": "reRgH69YBgG4"
      },
      "source": [
        "## Y_train 과 Y_test 값을 원 핫 인코딩 값으로 변경\n",
        "Y_train_oh=np_utils.to_categorical(Y_train)\n",
        "Y_test_oh=np_utils.to_categorical(Y_test)\n"
      ],
      "execution_count": 46,
      "outputs": []
    },
    {
      "cell_type": "code",
      "metadata": {
        "colab": {
          "base_uri": "https://localhost:8080/"
        },
        "id": "ezHuHQBPB5vE",
        "outputId": "b62bb692-e720-44a6-8786-862982724832"
      },
      "source": [
        "#원핫인코딩 결과 맨 마지막 숫자들이 3으로 같아짐\n",
        "## X_train, X_test는 반드시 4개의 dim 이어야 함.\n",
        "print(np.shape(X_train))\n",
        "print(np.shape(Y_train_oh))\n",
        "print(np.shape(X_test))\n",
        "print(np.shape(Y_test_oh))"
      ],
      "execution_count": 47,
      "outputs": [
        {
          "output_type": "stream",
          "text": [
            "(441, 50, 50, 3)\n",
            "(441, 3)\n",
            "(117, 50, 50, 3)\n",
            "(117, 3)\n"
          ],
          "name": "stdout"
        }
      ]
    },
    {
      "cell_type": "code",
      "metadata": {
        "id": "UXUXBRXICDdw"
      },
      "source": [
        "## 컨블루션 신경망의 설정\n",
        "## 모델 성능을 높일 수 있도록 모든 작업을 다 완료한 뒤 다시 튜닝하여 봅니다.\n",
        "model = Sequential()\n",
        "model.add(Conv2D(32, kernel_size=(3, 3), \n",
        "                 input_shape=(50, 50,3), \n",
        "                 activation='relu'))               #위에서 확인한 shape의 숫자를 넣기\n",
        "model.add(Conv2D(64, (3, 3), activation='relu'))\n",
        "model.add(MaxPooling2D(pool_size=2))\n",
        "model.add(Dropout(0.25))                           #없애거나 이걸 더 추가하거나... W값을 없애는 것이라 함.\n",
        "model.add(Flatten())\n",
        "model.add(Dense(128,  activation='relu'))\n",
        "model.add(Dropout(0.5))\n",
        "model.add(Dense(3, activation='softmax'))         #dense: y의 nunique 갯수\n",
        "\n",
        "model.compile(loss='categorical_crossentropy',\n",
        "              optimizer='adam',\n",
        "              metrics=['accuracy'])"
      ],
      "execution_count": 63,
      "outputs": []
    },
    {
      "cell_type": "code",
      "metadata": {
        "id": "TkHwRKXmCL3y"
      },
      "source": [
        "## 모델 최적화 설정\n",
        "## 드라이브 마운트하고 해야함\n",
        "MODEL_DIR = './model_penguin/'         # 모델위치 변경합니다.\n",
        "if not os.path.exists(MODEL_DIR):\n",
        "    os.mkdir(MODEL_DIR)\n",
        "\n",
        "modelpath=\"./model/{epoch:02d}-{val_loss:.4f}.hdf5\"\n",
        "checkpointer = ModelCheckpoint(filepath=modelpath, \n",
        "                               monitor='val_loss', verbose=1, \n",
        "                               save_best_only=True)\n",
        "early_stopping_callback = EarlyStopping(monitor='val_loss', patience=10)"
      ],
      "execution_count": 64,
      "outputs": []
    },
    {
      "cell_type": "code",
      "metadata": {
        "colab": {
          "base_uri": "https://localhost:8080/"
        },
        "id": "e2OwzOfuCWCb",
        "outputId": "6a3e5fd9-6e5d-4e45-9062-cb005491c1ec"
      },
      "source": [
        "## 모델의 실행\n",
        "## batch_size: 한번에 처리하는 데이터 크기. 예를 들어 2,000개의 자료가 있을 때, batch_size를 20으로 하면 20개씩 100번\n",
        "## loss는 에러이기 때문에 작어져야 함.\n",
        "history = model.fit(X_train, Y_train_oh, validation_data=(X_test, Y_test_oh),\n",
        "                    epochs=10, batch_size=1, \n",
        "                    verbose=1,\n",
        "                    callbacks=[early_stopping_callback,checkpointer])"
      ],
      "execution_count": 65,
      "outputs": [
        {
          "output_type": "stream",
          "text": [
            "Epoch 1/10\n",
            "441/441 [==============================] - 57s 5ms/step - loss: 1.1251 - accuracy: 0.3933 - val_loss: 0.8372 - val_accuracy: 0.6154\n",
            "\n",
            "Epoch 00001: val_loss improved from inf to 0.83725, saving model to ./model/01-0.8372.hdf5\n",
            "Epoch 2/10\n",
            "441/441 [==============================] - 1s 3ms/step - loss: 0.7814 - accuracy: 0.7536 - val_loss: 0.7821 - val_accuracy: 0.7436\n",
            "\n",
            "Epoch 00002: val_loss improved from 0.83725 to 0.78214, saving model to ./model/02-0.7821.hdf5\n",
            "Epoch 3/10\n",
            "441/441 [==============================] - 1s 3ms/step - loss: 0.6008 - accuracy: 0.7803 - val_loss: 0.6599 - val_accuracy: 0.7863\n",
            "\n",
            "Epoch 00003: val_loss improved from 0.78214 to 0.65985, saving model to ./model/03-0.6599.hdf5\n",
            "Epoch 4/10\n",
            "441/441 [==============================] - 2s 4ms/step - loss: 0.3562 - accuracy: 0.8852 - val_loss: 0.6207 - val_accuracy: 0.8034\n",
            "\n",
            "Epoch 00004: val_loss improved from 0.65985 to 0.62069, saving model to ./model/04-0.6207.hdf5\n",
            "Epoch 5/10\n",
            "441/441 [==============================] - 1s 3ms/step - loss: 0.2941 - accuracy: 0.9184 - val_loss: 0.6607 - val_accuracy: 0.7778\n",
            "\n",
            "Epoch 00005: val_loss did not improve from 0.62069\n",
            "Epoch 6/10\n",
            "441/441 [==============================] - 2s 4ms/step - loss: 0.1986 - accuracy: 0.9261 - val_loss: 0.9014 - val_accuracy: 0.7863\n",
            "\n",
            "Epoch 00006: val_loss did not improve from 0.62069\n",
            "Epoch 7/10\n",
            "441/441 [==============================] - 1s 3ms/step - loss: 0.2689 - accuracy: 0.9278 - val_loss: 0.9409 - val_accuracy: 0.7863\n",
            "\n",
            "Epoch 00007: val_loss did not improve from 0.62069\n",
            "Epoch 8/10\n",
            "441/441 [==============================] - 2s 5ms/step - loss: 0.1534 - accuracy: 0.9523 - val_loss: 1.0116 - val_accuracy: 0.7692\n",
            "\n",
            "Epoch 00008: val_loss did not improve from 0.62069\n",
            "Epoch 9/10\n",
            "441/441 [==============================] - 2s 4ms/step - loss: 0.0969 - accuracy: 0.9796 - val_loss: 1.0693 - val_accuracy: 0.7692\n",
            "\n",
            "Epoch 00009: val_loss did not improve from 0.62069\n",
            "Epoch 10/10\n",
            "441/441 [==============================] - 1s 3ms/step - loss: 0.0795 - accuracy: 0.9732 - val_loss: 1.0459 - val_accuracy: 0.7863\n",
            "\n",
            "Epoch 00010: val_loss did not improve from 0.62069\n"
          ],
          "name": "stdout"
        }
      ]
    },
    {
      "cell_type": "code",
      "metadata": {
        "colab": {
          "base_uri": "https://localhost:8080/",
          "height": 332
        },
        "id": "0sk8e7qHCsUb",
        "outputId": "20e485a0-7f61-4b7a-b099-9548c38088db"
      },
      "source": [
        "# 테스트 정확도 출력\n",
        "print(\"\\n Test Accuracy: %.4f\" % (model.evaluate(X_test, Y_test_oh)[1]))\n",
        "\n",
        "# 테스트 셋의 오차\n",
        "y_vloss = history.history['val_loss']\n",
        "\n",
        "# 학습셋의 오차\n",
        "y_loss = history.history['loss']\n",
        "\n",
        "# 그래프로 표현\n",
        "x_len = numpy.arange(len(y_loss))\n",
        "plt.plot(x_len, y_vloss, marker='.', c=\"red\", label='Testset_loss')\n",
        "plt.plot(x_len, y_loss, marker='.', c=\"blue\", label='Trainset_loss')\n",
        "\n",
        "# 그래프에 그리드를 주고 레이블을 표시\n",
        "plt.legend(loc='upper right')\n",
        "plt.grid()\n",
        "plt.xlabel('epoch')\n",
        "plt.ylabel('loss')\n",
        "plt.show()"
      ],
      "execution_count": 67,
      "outputs": [
        {
          "output_type": "stream",
          "text": [
            "4/4 [==============================] - 0s 29ms/step - loss: 1.0459 - accuracy: 0.7863\n",
            "\n",
            " Test Accuracy: 0.7863\n"
          ],
          "name": "stdout"
        },
        {
          "output_type": "display_data",
          "data": {
            "image/png": "[encoded data removed]",
            "text/plain": [
              "<Figure size 432x288 with 1 Axes>"
            ]
          },
          "metadata": {
            "tags": [],
            "needs_background": "light"
          }
        }
      ]
    },
    {
      "cell_type": "code",
      "metadata": {
        "colab": {
          "base_uri": "https://localhost:8080/",
          "height": 469
        },
        "id": "Tsu3fk_hDNaO",
        "outputId": "4f154aa9-a6a2-4a03-d660-bf4635c8d601"
      },
      "source": [
        "## 혼돈행렬을 이용한 정확도 평가(모델평가)\n",
        "from sklearn.metrics import classification_report, confusion_matrix\n",
        "import matplotlib.pyplot as plt\n",
        "import seaborn as sns\n",
        "\n",
        "results = model.predict(X_test)\n",
        "\n",
        "#혼돈행렬만들기\n",
        "plt.figure(figsize=(7,7))\n",
        "cm=confusion_matrix(np.argmax(Y_test_oh, axis=-1), np.argmax(results, axis=-1))\n",
        "sns.set(font_scale=2)\n",
        "sns.heatmap(cm, annot=True, fmt='d',cmap='Blues')\n",
        "\n",
        "plt.xlabel('predicated label')\n",
        "plt.ylabel('true label')\n",
        "\n",
        "plt.show()"
      ],
      "execution_count": 69,
      "outputs": [
        {
          "output_type": "display_data",
          "data": {
            "image/png": "[encoded data removed]",
            "text/plain": [
              "<Figure size 504x504 with 2 Axes>"
            ]
          },
          "metadata": {
            "tags": []
          }
        }
      ]
    },
    {
      "cell_type": "code",
      "metadata": {
        "colab": {
          "base_uri": "https://localhost:8080/",
          "height": 338
        },
        "id": "sLnbs5weDRu4",
        "outputId": "1c115823-6635-4447-eeac-a8d61a8c869f"
      },
      "source": [
        "예측=X_test[0:1]\n",
        "print(np.shape(예측))\n",
        "y예측값=model.predict(예측) \n",
        "\n",
        "print(y예측값)\n",
        "print(np.argmax(y예측값)) #0은 핑구 1은 뽀로로 2는 펭수\n",
        "\n",
        "plt.imshow(np.hstack(X_test[0:1]))"
      ],
      "execution_count": 56,
      "outputs": [
        {
          "output_type": "stream",
          "text": [
            "(1, 50, 50, 3)\n",
            "[[0.2911346  0.15600325 0.5528621 ]]\n",
            "2\n"
          ],
          "name": "stdout"
        },
        {
          "output_type": "execute_result",
          "data": {
            "text/plain": [
              "<matplotlib.image.AxesImage at 0x7f01925b2b10>"
            ]
          },
          "metadata": {
            "tags": []
          },
          "execution_count": 56
        },
        {
          "output_type": "display_data",
          "data": {
            "image/png": "[encoded data removed]",
            "text/plain": [
              "<Figure size 432x288 with 1 Axes>"
            ]
          },
          "metadata": {
            "tags": [],
            "needs_background": "light"
          }
        }
      ]
    },
    {
      "cell_type": "code",
      "metadata": {
        "id": "8FVQkcW8DTAO"
      },
      "source": [
        ""
      ],
      "execution_count": null,
      "outputs": []
    },
    {
      "cell_type": "code",
      "metadata": {
        "id": "JvnjAjDdAVkN",
        "colab": {
          "base_uri": "https://localhost:8080/",
          "height": 302
        },
        "outputId": "0cec6a2e-dcc8-4b6c-dfaf-934305f61a66"
      },
      "source": [
        "#8. 모델에 새 사진 넣어서 예측\n",
        "#내가 가져온 사진으로 예측해보기\n",
        "from PIL import Image\n",
        "img=Image.open('/content/drive/My Drive/인공지능실습/한경/미션/핑구핑가.jpg')\n",
        "img=img.resize((50,50))              #이미지 resize\n",
        "plt.imshow(img)\n",
        "img=np.array(img)/255                #최댓값이 1.0이 되도록 스케일 조정\n",
        "img=np.expand_dims(img,0)            #차원확장 함수\n",
        "print(np.argmax(model.predict(img))) #'펭수'로 예측 ==> 틀렸음 ㅋㅋ!\n"
      ],
      "execution_count": 70,
      "outputs": [
        {
          "output_type": "stream",
          "text": [
            "2\n"
          ],
          "name": "stdout"
        },
        {
          "output_type": "display_data",
          "data": {
            "image/png": "[encoded data removed]",
            "text/plain": [
              "<Figure size 432x288 with 1 Axes>"
            ]
          },
          "metadata": {
            "tags": []
          }
        }
      ]
    },
    {
      "cell_type": "code",
      "metadata": {
        "colab": {
          "base_uri": "https://localhost:8080/",
          "height": 302
        },
        "id": "YaFGHZZdH_2Z",
        "outputId": "a96a88ae-9fe1-49d6-cde2-fdca0109cc46"
      },
      "source": [
        "img1=Image.open('/content/drive/My Drive/인공지능실습/한경/미션/펭수짤.jpg')\n",
        "img1=img1.resize((50,50))              #이미지 resize\n",
        "plt.imshow(img1)\n",
        "img1=np.array(img1)/255                #최댓값이 1.0이 되도록 스케일 조정\n",
        "img1=np.expand_dims(img1,0)            #차원확장 함수\n",
        "print(np.argmax(model.predict(img1))) #'펭수'로 예측 ==> 맞음!\n"
      ],
      "execution_count": 71,
      "outputs": [
        {
          "output_type": "stream",
          "text": [
            "2\n"
          ],
          "name": "stdout"
        },
        {
          "output_type": "display_data",
          "data": {
            "image/png": "[encoded data removed]",
            "text/plain": [
              "<Figure size 432x288 with 1 Axes>"
            ]
          },
          "metadata": {
            "tags": []
          }
        }
      ]
    },
    {
      "cell_type": "code",
      "metadata": {
        "colab": {
          "base_uri": "https://localhost:8080/",
          "height": 302
        },
        "id": "ZJ9TZYIEIbAk",
        "outputId": "80fecb6d-6635-4ac2-a23b-41d014aa1c74"
      },
      "source": [
        "img2=Image.open('/content/drive/My Drive/인공지능실습/한경/미션/마스크뽀로로.jpg')\n",
        "img2=img2.resize((50,50))              #이미지 resize\n",
        "plt.imshow(img2)\n",
        "img2=np.array(img2)/255                #최댓값이 1.0이 되도록 스케일 조정\n",
        "img2=np.expand_dims(img2,0)            #차원확장 함수\n",
        "print(np.argmax(model.predict(img2))) #'뽀로로'로 예측 ==> 맞음!\n"
      ],
      "execution_count": 74,
      "outputs": [
        {
          "output_type": "stream",
          "text": [
            "1\n"
          ],
          "name": "stdout"
        },
        {
          "output_type": "display_data",
          "data": {
            "image/png": "[encoded data removed]",
            "text/plain": [
              "<Figure size 432x288 with 1 Axes>"
            ]
          },
          "metadata": {
            "tags": []
          }
        }
      ]
    },
    {
      "cell_type": "code",
      "metadata": {
        "id": "7B_gqCi7AXoa"
      },
      "source": [
        "#모델 저장\n",
        "model.save('펭귄캐릭터구별모델.h5')"
      ],
      "execution_count": 72,
      "outputs": []
    },
    {
      "cell_type": "code",
      "metadata": {
        "id": "R-LSR7YXIJcZ"
      },
      "source": [
        ""
      ],
      "execution_count": null,
      "outputs": []
    }
  ]
}