{
  "nbformat": 4,
  "nbformat_minor": 0,
  "metadata": {
    "colab": {
      "name": "diabetes set(당뇨병 회귀분석).ipynb",
      "provenance": [],
      "collapsed_sections": [],
      "mount_file_id": "1sg3R6ykLfjNAI6aGbDXkkaLz6zGmIfPh",
      "authorship_tag": "ABX9TyOvwLz7uJB/qKV37BXkd/HD",
      "include_colab_link": true
    },
    "kernelspec": {
      "name": "python3",
      "display_name": "Python 3"
    },
    "language_info": {
      "name": "python"
    }
  },
  "cells": [
    {
      "cell_type": "markdown",
      "metadata": {
        "id": "view-in-github",
        "colab_type": "text"
      },
      "source": [
        "<a href=\"https://colab.research.google.com/github/hyo250/gittest/blob/master/diabetes_set(%EB%8B%B9%EB%87%A8%EB%B3%91_%ED%9A%8C%EA%B7%80%EB%B6%84%EC%84%9D).ipynb\" target=\"_parent\"><img src=\"https://colab.research.google.com/assets/colab-badge.svg\" alt=\"Open In Colab\"/></a>"
      ]
    },
    {
      "cell_type": "markdown",
      "metadata": {
        "id": "QrBr1oj_ZE8L"
      },
      "source": [
        "**당뇨병 데이터 셋**"
      ]
    },
    {
      "cell_type": "code",
      "metadata": {
        "colab": {
          "base_uri": "https://localhost:8080/"
        },
        "id": "05x5DXaVYQUP",
        "outputId": "881e729b-7831-468b-cccd-9e563ebf0987"
      },
      "source": [
        "from sklearn.datasets import load_diabetes\n",
        "diabetes = load_diabetes()\n",
        "print(type(diabetes))\n",
        "print(list(diabetes))"
      ],
      "execution_count": 3,
      "outputs": [
        {
          "output_type": "stream",
          "text": [
            "<class 'sklearn.utils.Bunch'>\n",
            "['data', 'target', 'DESCR', 'feature_names', 'data_filename', 'target_filename']\n"
          ],
          "name": "stdout"
        }
      ]
    },
    {
      "cell_type": "code",
      "metadata": {
        "colab": {
          "base_uri": "https://localhost:8080/"
        },
        "id": "RaV9AHjkY0On",
        "outputId": "5a3d5a52-5d82-48d7-de50-8907e5158cb8"
      },
      "source": [
        "diabetes.feature_names #x 변수 확인. diabetes['feature_names']"
      ],
      "execution_count": 5,
      "outputs": [
        {
          "output_type": "execute_result",
          "data": {
            "text/plain": [
              "['age', 'sex', 'bmi', 'bp', 's1', 's2', 's3', 's4', 's5', 's6']"
            ]
          },
          "metadata": {
            "tags": []
          },
          "execution_count": 5
        }
      ]
    },
    {
      "cell_type": "code",
      "metadata": {
        "colab": {
          "base_uri": "https://localhost:8080/"
        },
        "id": "r-APJBW5ZReN",
        "outputId": "fd300bb6-e1aa-4272-f7d8-0c2c09edb25d"
      },
      "source": [
        "diabetes.target #y변수 확인. 당뇨 지수."
      ],
      "execution_count": 10,
      "outputs": [
        {
          "output_type": "execute_result",
          "data": {
            "text/plain": [
              "array([151.,  75., 141., 206., 135.,  97., 138.,  63., 110., 310., 101.,\n",
              "        69., 179., 185., 118., 171., 166., 144.,  97., 168.,  68.,  49.,\n",
              "        68., 245., 184., 202., 137.,  85., 131., 283., 129.,  59., 341.,\n",
              "        87.,  65., 102., 265., 276., 252.,  90., 100.,  55.,  61.,  92.,\n",
              "       259.,  53., 190., 142.,  75., 142., 155., 225.,  59., 104., 182.,\n",
              "       128.,  52.,  37., 170., 170.,  61., 144.,  52., 128.,  71., 163.,\n",
              "       150.,  97., 160., 178.,  48., 270., 202., 111.,  85.,  42., 170.,\n",
              "       200., 252., 113., 143.,  51.,  52., 210.,  65., 141.,  55., 134.,\n",
              "        42., 111.,  98., 164.,  48.,  96.,  90., 162., 150., 279.,  92.,\n",
              "        83., 128., 102., 302., 198.,  95.,  53., 134., 144., 232.,  81.,\n",
              "       104.,  59., 246., 297., 258., 229., 275., 281., 179., 200., 200.,\n",
              "       173., 180.,  84., 121., 161.,  99., 109., 115., 268., 274., 158.,\n",
              "       107.,  83., 103., 272.,  85., 280., 336., 281., 118., 317., 235.,\n",
              "        60., 174., 259., 178., 128.,  96., 126., 288.,  88., 292.,  71.,\n",
              "       197., 186.,  25.,  84.,  96., 195.,  53., 217., 172., 131., 214.,\n",
              "        59.,  70., 220., 268., 152.,  47.,  74., 295., 101., 151., 127.,\n",
              "       237., 225.,  81., 151., 107.,  64., 138., 185., 265., 101., 137.,\n",
              "       143., 141.,  79., 292., 178.,  91., 116.,  86., 122.,  72., 129.,\n",
              "       142.,  90., 158.,  39., 196., 222., 277.,  99., 196., 202., 155.,\n",
              "        77., 191.,  70.,  73.,  49.,  65., 263., 248., 296., 214., 185.,\n",
              "        78.,  93., 252., 150.,  77., 208.,  77., 108., 160.,  53., 220.,\n",
              "       154., 259.,  90., 246., 124.,  67.,  72., 257., 262., 275., 177.,\n",
              "        71.,  47., 187., 125.,  78.,  51., 258., 215., 303., 243.,  91.,\n",
              "       150., 310., 153., 346.,  63.,  89.,  50.,  39., 103., 308., 116.,\n",
              "       145.,  74.,  45., 115., 264.,  87., 202., 127., 182., 241.,  66.,\n",
              "        94., 283.,  64., 102., 200., 265.,  94., 230., 181., 156., 233.,\n",
              "        60., 219.,  80.,  68., 332., 248.,  84., 200.,  55.,  85.,  89.,\n",
              "        31., 129.,  83., 275.,  65., 198., 236., 253., 124.,  44., 172.,\n",
              "       114., 142., 109., 180., 144., 163., 147.,  97., 220., 190., 109.,\n",
              "       191., 122., 230., 242., 248., 249., 192., 131., 237.,  78., 135.,\n",
              "       244., 199., 270., 164.,  72.,  96., 306.,  91., 214.,  95., 216.,\n",
              "       263., 178., 113., 200., 139., 139.,  88., 148.,  88., 243.,  71.,\n",
              "        77., 109., 272.,  60.,  54., 221.,  90., 311., 281., 182., 321.,\n",
              "        58., 262., 206., 233., 242., 123., 167.,  63., 197.,  71., 168.,\n",
              "       140., 217., 121., 235., 245.,  40.,  52., 104., 132.,  88.,  69.,\n",
              "       219.,  72., 201., 110.,  51., 277.,  63., 118.,  69., 273., 258.,\n",
              "        43., 198., 242., 232., 175.,  93., 168., 275., 293., 281.,  72.,\n",
              "       140., 189., 181., 209., 136., 261., 113., 131., 174., 257.,  55.,\n",
              "        84.,  42., 146., 212., 233.,  91., 111., 152., 120.,  67., 310.,\n",
              "        94., 183.,  66., 173.,  72.,  49.,  64.,  48., 178., 104., 132.,\n",
              "       220.,  57.])"
            ]
          },
          "metadata": {
            "tags": []
          },
          "execution_count": 10
        }
      ]
    },
    {
      "cell_type": "code",
      "metadata": {
        "id": "FtycULtNZe8P"
      },
      "source": [
        "import pandas as pd\n",
        "import numpy as np\n",
        "import matplotlib.pyplot as plt\n",
        "import seaborn as sns"
      ],
      "execution_count": 8,
      "outputs": []
    },
    {
      "cell_type": "code",
      "metadata": {
        "colab": {
          "base_uri": "https://localhost:8080/"
        },
        "id": "4rDSN8eXZ0Q7",
        "outputId": "81e840cb-4af2-44c0-e321-e7645319e036"
      },
      "source": [
        "print(np.shape(diabetes.data))\n",
        "print(np.shape(diabetes.target))"
      ],
      "execution_count": 11,
      "outputs": [
        {
          "output_type": "stream",
          "text": [
            "(442, 10)\n",
            "(442,)\n"
          ],
          "name": "stdout"
        }
      ]
    },
    {
      "cell_type": "code",
      "metadata": {
        "id": "vcdfsfYgZ5u4"
      },
      "source": [
        "df0=pd.DataFrame(diabetes.data, columns=list(diabetes.feature_names))\n",
        "df=pd.DataFrame(diabetes.target)\n",
        "\n",
        "df.to_csv('data/target.csv', index=False)\n",
        "df0.to_csv('data/diabetes_data.csv', index=False)"
      ],
      "execution_count": 22,
      "outputs": []
    },
    {
      "cell_type": "code",
      "metadata": {
        "colab": {
          "base_uri": "https://localhost:8080/"
        },
        "id": "mAFiSelRcHZi",
        "outputId": "5a3d5a52-5d82-48d7-de50-8907e5158cb8"
      },
      "source": [
        "diabetes.feature_names #x 변수 확인. diabetes['feature_names']"
      ],
      "execution_count": null,
      "outputs": [
        {
          "output_type": "execute_result",
          "data": {
            "text/plain": [
              "['age', 'sex', 'bmi', 'bp', 's1', 's2', 's3', 's4', 's5', 's6']"
            ]
          },
          "metadata": {
            "tags": []
          },
          "execution_count": 5
        }
      ]
    },
    {
      "cell_type": "code",
      "metadata": {
        "colab": {
          "base_uri": "https://localhost:8080/"
        },
        "id": "JjyY-jeycGKf",
        "outputId": "5a3d5a52-5d82-48d7-de50-8907e5158cb8"
      },
      "source": [
        "diabetes.feature_names #x 변수 확인. diabetes['feature_names']"
      ],
      "execution_count": null,
      "outputs": [
        {
          "output_type": "execute_result",
          "data": {
            "text/plain": [
              "['age', 'sex', 'bmi', 'bp', 's1', 's2', 's3', 's4', 's5', 's6']"
            ]
          },
          "metadata": {
            "tags": []
          },
          "execution_count": 5
        }
      ]
    },
    {
      "cell_type": "code",
      "metadata": {
        "colab": {
          "base_uri": "https://localhost:8080/"
        },
        "id": "IDKFN5c1amrA",
        "outputId": "b57c24ca-8269-41e5-ca0a-3db96c789298"
      },
      "source": [
        "df1=pd.read_csv('data/target.csv')\n",
        "df0=pd.read_csv('data/diabetes_data.csv')\n",
        "print(df1.head())\n",
        "print(df0.head())"
      ],
      "execution_count": 23,
      "outputs": [
        {
          "output_type": "stream",
          "text": [
            "       0\n",
            "0  151.0\n",
            "1   75.0\n",
            "2  141.0\n",
            "3  206.0\n",
            "4  135.0\n",
            "        age       sex       bmi  ...        s4        s5        s6\n",
            "0  0.038076  0.050680  0.061696  ... -0.002592  0.019908 -0.017646\n",
            "1 -0.001882 -0.044642 -0.051474  ... -0.039493 -0.068330 -0.092204\n",
            "2  0.085299  0.050680  0.044451  ... -0.002592  0.002864 -0.025930\n",
            "3 -0.089063 -0.044642 -0.011595  ...  0.034309  0.022692 -0.009362\n",
            "4  0.005383 -0.044642 -0.036385  ... -0.002592 -0.031991 -0.046641\n",
            "\n",
            "[5 rows x 10 columns]\n"
          ],
          "name": "stdout"
        }
      ]
    },
    {
      "cell_type": "code",
      "metadata": {
        "id": "TLAxsVqwbw3q"
      },
      "source": [
        "dia_df=pd.concat((df0, df1), axis=1)\n",
        "dia_df.head()\n",
        "dia_df.to_csv('data/diabetes.csv')"
      ],
      "execution_count": 29,
      "outputs": []
    },
    {
      "cell_type": "code",
      "metadata": {
        "colab": {
          "base_uri": "https://localhost:8080/",
          "height": 204
        },
        "id": "UuplWcKTccIT",
        "outputId": "f1275422-5c5b-4468-9646-12911d662443"
      },
      "source": [
        "dia_df.rename(columns={'0':'당뇨지수'}, inplace=True)\n",
        "dia_df.head()\n"
      ],
      "execution_count": 32,
      "outputs": [
        {
          "output_type": "execute_result",
          "data": {
            "text/html": [
              "<div>\n",
              "<style scoped>\n",
              "    .dataframe tbody tr th:only-of-type {\n",
              "        vertical-align: middle;\n",
              "    }\n",
              "\n",
              "    .dataframe tbody tr th {\n",
              "        vertical-align: top;\n",
              "    }\n",
              "\n",
              "    .dataframe thead th {\n",
              "        text-align: right;\n",
              "    }\n",
              "</style>\n",
              "<table border=\"1\" class=\"dataframe\">\n",
              "  <thead>\n",
              "    <tr style=\"text-align: right;\">\n",
              "      <th></th>\n",
              "      <th>age</th>\n",
              "      <th>sex</th>\n",
              "      <th>bmi</th>\n",
              "      <th>bp</th>\n",
              "      <th>s1</th>\n",
              "      <th>s2</th>\n",
              "      <th>s3</th>\n",
              "      <th>s4</th>\n",
              "      <th>s5</th>\n",
              "      <th>s6</th>\n",
              "      <th>당뇨지수</th>\n",
              "    </tr>\n",
              "  </thead>\n",
              "  <tbody>\n",
              "    <tr>\n",
              "      <th>0</th>\n",
              "      <td>0.038076</td>\n",
              "      <td>0.050680</td>\n",
              "      <td>0.061696</td>\n",
              "      <td>0.021872</td>\n",
              "      <td>-0.044223</td>\n",
              "      <td>-0.034821</td>\n",
              "      <td>-0.043401</td>\n",
              "      <td>-0.002592</td>\n",
              "      <td>0.019908</td>\n",
              "      <td>-0.017646</td>\n",
              "      <td>151.0</td>\n",
              "    </tr>\n",
              "    <tr>\n",
              "      <th>1</th>\n",
              "      <td>-0.001882</td>\n",
              "      <td>-0.044642</td>\n",
              "      <td>-0.051474</td>\n",
              "      <td>-0.026328</td>\n",
              "      <td>-0.008449</td>\n",
              "      <td>-0.019163</td>\n",
              "      <td>0.074412</td>\n",
              "      <td>-0.039493</td>\n",
              "      <td>-0.068330</td>\n",
              "      <td>-0.092204</td>\n",
              "      <td>75.0</td>\n",
              "    </tr>\n",
              "    <tr>\n",
              "      <th>2</th>\n",
              "      <td>0.085299</td>\n",
              "      <td>0.050680</td>\n",
              "      <td>0.044451</td>\n",
              "      <td>-0.005671</td>\n",
              "      <td>-0.045599</td>\n",
              "      <td>-0.034194</td>\n",
              "      <td>-0.032356</td>\n",
              "      <td>-0.002592</td>\n",
              "      <td>0.002864</td>\n",
              "      <td>-0.025930</td>\n",
              "      <td>141.0</td>\n",
              "    </tr>\n",
              "    <tr>\n",
              "      <th>3</th>\n",
              "      <td>-0.089063</td>\n",
              "      <td>-0.044642</td>\n",
              "      <td>-0.011595</td>\n",
              "      <td>-0.036656</td>\n",
              "      <td>0.012191</td>\n",
              "      <td>0.024991</td>\n",
              "      <td>-0.036038</td>\n",
              "      <td>0.034309</td>\n",
              "      <td>0.022692</td>\n",
              "      <td>-0.009362</td>\n",
              "      <td>206.0</td>\n",
              "    </tr>\n",
              "    <tr>\n",
              "      <th>4</th>\n",
              "      <td>0.005383</td>\n",
              "      <td>-0.044642</td>\n",
              "      <td>-0.036385</td>\n",
              "      <td>0.021872</td>\n",
              "      <td>0.003935</td>\n",
              "      <td>0.015596</td>\n",
              "      <td>0.008142</td>\n",
              "      <td>-0.002592</td>\n",
              "      <td>-0.031991</td>\n",
              "      <td>-0.046641</td>\n",
              "      <td>135.0</td>\n",
              "    </tr>\n",
              "  </tbody>\n",
              "</table>\n",
              "</div>"
            ],
            "text/plain": [
              "        age       sex       bmi        bp  ...        s4        s5        s6   당뇨지수\n",
              "0  0.038076  0.050680  0.061696  0.021872  ... -0.002592  0.019908 -0.017646  151.0\n",
              "1 -0.001882 -0.044642 -0.051474 -0.026328  ... -0.039493 -0.068330 -0.092204   75.0\n",
              "2  0.085299  0.050680  0.044451 -0.005671  ... -0.002592  0.002864 -0.025930  141.0\n",
              "3 -0.089063 -0.044642 -0.011595 -0.036656  ...  0.034309  0.022692 -0.009362  206.0\n",
              "4  0.005383 -0.044642 -0.036385  0.021872  ... -0.002592 -0.031991 -0.046641  135.0\n",
              "\n",
              "[5 rows x 11 columns]"
            ]
          },
          "metadata": {
            "tags": []
          },
          "execution_count": 32
        }
      ]
    },
    {
      "cell_type": "code",
      "metadata": {
        "colab": {
          "base_uri": "https://localhost:8080/"
        },
        "id": "Dsb77LKTgsJG",
        "outputId": "8a68eb3c-3670-4525-a124-8142f7baf25a"
      },
      "source": [
        "dia_df.shape"
      ],
      "execution_count": 33,
      "outputs": [
        {
          "output_type": "execute_result",
          "data": {
            "text/plain": [
              "(442, 11)"
            ]
          },
          "metadata": {
            "tags": []
          },
          "execution_count": 33
        }
      ]
    },
    {
      "cell_type": "code",
      "metadata": {
        "id": "ErBvU8JAcyKf"
      },
      "source": [
        "from sklearn.linear_model import LinearRegression\n",
        "from sklearn.model_selection import train_test_split\n",
        "lr=LinearRegression()\n",
        "x=dia_df['bmi'].values.reshape(-1,1)\n",
        "y=dia_df['당뇨지수'].values.reshape(-1,1)\n",
        "\n",
        "X_train, X_test, y_train, y_test= train_test_split(x, y, test_size=0.3, random_state=100)"
      ],
      "execution_count": 42,
      "outputs": []
    },
    {
      "cell_type": "code",
      "metadata": {
        "colab": {
          "base_uri": "https://localhost:8080/"
        },
        "id": "WGdX39NCg46s",
        "outputId": "71c28f79-9f36-4142-88e9-00efeab83fd3"
      },
      "source": [
        "X_train.shape"
      ],
      "execution_count": 43,
      "outputs": [
        {
          "output_type": "execute_result",
          "data": {
            "text/plain": [
              "(309, 1)"
            ]
          },
          "metadata": {
            "tags": []
          },
          "execution_count": 43
        }
      ]
    },
    {
      "cell_type": "code",
      "metadata": {
        "colab": {
          "base_uri": "https://localhost:8080/"
        },
        "id": "sB0k_J2shRxC",
        "outputId": "6731bfd5-22d5-4ed2-dfbd-0836f67a17b0"
      },
      "source": [
        "model=lr.fit(X_train, y_train)\n",
        "pred=model.predict(X_test)\n",
        "pred.shape"
      ],
      "execution_count": 51,
      "outputs": [
        {
          "output_type": "execute_result",
          "data": {
            "text/plain": [
              "(133, 1)"
            ]
          },
          "metadata": {
            "tags": []
          },
          "execution_count": 51
        }
      ]
    },
    {
      "cell_type": "code",
      "metadata": {
        "colab": {
          "base_uri": "https://localhost:8080/"
        },
        "id": "QViYV0ugiFU_",
        "outputId": "4ab1aa89-4672-4c29-bbac-6b55d09bbb00"
      },
      "source": [
        "y_test.shape"
      ],
      "execution_count": 52,
      "outputs": [
        {
          "output_type": "execute_result",
          "data": {
            "text/plain": [
              "(133, 1)"
            ]
          },
          "metadata": {
            "tags": []
          },
          "execution_count": 52
        }
      ]
    },
    {
      "cell_type": "code",
      "metadata": {
        "colab": {
          "base_uri": "https://localhost:8080/"
        },
        "id": "DaM8_EAkilam",
        "outputId": "acd21535-dd09-45d1-d801-88e398204ca2"
      },
      "source": [
        "print(model.coef_) #회귀분석에서 기울기\n",
        "print(model.intercept_) #절편"
      ],
      "execution_count": 55,
      "outputs": [
        {
          "output_type": "stream",
          "text": [
            "[[967.87658949]]\n",
            "[154.23494335]\n"
          ],
          "name": "stdout"
        }
      ]
    },
    {
      "cell_type": "code",
      "metadata": {
        "colab": {
          "base_uri": "https://localhost:8080/",
          "height": 265
        },
        "id": "d9KWxjO-i1jM",
        "outputId": "d36d41c8-19a1-498d-efe1-a88ad6675cdf"
      },
      "source": [
        "plt.plot(x, y, 'o')\n",
        "plt.plot(x,model.predict(x.reshape(-1,1)))\n",
        "plt.show()"
      ],
      "execution_count": 57,
      "outputs": [
        {
          "output_type": "display_data",
          "data": {
            "image/png": "[encoded data removed]",
            "text/plain": [
              "<Figure size 432x288 with 1 Axes>"
            ]
          },
          "metadata": {
            "tags": [],
            "needs_background": "light"
          }
        }
      ]
    },
    {
      "cell_type": "markdown",
      "metadata": {
        "id": "MpJGKazBo1Jv"
      },
      "source": [
        "**분류와 예측에서 정확도를 평가하는 지표는 다음과 같음 **"
      ]
    },
    {
      "cell_type": "markdown",
      "metadata": {
        "id": "OgtEtodmo0-t"
      },
      "source": [
        ""
      ]
    },
    {
      "cell_type": "markdown",
      "metadata": {
        "id": "8UDo1pPYomUT"
      },
      "source": [
        "![캡처.PNG](data:image/png;base64,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)"
      ]
    },
    {
      "cell_type": "markdown",
      "metadata": {
        "id": "UTVVxDIKozsF"
      },
      "source": [
        ""
      ]
    },
    {
      "cell_type": "code",
      "metadata": {
        "colab": {
          "base_uri": "https://localhost:8080/"
        },
        "id": "X6mIq_EAhiY2",
        "outputId": "01ca68fb-f397-41ed-faea-68696d1b32a5"
      },
      "source": [
        "#회귀분석에서는 이런것으로 정확도를 평가합니다~ 오차가 최소화가 될것!!!\n",
        "\n",
        "from sklearn.metrics import mean_absolute_error\n",
        "MSE=mean_absolute_error(y_test, pred)\n",
        "RMSE=np.sqrt(MSE)\n",
        "print(MSE);print(RMSE)"
      ],
      "execution_count": 61,
      "outputs": [
        {
          "output_type": "stream",
          "text": [
            "48.15683861520791\n",
            "6.939512851433299\n"
          ],
          "name": "stdout"
        }
      ]
    },
    {
      "cell_type": "code",
      "metadata": {
        "id": "E0p8k0VWh59r"
      },
      "source": [
        ""
      ],
      "execution_count": null,
      "outputs": []
    }
  ]
}