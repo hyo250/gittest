{
  "nbformat": 4,
  "nbformat_minor": 0,
  "metadata": {
    "colab": {
      "name": "서울시 모기발생상황 지표 예측.ipynb",
      "provenance": [],
      "collapsed_sections": [],
      "authorship_tag": "ABX9TyMJLImYW1ZluT5X9Sj8KZZ2",
      "include_colab_link": true
    },
    "kernelspec": {
      "name": "python3",
      "display_name": "Python 3"
    },
    "language_info": {
      "name": "python"
    }
  },
  "cells": [
    {
      "cell_type": "markdown",
      "metadata": {
        "id": "view-in-github",
        "colab_type": "text"
      },
      "source": [
        "<a href=\"https://colab.research.google.com/github/hyo250/gittest/blob/master/%EC%84%9C%EC%9A%B8%EC%8B%9C_%EB%AA%A8%EA%B8%B0%EB%B0%9C%EC%83%9D%EC%83%81%ED%99%A9_%EC%A7%80%ED%91%9C_%EC%98%88%EC%B8%A1.ipynb\" target=\"_parent\"><img src=\"https://colab.research.google.com/assets/colab-badge.svg\" alt=\"Open In Colab\"/></a>"
      ]
    },
    {
      "cell_type": "code",
      "metadata": {
        "id": "Osvv1pJkidoD"
      },
      "source": [
        "import pandas as pd\n",
        "import numpy as np\n",
        "import matplotlib.pyplot as plt\n",
        "import seaborn as sns"
      ],
      "execution_count": 1,
      "outputs": []
    },
    {
      "cell_type": "code",
      "metadata": {
        "id": "gSr62wxHiUa5"
      },
      "source": [
        "train_x =pd.read_csv('https://raw.githubusercontent.com/Datamanim/mosquito/main/train_x.csv',encoding='euc-kr')\n",
        "train_y =pd.read_csv('https://raw.githubusercontent.com/Datamanim/mosquito/main/train_y.csv',encoding='euc-kr')\n",
        "test_x =pd.read_csv('https://raw.githubusercontent.com/Datamanim/mosquito/main/test_x.csv',encoding='euc-kr')\n",
        "sub    =pd.read_csv('https://raw.githubusercontent.com/Datamanim/mosquito/main/sub.csv')"
      ],
      "execution_count": 2,
      "outputs": []
    },
    {
      "cell_type": "code",
      "metadata": {
        "id": "k562Agr5iwkG"
      },
      "source": [
        "#@title  2016년~ 2019년까지의 일별 모기지수 데이터를 온도,강수량 데이터를 통해 예측해본다. 평가지표는 r2 score\n"
      ],
      "execution_count": 4,
      "outputs": []
    },
    {
      "cell_type": "code",
      "metadata": {
        "colab": {
          "base_uri": "https://localhost:8080/",
          "height": 204
        },
        "id": "RYQSgHzyjPYB",
        "outputId": "5c120110-4a97-4c7e-8eda-1462064f52d2"
      },
      "source": [
        "train_x.head()"
      ],
      "execution_count": 5,
      "outputs": [
        {
          "output_type": "execute_result",
          "data": {
            "text/html": [
              "<div>\n",
              "<style scoped>\n",
              "    .dataframe tbody tr th:only-of-type {\n",
              "        vertical-align: middle;\n",
              "    }\n",
              "\n",
              "    .dataframe tbody tr th {\n",
              "        vertical-align: top;\n",
              "    }\n",
              "\n",
              "    .dataframe thead th {\n",
              "        text-align: right;\n",
              "    }\n",
              "</style>\n",
              "<table border=\"1\" class=\"dataframe\">\n",
              "  <thead>\n",
              "    <tr style=\"text-align: right;\">\n",
              "      <th></th>\n",
              "      <th>date</th>\n",
              "      <th>강수량(mm)</th>\n",
              "      <th>평균기온(℃)</th>\n",
              "      <th>최저기온(℃)</th>\n",
              "      <th>최고기온(℃)</th>\n",
              "    </tr>\n",
              "  </thead>\n",
              "  <tbody>\n",
              "    <tr>\n",
              "      <th>0</th>\n",
              "      <td>2019-12-31</td>\n",
              "      <td>0.0</td>\n",
              "      <td>-7.9</td>\n",
              "      <td>-10.9</td>\n",
              "      <td>-4.5</td>\n",
              "    </tr>\n",
              "    <tr>\n",
              "      <th>1</th>\n",
              "      <td>2019-12-30</td>\n",
              "      <td>0.4</td>\n",
              "      <td>2.7</td>\n",
              "      <td>-5.7</td>\n",
              "      <td>6.8</td>\n",
              "    </tr>\n",
              "    <tr>\n",
              "      <th>2</th>\n",
              "      <td>2019-12-29</td>\n",
              "      <td>1.4</td>\n",
              "      <td>3.8</td>\n",
              "      <td>1.1</td>\n",
              "      <td>6.2</td>\n",
              "    </tr>\n",
              "    <tr>\n",
              "      <th>3</th>\n",
              "      <td>2019-12-27</td>\n",
              "      <td>0.0</td>\n",
              "      <td>-1.7</td>\n",
              "      <td>-4.6</td>\n",
              "      <td>2.6</td>\n",
              "    </tr>\n",
              "    <tr>\n",
              "      <th>4</th>\n",
              "      <td>2019-12-25</td>\n",
              "      <td>0.0</td>\n",
              "      <td>2.0</td>\n",
              "      <td>-2.7</td>\n",
              "      <td>6.6</td>\n",
              "    </tr>\n",
              "  </tbody>\n",
              "</table>\n",
              "</div>"
            ],
            "text/plain": [
              "         date  강수량(mm)  평균기온(℃)  최저기온(℃)  최고기온(℃)\n",
              "0  2019-12-31      0.0     -7.9    -10.9     -4.5\n",
              "1  2019-12-30      0.4      2.7     -5.7      6.8\n",
              "2  2019-12-29      1.4      3.8      1.1      6.2\n",
              "3  2019-12-27      0.0     -1.7     -4.6      2.6\n",
              "4  2019-12-25      0.0      2.0     -2.7      6.6"
            ]
          },
          "metadata": {
            "tags": []
          },
          "execution_count": 5
        }
      ]
    },
    {
      "cell_type": "code",
      "metadata": {
        "colab": {
          "base_uri": "https://localhost:8080/",
          "height": 204
        },
        "id": "G6t4aGNqjSAA",
        "outputId": "6ff3c505-93e8-404d-d93a-f3bb18f1dc13"
      },
      "source": [
        "train_y.head()"
      ],
      "execution_count": 6,
      "outputs": [
        {
          "output_type": "execute_result",
          "data": {
            "text/html": [
              "<div>\n",
              "<style scoped>\n",
              "    .dataframe tbody tr th:only-of-type {\n",
              "        vertical-align: middle;\n",
              "    }\n",
              "\n",
              "    .dataframe tbody tr th {\n",
              "        vertical-align: top;\n",
              "    }\n",
              "\n",
              "    .dataframe thead th {\n",
              "        text-align: right;\n",
              "    }\n",
              "</style>\n",
              "<table border=\"1\" class=\"dataframe\">\n",
              "  <thead>\n",
              "    <tr style=\"text-align: right;\">\n",
              "      <th></th>\n",
              "      <th>date</th>\n",
              "      <th>mosquito_ratio</th>\n",
              "    </tr>\n",
              "  </thead>\n",
              "  <tbody>\n",
              "    <tr>\n",
              "      <th>0</th>\n",
              "      <td>2019-12-31</td>\n",
              "      <td>5.5</td>\n",
              "    </tr>\n",
              "    <tr>\n",
              "      <th>1</th>\n",
              "      <td>2019-12-30</td>\n",
              "      <td>5.5</td>\n",
              "    </tr>\n",
              "    <tr>\n",
              "      <th>2</th>\n",
              "      <td>2019-12-29</td>\n",
              "      <td>5.5</td>\n",
              "    </tr>\n",
              "    <tr>\n",
              "      <th>3</th>\n",
              "      <td>2019-12-27</td>\n",
              "      <td>5.5</td>\n",
              "    </tr>\n",
              "    <tr>\n",
              "      <th>4</th>\n",
              "      <td>2019-12-25</td>\n",
              "      <td>5.5</td>\n",
              "    </tr>\n",
              "  </tbody>\n",
              "</table>\n",
              "</div>"
            ],
            "text/plain": [
              "         date  mosquito_ratio\n",
              "0  2019-12-31             5.5\n",
              "1  2019-12-30             5.5\n",
              "2  2019-12-29             5.5\n",
              "3  2019-12-27             5.5\n",
              "4  2019-12-25             5.5"
            ]
          },
          "metadata": {
            "tags": []
          },
          "execution_count": 6
        }
      ]
    },
    {
      "cell_type": "code",
      "metadata": {
        "colab": {
          "base_uri": "https://localhost:8080/",
          "height": 204
        },
        "id": "ZNHvBflnjUY5",
        "outputId": "bb148705-6768-4d4d-c70b-1b9d2e2c9478"
      },
      "source": [
        "test_x.head()"
      ],
      "execution_count": 8,
      "outputs": [
        {
          "output_type": "execute_result",
          "data": {
            "text/html": [
              "<div>\n",
              "<style scoped>\n",
              "    .dataframe tbody tr th:only-of-type {\n",
              "        vertical-align: middle;\n",
              "    }\n",
              "\n",
              "    .dataframe tbody tr th {\n",
              "        vertical-align: top;\n",
              "    }\n",
              "\n",
              "    .dataframe thead th {\n",
              "        text-align: right;\n",
              "    }\n",
              "</style>\n",
              "<table border=\"1\" class=\"dataframe\">\n",
              "  <thead>\n",
              "    <tr style=\"text-align: right;\">\n",
              "      <th></th>\n",
              "      <th>date</th>\n",
              "      <th>강수량(mm)</th>\n",
              "      <th>평균기온(℃)</th>\n",
              "      <th>최저기온(℃)</th>\n",
              "      <th>최고기온(℃)</th>\n",
              "    </tr>\n",
              "  </thead>\n",
              "  <tbody>\n",
              "    <tr>\n",
              "      <th>0</th>\n",
              "      <td>2016-05-01</td>\n",
              "      <td>0.0</td>\n",
              "      <td>18.8</td>\n",
              "      <td>12.2</td>\n",
              "      <td>26.0</td>\n",
              "    </tr>\n",
              "    <tr>\n",
              "      <th>1</th>\n",
              "      <td>2016-05-25</td>\n",
              "      <td>0.0</td>\n",
              "      <td>19.7</td>\n",
              "      <td>15.3</td>\n",
              "      <td>24.4</td>\n",
              "    </tr>\n",
              "    <tr>\n",
              "      <th>2</th>\n",
              "      <td>2016-06-06</td>\n",
              "      <td>0.0</td>\n",
              "      <td>23.3</td>\n",
              "      <td>20.8</td>\n",
              "      <td>28.4</td>\n",
              "    </tr>\n",
              "    <tr>\n",
              "      <th>3</th>\n",
              "      <td>2016-06-09</td>\n",
              "      <td>0.0</td>\n",
              "      <td>24.1</td>\n",
              "      <td>17.8</td>\n",
              "      <td>31.3</td>\n",
              "    </tr>\n",
              "    <tr>\n",
              "      <th>4</th>\n",
              "      <td>2016-06-10</td>\n",
              "      <td>0.0</td>\n",
              "      <td>24.6</td>\n",
              "      <td>20.2</td>\n",
              "      <td>31.3</td>\n",
              "    </tr>\n",
              "  </tbody>\n",
              "</table>\n",
              "</div>"
            ],
            "text/plain": [
              "         date  강수량(mm)  평균기온(℃)  최저기온(℃)  최고기온(℃)\n",
              "0  2016-05-01      0.0     18.8     12.2     26.0\n",
              "1  2016-05-25      0.0     19.7     15.3     24.4\n",
              "2  2016-06-06      0.0     23.3     20.8     28.4\n",
              "3  2016-06-09      0.0     24.1     17.8     31.3\n",
              "4  2016-06-10      0.0     24.6     20.2     31.3"
            ]
          },
          "metadata": {
            "tags": []
          },
          "execution_count": 8
        }
      ]
    },
    {
      "cell_type": "code",
      "metadata": {
        "colab": {
          "base_uri": "https://localhost:8080/"
        },
        "id": "f3OX54u_p3aw",
        "outputId": "bd913c05-4855-44d3-f822-f0398bab9341"
      },
      "source": [
        "pd.options.display.max_rows"
      ],
      "execution_count": 16,
      "outputs": [
        {
          "output_type": "execute_result",
          "data": {
            "text/plain": [
              "60"
            ]
          },
          "metadata": {
            "tags": []
          },
          "execution_count": 16
        }
      ]
    },
    {
      "cell_type": "code",
      "metadata": {
        "colab": {
          "base_uri": "https://localhost:8080/",
          "height": 418
        },
        "id": "39b65x_cjafQ",
        "outputId": "746b0f9a-5591-46a7-cfd1-9deedc07d211"
      },
      "source": [
        "sub #값이 비어있음."
      ],
      "execution_count": 18,
      "outputs": [
        {
          "output_type": "execute_result",
          "data": {
            "text/html": [
              "<div>\n",
              "<style scoped>\n",
              "    .dataframe tbody tr th:only-of-type {\n",
              "        vertical-align: middle;\n",
              "    }\n",
              "\n",
              "    .dataframe tbody tr th {\n",
              "        vertical-align: top;\n",
              "    }\n",
              "\n",
              "    .dataframe thead th {\n",
              "        text-align: right;\n",
              "    }\n",
              "</style>\n",
              "<table border=\"1\" class=\"dataframe\">\n",
              "  <thead>\n",
              "    <tr style=\"text-align: right;\">\n",
              "      <th></th>\n",
              "      <th>date</th>\n",
              "      <th>mosquito_ratio</th>\n",
              "    </tr>\n",
              "  </thead>\n",
              "  <tbody>\n",
              "    <tr>\n",
              "      <th>0</th>\n",
              "      <td>2016-05-01</td>\n",
              "      <td>0</td>\n",
              "    </tr>\n",
              "    <tr>\n",
              "      <th>1</th>\n",
              "      <td>2016-05-25</td>\n",
              "      <td>0</td>\n",
              "    </tr>\n",
              "    <tr>\n",
              "      <th>2</th>\n",
              "      <td>2016-06-06</td>\n",
              "      <td>0</td>\n",
              "    </tr>\n",
              "    <tr>\n",
              "      <th>3</th>\n",
              "      <td>2016-06-09</td>\n",
              "      <td>0</td>\n",
              "    </tr>\n",
              "    <tr>\n",
              "      <th>4</th>\n",
              "      <td>2016-06-10</td>\n",
              "      <td>0</td>\n",
              "    </tr>\n",
              "    <tr>\n",
              "      <th>...</th>\n",
              "      <td>...</td>\n",
              "      <td>...</td>\n",
              "    </tr>\n",
              "    <tr>\n",
              "      <th>295</th>\n",
              "      <td>2019-12-14</td>\n",
              "      <td>0</td>\n",
              "    </tr>\n",
              "    <tr>\n",
              "      <th>296</th>\n",
              "      <td>2019-12-19</td>\n",
              "      <td>0</td>\n",
              "    </tr>\n",
              "    <tr>\n",
              "      <th>297</th>\n",
              "      <td>2019-12-23</td>\n",
              "      <td>0</td>\n",
              "    </tr>\n",
              "    <tr>\n",
              "      <th>298</th>\n",
              "      <td>2019-12-26</td>\n",
              "      <td>0</td>\n",
              "    </tr>\n",
              "    <tr>\n",
              "      <th>299</th>\n",
              "      <td>2019-12-28</td>\n",
              "      <td>0</td>\n",
              "    </tr>\n",
              "  </tbody>\n",
              "</table>\n",
              "<p>300 rows × 2 columns</p>\n",
              "</div>"
            ],
            "text/plain": [
              "           date  mosquito_ratio\n",
              "0    2016-05-01               0\n",
              "1    2016-05-25               0\n",
              "2    2016-06-06               0\n",
              "3    2016-06-09               0\n",
              "4    2016-06-10               0\n",
              "..          ...             ...\n",
              "295  2019-12-14               0\n",
              "296  2019-12-19               0\n",
              "297  2019-12-23               0\n",
              "298  2019-12-26               0\n",
              "299  2019-12-28               0\n",
              "\n",
              "[300 rows x 2 columns]"
            ]
          },
          "metadata": {
            "tags": []
          },
          "execution_count": 18
        }
      ]
    },
    {
      "cell_type": "code",
      "metadata": {
        "colab": {
          "base_uri": "https://localhost:8080/",
          "height": 204
        },
        "id": "697j9nX8j4EE",
        "outputId": "7b36e8a9-7246-4a36-bf2e-c559c097c4fe"
      },
      "source": [
        "train=pd.merge(train_x, train_y)\n",
        "train.head()"
      ],
      "execution_count": 11,
      "outputs": [
        {
          "output_type": "execute_result",
          "data": {
            "text/html": [
              "<div>\n",
              "<style scoped>\n",
              "    .dataframe tbody tr th:only-of-type {\n",
              "        vertical-align: middle;\n",
              "    }\n",
              "\n",
              "    .dataframe tbody tr th {\n",
              "        vertical-align: top;\n",
              "    }\n",
              "\n",
              "    .dataframe thead th {\n",
              "        text-align: right;\n",
              "    }\n",
              "</style>\n",
              "<table border=\"1\" class=\"dataframe\">\n",
              "  <thead>\n",
              "    <tr style=\"text-align: right;\">\n",
              "      <th></th>\n",
              "      <th>date</th>\n",
              "      <th>강수량(mm)</th>\n",
              "      <th>평균기온(℃)</th>\n",
              "      <th>최저기온(℃)</th>\n",
              "      <th>최고기온(℃)</th>\n",
              "      <th>mosquito_ratio</th>\n",
              "    </tr>\n",
              "  </thead>\n",
              "  <tbody>\n",
              "    <tr>\n",
              "      <th>0</th>\n",
              "      <td>2019-12-31</td>\n",
              "      <td>0.0</td>\n",
              "      <td>-7.9</td>\n",
              "      <td>-10.9</td>\n",
              "      <td>-4.5</td>\n",
              "      <td>5.5</td>\n",
              "    </tr>\n",
              "    <tr>\n",
              "      <th>1</th>\n",
              "      <td>2019-12-30</td>\n",
              "      <td>0.4</td>\n",
              "      <td>2.7</td>\n",
              "      <td>-5.7</td>\n",
              "      <td>6.8</td>\n",
              "      <td>5.5</td>\n",
              "    </tr>\n",
              "    <tr>\n",
              "      <th>2</th>\n",
              "      <td>2019-12-29</td>\n",
              "      <td>1.4</td>\n",
              "      <td>3.8</td>\n",
              "      <td>1.1</td>\n",
              "      <td>6.2</td>\n",
              "      <td>5.5</td>\n",
              "    </tr>\n",
              "    <tr>\n",
              "      <th>3</th>\n",
              "      <td>2019-12-27</td>\n",
              "      <td>0.0</td>\n",
              "      <td>-1.7</td>\n",
              "      <td>-4.6</td>\n",
              "      <td>2.6</td>\n",
              "      <td>5.5</td>\n",
              "    </tr>\n",
              "    <tr>\n",
              "      <th>4</th>\n",
              "      <td>2019-12-25</td>\n",
              "      <td>0.0</td>\n",
              "      <td>2.0</td>\n",
              "      <td>-2.7</td>\n",
              "      <td>6.6</td>\n",
              "      <td>5.5</td>\n",
              "    </tr>\n",
              "  </tbody>\n",
              "</table>\n",
              "</div>"
            ],
            "text/plain": [
              "         date  강수량(mm)  평균기온(℃)  최저기온(℃)  최고기온(℃)  mosquito_ratio\n",
              "0  2019-12-31      0.0     -7.9    -10.9     -4.5             5.5\n",
              "1  2019-12-30      0.4      2.7     -5.7      6.8             5.5\n",
              "2  2019-12-29      1.4      3.8      1.1      6.2             5.5\n",
              "3  2019-12-27      0.0     -1.7     -4.6      2.6             5.5\n",
              "4  2019-12-25      0.0      2.0     -2.7      6.6             5.5"
            ]
          },
          "metadata": {
            "tags": []
          },
          "execution_count": 11
        }
      ]
    },
    {
      "cell_type": "code",
      "metadata": {
        "id": "SlozgR7bk9S7"
      },
      "source": [
        ""
      ],
      "execution_count": null,
      "outputs": []
    },
    {
      "cell_type": "code",
      "metadata": {
        "id": "mdwsM0hyk8J1"
      },
      "source": [
        "#정답 원본\n",
        "# from sklearn.ensemble import RandomForestRegressor\n",
        "# from xgboost import XGBRFRegressor\n",
        "# from sklearn.metrics import r2_score\n",
        "# from sklearn.model_selection import train_test_split\n",
        "\n",
        "# def preprocessing(df):\n",
        "#     df['date'] = pd.to_datetime(df['date'])\n",
        "#     df['year']= df['date'].dt.year\n",
        "#     df['month']= df['date'].dt.month\n",
        "#     df=df.drop(['date'],axis=1)\n",
        "#     return df\n",
        "\n",
        "# x = preprocessing(train_x)\n",
        "# y = train_y.drop(['date'],axis=1)\n",
        "\n",
        "# rf = RandomForestRegressor(random_state =12)\n",
        "# xg =XGBRFRegressor(random_state =12)\n",
        "# xtr ,xt, ytr,yt = train_test_split(x,y,test_size=0.3,random_state=24)\n",
        "\n",
        "# rf.fit(xtr,ytr.values.ravel())\n",
        "# xg.fit(xtr,ytr)\n",
        "# pred= rf.predict(xt)\n",
        "# predxg= xg.predict(xt)\n",
        "\n",
        "# Ans = 'randomforest r2 : '+str(r2_score(yt,pred))+' \\nxgboost r2 : '+str(r2_score(yt,predxg))\n",
        "\n",
        "\n",
        "# subDF = preprocessing(test_x)\n",
        "\n",
        "# pred = (rf.predict(subDF) + xg.predict(subDF))/2\n",
        "# sub['mosquito_ratio'] = pred\n",
        "# sub.to_csv('submission.csv',index=False)"
      ],
      "execution_count": null,
      "outputs": []
    },
    {
      "cell_type": "code",
      "metadata": {
        "id": "lzOx7Qh-i2OC"
      },
      "source": [
        "#정답코드\n",
        "from sklearn.ensemble import RandomForestRegressor\n",
        "from xgboost import XGBRFRegressor\n",
        "from sklearn.metrics import r2_score\n",
        "from sklearn.model_selection import train_test_split\n",
        "\n",
        "def preprocessing(df): #데이터프레임을 인수로 받는 함수\n",
        "    df['date'] = pd.to_datetime(df['date']) #date컬럼을 날짜형 데이터화\n",
        "    df['year']= df['date'].dt.year #'year' 컬럼 생성\n",
        "    df['month']= df['date'].dt.month #'month' 컬럼 생성\n",
        "    df=df.drop(['date'],axis=1) #원래 데이터에서 date는 빼버림\n",
        "    return df #위의 데이터를 반환."
      ],
      "execution_count": 14,
      "outputs": []
    },
    {
      "cell_type": "code",
      "metadata": {
        "colab": {
          "base_uri": "https://localhost:8080/"
        },
        "id": "KKSy-xRpneH2",
        "outputId": "3ad8b19b-ca20-4d51-db1b-7369662abe11"
      },
      "source": [
        "x = preprocessing(train_x) #함수에 df로  train_x를 넣음. 이걸 x로 선언.\n",
        "y = train_y.drop(['date'],axis=1) #y데이터에는 'date'컬럼을 뺀 것을 넣음(x데이터에 연도, 월별 컬럼이 있으니까.)\n",
        "\n",
        "rf = RandomForestRegressor(random_state =100) #랜덤포레스트회귀모델(모두 연속형 변수). 씨드를 설정.\n",
        "xg =XGBRFRegressor(random_state =100) #XGBRFR 모델 설정.\n",
        "X_train ,X_test, y_train,y_test = train_test_split(x, y, test_size=0.3,random_state=100) #7대 3으로 학습용 테스트용 설정. \n",
        "\n",
        "rf.fit(X_train, y_train.values.ravel())\n",
        "xg.fit(X_train,y_train)\n",
        "pred= rf.predict(X_test) \n",
        "predxg= xg.predict(X_test)\n",
        "Ans = 'randomforest r2 : '+str(r2_score(y_test, pred))+' \\nxgboost r2 : '+str(r2_score(y_test,predxg))\n",
        "print(Ans)"
      ],
      "execution_count": 15,
      "outputs": [
        {
          "output_type": "stream",
          "text": [
            "[11:46:32] WARNING: /workspace/src/objective/regression_obj.cu:152: reg:linear is now deprecated in favor of reg:squarederror.\n",
            "randomforest r2 : 0.8494169141716839 \n",
            "xgboost r2 : 0.7917612642230105\n"
          ],
          "name": "stdout"
        }
      ]
    },
    {
      "cell_type": "code",
      "metadata": {
        "id": "t78eiwf5pKjX"
      },
      "source": [
        "subDF = preprocessing(test_x) #맨위에 따로 떼어놓은 test_x 데이터 위의 X_test와 헷갈리지 말것.\n",
        "\n",
        "pred = (rf.predict(subDF) + xg.predict(subDF))/2 ##이건 왜?\n",
        "sub['mosquito_ratio'] = pred #sub에 mosquito_ration가 있었지만 0ㅇ로 채워진 컬럼이었음. 위의 test_x를 넣고 예측한 값이 여기에 해당하겠지. 이걸로 모델의 정확성을 측정\n",
        "sub.to_csv('submission.csv',index=False)"
      ],
      "execution_count": 19,
      "outputs": []
    },
    {
      "cell_type": "code",
      "metadata": {
        "id": "pH5_eNLzqTxi"
      },
      "source": [
        "#제출 코드 확인\n",
        "def FinalMseScore():\n",
        "    import pandas as pd\n",
        "    y_true = pd.read_csv(\"https://raw.githubusercontent.com/Datamanim/mosquito/main/result.csv\") #정답 데이터.\n",
        "    sub = pd.read_csv('./submission.csv')\n",
        "    pred = sub.iloc[:,-1].values #sub의 mosquitio_ratio만 가져옴.\n",
        "    \n",
        "    from sklearn.metrics import r2_score\n",
        "    mse = r2_score(y_true['mosquito_ratio'],pred)    \n",
        "    print('submission mse score : ',mse)\n",
        "    return mse"
      ],
      "execution_count": 20,
      "outputs": []
    },
    {
      "cell_type": "code",
      "metadata": {
        "colab": {
          "base_uri": "https://localhost:8080/"
        },
        "id": "SazwntPZquju",
        "outputId": "0667be27-932b-4cca-b4a9-c507ee73ea88"
      },
      "source": [
        "final_mse = FinalMseScore()"
      ],
      "execution_count": 21,
      "outputs": [
        {
          "output_type": "stream",
          "text": [
            "submission mse score :  0.8395864745195029\n"
          ],
          "name": "stdout"
        }
      ]
    },
    {
      "cell_type": "code",
      "metadata": {
        "id": "6xknF-P_qxTj"
      },
      "source": [
        "# #https://colab.research.google.com/drive/1z2ri4VWYuM16ZZxUYK3rwHOgcs3t-34X?usp=sharing#scrollTo=Q4vQbv-ds32s\n",
        "# 이거 보고 내가 해보기"
      ],
      "execution_count": 22,
      "outputs": []
    },
    {
      "cell_type": "code",
      "metadata": {
        "colab": {
          "base_uri": "https://localhost:8080/"
        },
        "id": "XJiB2XFnrcMb",
        "outputId": "492f528b-3a39-403d-fe79-873624609aae"
      },
      "source": [
        "from xgboost import XGBRFRegressor\n",
        "from sklearn.metrics import r2_score, accuracy_score\n",
        "import sklearn.metrics\n",
        "dir(sklearn.metrics)"
      ],
      "execution_count": 26,
      "outputs": [
        {
          "output_type": "execute_result",
          "data": {
            "text/plain": [
              "['ConfusionMatrixDisplay',\n",
              " 'PrecisionRecallDisplay',\n",
              " 'RocCurveDisplay',\n",
              " 'SCORERS',\n",
              " '__all__',\n",
              " '__builtins__',\n",
              " '__cached__',\n",
              " '__doc__',\n",
              " '__file__',\n",
              " '__loader__',\n",
              " '__name__',\n",
              " '__package__',\n",
              " '__path__',\n",
              " '__spec__',\n",
              " '_base',\n",
              " '_classification',\n",
              " '_pairwise_fast',\n",
              " '_plot',\n",
              " '_ranking',\n",
              " '_regression',\n",
              " '_scorer',\n",
              " 'accuracy_score',\n",
              " 'adjusted_mutual_info_score',\n",
              " 'adjusted_rand_score',\n",
              " 'auc',\n",
              " 'average_precision_score',\n",
              " 'balanced_accuracy_score',\n",
              " 'brier_score_loss',\n",
              " 'calinski_harabasz_score',\n",
              " 'calinski_harabaz_score',\n",
              " 'check_scoring',\n",
              " 'classification_report',\n",
              " 'cluster',\n",
              " 'cohen_kappa_score',\n",
              " 'completeness_score',\n",
              " 'confusion_matrix',\n",
              " 'consensus_score',\n",
              " 'coverage_error',\n",
              " 'davies_bouldin_score',\n",
              " 'dcg_score',\n",
              " 'euclidean_distances',\n",
              " 'explained_variance_score',\n",
              " 'f1_score',\n",
              " 'fbeta_score',\n",
              " 'fowlkes_mallows_score',\n",
              " 'get_scorer',\n",
              " 'hamming_loss',\n",
              " 'hinge_loss',\n",
              " 'homogeneity_completeness_v_measure',\n",
              " 'homogeneity_score',\n",
              " 'jaccard_score',\n",
              " 'jaccard_similarity_score',\n",
              " 'label_ranking_average_precision_score',\n",
              " 'label_ranking_loss',\n",
              " 'log_loss',\n",
              " 'make_scorer',\n",
              " 'matthews_corrcoef',\n",
              " 'max_error',\n",
              " 'mean_absolute_error',\n",
              " 'mean_gamma_deviance',\n",
              " 'mean_poisson_deviance',\n",
              " 'mean_squared_error',\n",
              " 'mean_squared_log_error',\n",
              " 'mean_tweedie_deviance',\n",
              " 'median_absolute_error',\n",
              " 'multilabel_confusion_matrix',\n",
              " 'mutual_info_score',\n",
              " 'nan_euclidean_distances',\n",
              " 'ndcg_score',\n",
              " 'normalized_mutual_info_score',\n",
              " 'pairwise',\n",
              " 'pairwise_distances',\n",
              " 'pairwise_distances_argmin',\n",
              " 'pairwise_distances_argmin_min',\n",
              " 'pairwise_distances_chunked',\n",
              " 'pairwise_kernels',\n",
              " 'plot_confusion_matrix',\n",
              " 'plot_precision_recall_curve',\n",
              " 'plot_roc_curve',\n",
              " 'precision_recall_curve',\n",
              " 'precision_recall_fscore_support',\n",
              " 'precision_score',\n",
              " 'r2_score',\n",
              " 'recall_score',\n",
              " 'roc_auc_score',\n",
              " 'roc_curve',\n",
              " 'silhouette_samples',\n",
              " 'silhouette_score',\n",
              " 'v_measure_score',\n",
              " 'zero_one_loss']"
            ]
          },
          "metadata": {
            "tags": []
          },
          "execution_count": 26
        }
      ]
    },
    {
      "cell_type": "code",
      "metadata": {
        "id": "NaKkAo2It0Gz"
      },
      "source": [
        ""
      ],
      "execution_count": null,
      "outputs": []
    }
  ]
}