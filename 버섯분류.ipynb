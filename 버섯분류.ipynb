{
  "nbformat": 4,
  "nbformat_minor": 0,
  "metadata": {
    "colab": {
      "name": "버섯분류.ipynb",
      "provenance": [],
      "collapsed_sections": [],
      "mount_file_id": "1fRnDkLqCyoIMg0-UZvy9kkPDhJR0NJkT",
      "authorship_tag": "ABX9TyPMcBUsxGVTlzgYDoZsxQhx",
      "include_colab_link": true
    },
    "kernelspec": {
      "name": "python3",
      "display_name": "Python 3"
    },
    "language_info": {
      "name": "python"
    }
  },
  "cells": [
    {
      "cell_type": "markdown",
      "metadata": {
        "id": "view-in-github",
        "colab_type": "text"
      },
      "source": [
        "<a href=\"https://colab.research.google.com/github/hyo250/gittest/blob/master/%EB%B2%84%EC%84%AF%EB%B6%84%EB%A5%98.ipynb\" target=\"_parent\"><img src=\"https://colab.research.google.com/assets/colab-badge.svg\" alt=\"Open In Colab\"/></a>"
      ]
    },
    {
      "cell_type": "code",
      "metadata": {
        "id": "n_yw-wluT9my"
      },
      "source": [
        "import pandas as pd\n",
        "import numpy as np\n",
        "import matplotlib.pyplot as plt\n",
        "import seaborn as sns"
      ],
      "execution_count": 2,
      "outputs": []
    },
    {
      "cell_type": "code",
      "metadata": {
        "id": "9Uv0WuopUqkK"
      },
      "source": [
        "# classes: edible=e, poisonous=p (종속변수)\n",
        "\n",
        "# cap-shape: bell=b,conical=c,convex=x,flat=f, knobbed=k,sunken=s\n",
        "\n",
        "# cap-surface: fibrous=f,grooves=g,scaly=y,smooth=s\n",
        "\n",
        "# cap-color: brown=n,buff=b,cinnamon=c,gray=g,green=r,pink=p,purple=u,red=e,white=w,yellow=y\n",
        "\n",
        "# gill-attachment: attached=a,descending=d,free=f,notched=n\n",
        "\n",
        "# stalk-color-above-ring: brown=n,buff=b,cinnamon=c,gray=g,orange=o,pink=p,red=e,white=w,yellow=y\n",
        "\n",
        "# stalk-color-below-ring: brown=n,buff=b,cinnamon=c,gray=g,orange=o,pink=p,red=e,white=w,yellow=y\n",
        "\n",
        "# veil-type: partial=p,universal=u\n",
        "\n",
        "# veil-color: brown=n,orange=o,white=w,yellow=y\n",
        "\n",
        "# ring-number: none=n,one=o,two=t\n",
        "\n",
        "# habitat: grasses=g,leaves=l,meadows=m,paths=p,urban=u,waste=w,woods=d"
      ],
      "execution_count": null,
      "outputs": []
    },
    {
      "cell_type": "code",
      "metadata": {
        "id": "vQaIv7xZaPd3",
        "colab": {
          "base_uri": "https://localhost:8080/",
          "height": 524
        },
        "outputId": "1a4633d1-5e34-49ec-e9ba-dc718c688f2c"
      },
      "source": [
        "df = pd.read_csv('https://raw.githubusercontent.com/Datamanim/mushroom/main/mushpre.csv')\n",
        "df.info()\n",
        "df.head()"
      ],
      "execution_count": 3,
      "outputs": [
        {
          "output_type": "stream",
          "text": [
            "<class 'pandas.core.frame.DataFrame'>\n",
            "RangeIndex: 8124 entries, 0 to 8123\n",
            "Data columns (total 11 columns):\n",
            " #   Column                  Non-Null Count  Dtype \n",
            "---  ------                  --------------  ----- \n",
            " 0   class                   8124 non-null   object\n",
            " 1   cap-shape               8124 non-null   object\n",
            " 2   cap-surface             8124 non-null   object\n",
            " 3   cap-color               8124 non-null   object\n",
            " 4   gill-attachment         8124 non-null   object\n",
            " 5   stalk-color-above-ring  8124 non-null   object\n",
            " 6   stalk-color-below-ring  8124 non-null   object\n",
            " 7   veil-type               8124 non-null   object\n",
            " 8   veil-color              8124 non-null   object\n",
            " 9   ring-number             8124 non-null   object\n",
            " 10  habitat                 8124 non-null   object\n",
            "dtypes: object(11)\n",
            "memory usage: 698.3+ KB\n"
          ],
          "name": "stdout"
        },
        {
          "output_type": "execute_result",
          "data": {
            "text/html": [
              "<div>\n",
              "<style scoped>\n",
              "    .dataframe tbody tr th:only-of-type {\n",
              "        vertical-align: middle;\n",
              "    }\n",
              "\n",
              "    .dataframe tbody tr th {\n",
              "        vertical-align: top;\n",
              "    }\n",
              "\n",
              "    .dataframe thead th {\n",
              "        text-align: right;\n",
              "    }\n",
              "</style>\n",
              "<table border=\"1\" class=\"dataframe\">\n",
              "  <thead>\n",
              "    <tr style=\"text-align: right;\">\n",
              "      <th></th>\n",
              "      <th>class</th>\n",
              "      <th>cap-shape</th>\n",
              "      <th>cap-surface</th>\n",
              "      <th>cap-color</th>\n",
              "      <th>gill-attachment</th>\n",
              "      <th>stalk-color-above-ring</th>\n",
              "      <th>stalk-color-below-ring</th>\n",
              "      <th>veil-type</th>\n",
              "      <th>veil-color</th>\n",
              "      <th>ring-number</th>\n",
              "      <th>habitat</th>\n",
              "    </tr>\n",
              "  </thead>\n",
              "  <tbody>\n",
              "    <tr>\n",
              "      <th>0</th>\n",
              "      <td>p</td>\n",
              "      <td>x</td>\n",
              "      <td>s</td>\n",
              "      <td>n</td>\n",
              "      <td>f</td>\n",
              "      <td>w</td>\n",
              "      <td>w</td>\n",
              "      <td>p</td>\n",
              "      <td>w</td>\n",
              "      <td>o</td>\n",
              "      <td>u</td>\n",
              "    </tr>\n",
              "    <tr>\n",
              "      <th>1</th>\n",
              "      <td>e</td>\n",
              "      <td>x</td>\n",
              "      <td>s</td>\n",
              "      <td>y</td>\n",
              "      <td>f</td>\n",
              "      <td>w</td>\n",
              "      <td>w</td>\n",
              "      <td>p</td>\n",
              "      <td>w</td>\n",
              "      <td>o</td>\n",
              "      <td>g</td>\n",
              "    </tr>\n",
              "    <tr>\n",
              "      <th>2</th>\n",
              "      <td>e</td>\n",
              "      <td>b</td>\n",
              "      <td>s</td>\n",
              "      <td>w</td>\n",
              "      <td>f</td>\n",
              "      <td>w</td>\n",
              "      <td>w</td>\n",
              "      <td>p</td>\n",
              "      <td>w</td>\n",
              "      <td>o</td>\n",
              "      <td>m</td>\n",
              "    </tr>\n",
              "    <tr>\n",
              "      <th>3</th>\n",
              "      <td>p</td>\n",
              "      <td>x</td>\n",
              "      <td>y</td>\n",
              "      <td>w</td>\n",
              "      <td>f</td>\n",
              "      <td>w</td>\n",
              "      <td>w</td>\n",
              "      <td>p</td>\n",
              "      <td>w</td>\n",
              "      <td>o</td>\n",
              "      <td>u</td>\n",
              "    </tr>\n",
              "    <tr>\n",
              "      <th>4</th>\n",
              "      <td>e</td>\n",
              "      <td>x</td>\n",
              "      <td>s</td>\n",
              "      <td>g</td>\n",
              "      <td>f</td>\n",
              "      <td>w</td>\n",
              "      <td>w</td>\n",
              "      <td>p</td>\n",
              "      <td>w</td>\n",
              "      <td>o</td>\n",
              "      <td>g</td>\n",
              "    </tr>\n",
              "  </tbody>\n",
              "</table>\n",
              "</div>"
            ],
            "text/plain": [
              "  class cap-shape cap-surface  ... veil-color ring-number habitat\n",
              "0     p         x           s  ...          w           o       u\n",
              "1     e         x           s  ...          w           o       g\n",
              "2     e         b           s  ...          w           o       m\n",
              "3     p         x           y  ...          w           o       u\n",
              "4     e         x           s  ...          w           o       g\n",
              "\n",
              "[5 rows x 11 columns]"
            ]
          },
          "metadata": {
            "tags": []
          },
          "execution_count": 3
        }
      ]
    },
    {
      "cell_type": "code",
      "metadata": {
        "colab": {
          "base_uri": "https://localhost:8080/",
          "height": 179
        },
        "id": "0viNvyMhTwnn",
        "outputId": "96b7f482-0270-413c-f87e-856f806ec56b"
      },
      "source": [
        "# Question 1\n",
        "\n",
        "# 데이터를 df변수에 입력받고 각 열의 중복되지않는 원소의 수로 구성된 데이터 프레임을 형성하라. uniqueDf 변수에 저장하고 개수에 따른 내림차순 정렬 후 상위 3개 데이터를 출력하라\n",
        "lst=[]\n",
        "for col in df.columns:\n",
        "    lst.append([col, df[col].nunique()]) # 각 컬럼별  nunique. \n",
        "print(lst)\n",
        "uniqueDf=pd.DataFrame(lst).rename(columns={0:'className', 1:'Counts'}).sort_values('Counts',ascending=False)\n",
        "#lst를 pd 화. 컬럼별로 재명명. counts를 기준으로 내림차순.\n",
        "uniqueDf.head(3)"
      ],
      "execution_count": 8,
      "outputs": [
        {
          "output_type": "stream",
          "text": [
            "[['class', 2], ['cap-shape', 6], ['cap-surface', 4], ['cap-color', 10], ['gill-attachment', 2], ['stalk-color-above-ring', 9], ['stalk-color-below-ring', 9], ['veil-type', 1], ['veil-color', 4], ['ring-number', 3], ['habitat', 7]]\n"
          ],
          "name": "stdout"
        },
        {
          "output_type": "execute_result",
          "data": {
            "text/html": [
              "<div>\n",
              "<style scoped>\n",
              "    .dataframe tbody tr th:only-of-type {\n",
              "        vertical-align: middle;\n",
              "    }\n",
              "\n",
              "    .dataframe tbody tr th {\n",
              "        vertical-align: top;\n",
              "    }\n",
              "\n",
              "    .dataframe thead th {\n",
              "        text-align: right;\n",
              "    }\n",
              "</style>\n",
              "<table border=\"1\" class=\"dataframe\">\n",
              "  <thead>\n",
              "    <tr style=\"text-align: right;\">\n",
              "      <th></th>\n",
              "      <th>className</th>\n",
              "      <th>Counts</th>\n",
              "    </tr>\n",
              "  </thead>\n",
              "  <tbody>\n",
              "    <tr>\n",
              "      <th>3</th>\n",
              "      <td>cap-color</td>\n",
              "      <td>10</td>\n",
              "    </tr>\n",
              "    <tr>\n",
              "      <th>5</th>\n",
              "      <td>stalk-color-above-ring</td>\n",
              "      <td>9</td>\n",
              "    </tr>\n",
              "    <tr>\n",
              "      <th>6</th>\n",
              "      <td>stalk-color-below-ring</td>\n",
              "      <td>9</td>\n",
              "    </tr>\n",
              "  </tbody>\n",
              "</table>\n",
              "</div>"
            ],
            "text/plain": [
              "                className  Counts\n",
              "3               cap-color      10\n",
              "5  stalk-color-above-ring       9\n",
              "6  stalk-color-below-ring       9"
            ]
          },
          "metadata": {
            "tags": []
          },
          "execution_count": 8
        }
      ]
    },
    {
      "cell_type": "code",
      "metadata": {
        "colab": {
          "base_uri": "https://localhost:8080/",
          "height": 310
        },
        "id": "L5LSi9bHVwrF",
        "outputId": "860827b7-252c-4db3-8eac-4cda53d619f0"
      },
      "source": [
        "# Question 2\n",
        "\n",
        "# 종속변수를 y (class)와 독립변수를 x 의 변수에 저장하여라. 변수타입 중 ‘veil-color’는 value 값이 1가지밖에 없으므로 제거하고 사용한다\n",
        "y=df['class'].map(lambda x: 0 if x=='p' else 1) #독있으면 1, 없으면 0\n",
        "#df.drop('veil-color', axis=1, inplace=True)\n",
        "x=df\n",
        "display(x.head())\n",
        "display(y.head())"
      ],
      "execution_count": 13,
      "outputs": [
        {
          "output_type": "display_data",
          "data": {
            "text/html": [
              "<div>\n",
              "<style scoped>\n",
              "    .dataframe tbody tr th:only-of-type {\n",
              "        vertical-align: middle;\n",
              "    }\n",
              "\n",
              "    .dataframe tbody tr th {\n",
              "        vertical-align: top;\n",
              "    }\n",
              "\n",
              "    .dataframe thead th {\n",
              "        text-align: right;\n",
              "    }\n",
              "</style>\n",
              "<table border=\"1\" class=\"dataframe\">\n",
              "  <thead>\n",
              "    <tr style=\"text-align: right;\">\n",
              "      <th></th>\n",
              "      <th>class</th>\n",
              "      <th>cap-shape</th>\n",
              "      <th>cap-surface</th>\n",
              "      <th>cap-color</th>\n",
              "      <th>gill-attachment</th>\n",
              "      <th>stalk-color-above-ring</th>\n",
              "      <th>stalk-color-below-ring</th>\n",
              "      <th>veil-type</th>\n",
              "      <th>ring-number</th>\n",
              "      <th>habitat</th>\n",
              "    </tr>\n",
              "  </thead>\n",
              "  <tbody>\n",
              "    <tr>\n",
              "      <th>0</th>\n",
              "      <td>p</td>\n",
              "      <td>x</td>\n",
              "      <td>s</td>\n",
              "      <td>n</td>\n",
              "      <td>f</td>\n",
              "      <td>w</td>\n",
              "      <td>w</td>\n",
              "      <td>p</td>\n",
              "      <td>o</td>\n",
              "      <td>u</td>\n",
              "    </tr>\n",
              "    <tr>\n",
              "      <th>1</th>\n",
              "      <td>e</td>\n",
              "      <td>x</td>\n",
              "      <td>s</td>\n",
              "      <td>y</td>\n",
              "      <td>f</td>\n",
              "      <td>w</td>\n",
              "      <td>w</td>\n",
              "      <td>p</td>\n",
              "      <td>o</td>\n",
              "      <td>g</td>\n",
              "    </tr>\n",
              "    <tr>\n",
              "      <th>2</th>\n",
              "      <td>e</td>\n",
              "      <td>b</td>\n",
              "      <td>s</td>\n",
              "      <td>w</td>\n",
              "      <td>f</td>\n",
              "      <td>w</td>\n",
              "      <td>w</td>\n",
              "      <td>p</td>\n",
              "      <td>o</td>\n",
              "      <td>m</td>\n",
              "    </tr>\n",
              "    <tr>\n",
              "      <th>3</th>\n",
              "      <td>p</td>\n",
              "      <td>x</td>\n",
              "      <td>y</td>\n",
              "      <td>w</td>\n",
              "      <td>f</td>\n",
              "      <td>w</td>\n",
              "      <td>w</td>\n",
              "      <td>p</td>\n",
              "      <td>o</td>\n",
              "      <td>u</td>\n",
              "    </tr>\n",
              "    <tr>\n",
              "      <th>4</th>\n",
              "      <td>e</td>\n",
              "      <td>x</td>\n",
              "      <td>s</td>\n",
              "      <td>g</td>\n",
              "      <td>f</td>\n",
              "      <td>w</td>\n",
              "      <td>w</td>\n",
              "      <td>p</td>\n",
              "      <td>o</td>\n",
              "      <td>g</td>\n",
              "    </tr>\n",
              "  </tbody>\n",
              "</table>\n",
              "</div>"
            ],
            "text/plain": [
              "  class cap-shape cap-surface  ... veil-type ring-number habitat\n",
              "0     p         x           s  ...         p           o       u\n",
              "1     e         x           s  ...         p           o       g\n",
              "2     e         b           s  ...         p           o       m\n",
              "3     p         x           y  ...         p           o       u\n",
              "4     e         x           s  ...         p           o       g\n",
              "\n",
              "[5 rows x 10 columns]"
            ]
          },
          "metadata": {
            "tags": []
          }
        },
        {
          "output_type": "display_data",
          "data": {
            "text/plain": [
              "0    0\n",
              "1    1\n",
              "2    1\n",
              "3    0\n",
              "4    1\n",
              "Name: class, dtype: int64"
            ]
          },
          "metadata": {
            "tags": []
          }
        }
      ]
    },
    {
      "cell_type": "code",
      "metadata": {
        "colab": {
          "base_uri": "https://localhost:8080/",
          "height": 720
        },
        "id": "LobQ3oNeYPVS",
        "outputId": "a5a74c9b-0017-46a6-d636-fb166cfc895e"
      },
      "source": [
        "# Question 2\n",
        "\n",
        "# 독립변수 x를 LabelEncode하여 x_label변수에 저장하라\n",
        "#컬럼별 값들을 nunique에 따라 0~10 사이의 수로 인코딩\n",
        "\n",
        "from sklearn.preprocessing import LabelEncoder\n",
        "le = LabelEncoder()\n",
        "x_label=x.copy()\n",
        "for v in x_label.columns:\n",
        "  x_label[v]=le.fit_transform(x_label[v])\n",
        "\n",
        "display(x_label)\n",
        "x_label.info()  #숫자로 인코딩했으니 int 됨.\n"
      ],
      "execution_count": 17,
      "outputs": [
        {
          "output_type": "display_data",
          "data": {
            "text/html": [
              "<div>\n",
              "<style scoped>\n",
              "    .dataframe tbody tr th:only-of-type {\n",
              "        vertical-align: middle;\n",
              "    }\n",
              "\n",
              "    .dataframe tbody tr th {\n",
              "        vertical-align: top;\n",
              "    }\n",
              "\n",
              "    .dataframe thead th {\n",
              "        text-align: right;\n",
              "    }\n",
              "</style>\n",
              "<table border=\"1\" class=\"dataframe\">\n",
              "  <thead>\n",
              "    <tr style=\"text-align: right;\">\n",
              "      <th></th>\n",
              "      <th>class</th>\n",
              "      <th>cap-shape</th>\n",
              "      <th>cap-surface</th>\n",
              "      <th>cap-color</th>\n",
              "      <th>gill-attachment</th>\n",
              "      <th>stalk-color-above-ring</th>\n",
              "      <th>stalk-color-below-ring</th>\n",
              "      <th>veil-type</th>\n",
              "      <th>ring-number</th>\n",
              "      <th>habitat</th>\n",
              "    </tr>\n",
              "  </thead>\n",
              "  <tbody>\n",
              "    <tr>\n",
              "      <th>0</th>\n",
              "      <td>1</td>\n",
              "      <td>5</td>\n",
              "      <td>2</td>\n",
              "      <td>4</td>\n",
              "      <td>1</td>\n",
              "      <td>7</td>\n",
              "      <td>7</td>\n",
              "      <td>0</td>\n",
              "      <td>1</td>\n",
              "      <td>5</td>\n",
              "    </tr>\n",
              "    <tr>\n",
              "      <th>1</th>\n",
              "      <td>0</td>\n",
              "      <td>5</td>\n",
              "      <td>2</td>\n",
              "      <td>9</td>\n",
              "      <td>1</td>\n",
              "      <td>7</td>\n",
              "      <td>7</td>\n",
              "      <td>0</td>\n",
              "      <td>1</td>\n",
              "      <td>1</td>\n",
              "    </tr>\n",
              "    <tr>\n",
              "      <th>2</th>\n",
              "      <td>0</td>\n",
              "      <td>0</td>\n",
              "      <td>2</td>\n",
              "      <td>8</td>\n",
              "      <td>1</td>\n",
              "      <td>7</td>\n",
              "      <td>7</td>\n",
              "      <td>0</td>\n",
              "      <td>1</td>\n",
              "      <td>3</td>\n",
              "    </tr>\n",
              "    <tr>\n",
              "      <th>3</th>\n",
              "      <td>1</td>\n",
              "      <td>5</td>\n",
              "      <td>3</td>\n",
              "      <td>8</td>\n",
              "      <td>1</td>\n",
              "      <td>7</td>\n",
              "      <td>7</td>\n",
              "      <td>0</td>\n",
              "      <td>1</td>\n",
              "      <td>5</td>\n",
              "    </tr>\n",
              "    <tr>\n",
              "      <th>4</th>\n",
              "      <td>0</td>\n",
              "      <td>5</td>\n",
              "      <td>2</td>\n",
              "      <td>3</td>\n",
              "      <td>1</td>\n",
              "      <td>7</td>\n",
              "      <td>7</td>\n",
              "      <td>0</td>\n",
              "      <td>1</td>\n",
              "      <td>1</td>\n",
              "    </tr>\n",
              "    <tr>\n",
              "      <th>...</th>\n",
              "      <td>...</td>\n",
              "      <td>...</td>\n",
              "      <td>...</td>\n",
              "      <td>...</td>\n",
              "      <td>...</td>\n",
              "      <td>...</td>\n",
              "      <td>...</td>\n",
              "      <td>...</td>\n",
              "      <td>...</td>\n",
              "      <td>...</td>\n",
              "    </tr>\n",
              "    <tr>\n",
              "      <th>8119</th>\n",
              "      <td>0</td>\n",
              "      <td>3</td>\n",
              "      <td>2</td>\n",
              "      <td>4</td>\n",
              "      <td>0</td>\n",
              "      <td>5</td>\n",
              "      <td>5</td>\n",
              "      <td>0</td>\n",
              "      <td>1</td>\n",
              "      <td>2</td>\n",
              "    </tr>\n",
              "    <tr>\n",
              "      <th>8120</th>\n",
              "      <td>0</td>\n",
              "      <td>5</td>\n",
              "      <td>2</td>\n",
              "      <td>4</td>\n",
              "      <td>0</td>\n",
              "      <td>5</td>\n",
              "      <td>5</td>\n",
              "      <td>0</td>\n",
              "      <td>1</td>\n",
              "      <td>2</td>\n",
              "    </tr>\n",
              "    <tr>\n",
              "      <th>8121</th>\n",
              "      <td>0</td>\n",
              "      <td>2</td>\n",
              "      <td>2</td>\n",
              "      <td>4</td>\n",
              "      <td>0</td>\n",
              "      <td>5</td>\n",
              "      <td>5</td>\n",
              "      <td>0</td>\n",
              "      <td>1</td>\n",
              "      <td>2</td>\n",
              "    </tr>\n",
              "    <tr>\n",
              "      <th>8122</th>\n",
              "      <td>1</td>\n",
              "      <td>3</td>\n",
              "      <td>3</td>\n",
              "      <td>4</td>\n",
              "      <td>1</td>\n",
              "      <td>7</td>\n",
              "      <td>7</td>\n",
              "      <td>0</td>\n",
              "      <td>1</td>\n",
              "      <td>2</td>\n",
              "    </tr>\n",
              "    <tr>\n",
              "      <th>8123</th>\n",
              "      <td>0</td>\n",
              "      <td>5</td>\n",
              "      <td>2</td>\n",
              "      <td>4</td>\n",
              "      <td>0</td>\n",
              "      <td>5</td>\n",
              "      <td>5</td>\n",
              "      <td>0</td>\n",
              "      <td>1</td>\n",
              "      <td>2</td>\n",
              "    </tr>\n",
              "  </tbody>\n",
              "</table>\n",
              "<p>8124 rows × 10 columns</p>\n",
              "</div>"
            ],
            "text/plain": [
              "      class  cap-shape  cap-surface  ...  veil-type  ring-number  habitat\n",
              "0         1          5            2  ...          0            1        5\n",
              "1         0          5            2  ...          0            1        1\n",
              "2         0          0            2  ...          0            1        3\n",
              "3         1          5            3  ...          0            1        5\n",
              "4         0          5            2  ...          0            1        1\n",
              "...     ...        ...          ...  ...        ...          ...      ...\n",
              "8119      0          3            2  ...          0            1        2\n",
              "8120      0          5            2  ...          0            1        2\n",
              "8121      0          2            2  ...          0            1        2\n",
              "8122      1          3            3  ...          0            1        2\n",
              "8123      0          5            2  ...          0            1        2\n",
              "\n",
              "[8124 rows x 10 columns]"
            ]
          },
          "metadata": {
            "tags": []
          }
        },
        {
          "output_type": "stream",
          "text": [
            "<class 'pandas.core.frame.DataFrame'>\n",
            "RangeIndex: 8124 entries, 0 to 8123\n",
            "Data columns (total 10 columns):\n",
            " #   Column                  Non-Null Count  Dtype\n",
            "---  ------                  --------------  -----\n",
            " 0   class                   8124 non-null   int64\n",
            " 1   cap-shape               8124 non-null   int64\n",
            " 2   cap-surface             8124 non-null   int64\n",
            " 3   cap-color               8124 non-null   int64\n",
            " 4   gill-attachment         8124 non-null   int64\n",
            " 5   stalk-color-above-ring  8124 non-null   int64\n",
            " 6   stalk-color-below-ring  8124 non-null   int64\n",
            " 7   veil-type               8124 non-null   int64\n",
            " 8   ring-number             8124 non-null   int64\n",
            " 9   habitat                 8124 non-null   int64\n",
            "dtypes: int64(10)\n",
            "memory usage: 634.8 KB\n"
          ],
          "name": "stdout"
        }
      ]
    },
    {
      "cell_type": "code",
      "metadata": {
        "colab": {
          "base_uri": "https://localhost:8080/"
        },
        "id": "PbZJuIyLZF-K",
        "outputId": "3c866414-bcba-4f1b-e216-f5635143ea5f"
      },
      "source": [
        "# Question 3\n",
        "\n",
        "# 훈련 데이터셋과 테스트 데이터를 7:3으로 나누고 층화추출하여라\n",
        "from sklearn.model_selection import train_test_split\n",
        "X_train, X_test, y_train, y_test=train_test_split(x_label, y, test_size=0.3, random_state=100, stratify=y) #stratify=y_data: 층화추출.\n",
        "for i in [X_train, X_test, y_train, y_test]:\n",
        "  print(i.shape)\n",
        "\n",
        "y_train.value_counts()"
      ],
      "execution_count": 25,
      "outputs": [
        {
          "output_type": "stream",
          "text": [
            "(5686, 10)\n",
            "(2438, 10)\n",
            "(5686,)\n",
            "(2438,)\n"
          ],
          "name": "stdout"
        },
        {
          "output_type": "execute_result",
          "data": {
            "text/plain": [
              "1    2945\n",
              "0    2741\n",
              "Name: class, dtype: int64"
            ]
          },
          "metadata": {
            "tags": []
          },
          "execution_count": 25
        }
      ]
    },
    {
      "cell_type": "code",
      "metadata": {
        "colab": {
          "base_uri": "https://localhost:8080/"
        },
        "id": "4tIoezpUcDRj",
        "outputId": "982e6770-0273-42bb-d8c9-2e4b5b209e72"
      },
      "source": [
        "# Question 4\n",
        "\n",
        "# SMOTE 방식을 이용하여 훈련 데이터의 부족한 종속변수 class를 over sampling 하라\n",
        "from imblearn.over_sampling import SMOTE\n",
        "\n",
        "smote = SMOTE(random_state=0)\n",
        "#X_train_over,y_train_over = smote.fit_sample(X_train,y_train)\n",
        "X_train_over,y_train_over = smote.fit_resample(X_train,y_train)\n",
        "pd.Series(y_train_over).value_counts() ## 아까 y 데이터가 1로분류된것은 2945, 0은 2741이었는데 둘다 똑같은 수로 맞춰짐. \n"
      ],
      "execution_count": 28,
      "outputs": [
        {
          "output_type": "stream",
          "text": [
            "/usr/local/lib/python3.7/dist-packages/sklearn/utils/deprecation.py:87: FutureWarning: Function safe_indexing is deprecated; safe_indexing is deprecated in version 0.22 and will be removed in version 0.24.\n",
            "  warnings.warn(msg, category=FutureWarning)\n"
          ],
          "name": "stderr"
        },
        {
          "output_type": "execute_result",
          "data": {
            "text/plain": [
              "1    2945\n",
              "0    2945\n",
              "dtype: int64"
            ]
          },
          "metadata": {
            "tags": []
          },
          "execution_count": 28
        }
      ]
    },
    {
      "cell_type": "code",
      "metadata": {
        "colab": {
          "base_uri": "https://localhost:8080/"
        },
        "id": "h_4ad7IPiqWm",
        "outputId": "4eb0e099-9b8b-4070-8efd-4d1485ea4bfd"
      },
      "source": [
        "# Question 5\n",
        "\n",
        "# 랜덤포레스트 방식을 이용하여 분류모델을 만들고 학습하라. 모델평가를 테스트셋으로 진행하고 accuracy, precision, recall 값을 구하여라\n",
        "from sklearn.ensemble import RandomForestClassifier\n",
        "rf=RandomForestClassifier(n_estimators=10, max_depth=2, random_state=100)\n",
        "model=rf.fit(X_train_over, y_train_over)\n",
        "pred=rf.predict(X_test)\n",
        "\n",
        "from sklearn.metrics import classification_report\n",
        "report=classification_report(y_test, pred, target_names=['class 0', 'class 1'])\n",
        "print(report)"
      ],
      "execution_count": 32,
      "outputs": [
        {
          "output_type": "stream",
          "text": [
            "              precision    recall  f1-score   support\n",
            "\n",
            "     class 0       1.00      1.00      1.00      1175\n",
            "     class 1       1.00      1.00      1.00      1263\n",
            "\n",
            "    accuracy                           1.00      2438\n",
            "   macro avg       1.00      1.00      1.00      2438\n",
            "weighted avg       1.00      1.00      1.00      2438\n",
            "\n"
          ],
          "name": "stdout"
        }
      ]
    },
    {
      "cell_type": "code",
      "metadata": {
        "colab": {
          "base_uri": "https://localhost:8080/",
          "height": 332
        },
        "id": "5gj070XJlQtv",
        "outputId": "4ce4f8f2-739b-4ebf-f27c-515a5500182a"
      },
      "source": [
        "# Question 6\n",
        "\n",
        "# 테스트셋에 대해 ROC커브를 그리고 auc 값을 측정하라\n",
        "lr_probs = rf.predict_proba(X_test)\n",
        "\n",
        "lr_probs = lr_probs[:, 1]\n",
        "\n",
        "ns_probs = [0 for _ in range(len(y_test))]\n",
        "\n",
        "from sklearn.metrics import roc_auc_score ,roc_curve\n",
        "\n",
        "ns_auc = roc_auc_score(y_test, ns_probs)\n",
        "lr_auc = roc_auc_score(y_test, lr_probs)\n",
        "\n",
        "ns_fpr, ns_tpr, _ = roc_curve(y_test, ns_probs)\n",
        "lr_fpr, lr_tpr, _ = roc_curve(y_test, lr_probs)\n",
        "plt.plot(ns_fpr, ns_tpr, linestyle='--', label='base line')\n",
        "plt.plot(lr_fpr, lr_tpr, marker='.', label='Logistic')\n",
        "plt.xlabel('False Positive Rate')\n",
        "plt.ylabel('True Positive Rate')\n",
        "plt.title('label-encoding',fontsize=15)\n",
        "plt.legend()\n",
        "plt.show()\n",
        "print('base line: ROC AUC=%.3f' % (ns_auc))\n",
        "print('pred: ROC AUC=%.3f' % (lr_auc))"
      ],
      "execution_count": 33,
      "outputs": [
        {
          "output_type": "display_data",
          "data": {
            "image/png": "[encoded data removed]",
            "text/plain": [
              "<Figure size 432x288 with 1 Axes>"
            ]
          },
          "metadata": {
            "tags": [],
            "needs_background": "light"
          }
        },
        {
          "output_type": "stream",
          "text": [
            "base line: ROC AUC=0.500\n",
            "pred: ROC AUC=1.000\n"
          ],
          "name": "stdout"
        }
      ]
    },
    {
      "cell_type": "code",
      "metadata": {
        "colab": {
          "base_uri": "https://localhost:8080/",
          "height": 364
        },
        "id": "M52j2xzpmlwU",
        "outputId": "cbe396ed-6ab2-4d69-a2e3-f0b0c23c7fbe"
      },
      "source": [
        "# Question 7\n",
        "\n",
        "# 학습한 모델의 변수 중요도를 아래의 그래프 처럼 출력하라\n",
        "importance = rf.feature_importances_\n",
        "\n",
        "importanceDf = pd.DataFrame({'name':x.columns,'impor':importance}).sort_values('impor',ascending=False)\n",
        "\n",
        "plt.figure(figsize=(14,5))\n",
        "plt.bar(importanceDf.name,importanceDf.impor)\n",
        "plt.xticks(rotation=14)\n",
        "plt.title('Feature importance',fontsize=15)\n",
        "plt.show()"
      ],
      "execution_count": 34,
      "outputs": [
        {
          "output_type": "display_data",
          "data": {
            "image/png": "[encoded data removed]",
            "text/plain": [
              "<Figure size 1008x360 with 1 Axes>"
            ]
          },
          "metadata": {
            "tags": [],
            "needs_background": "light"
          }
        }
      ]
    },
    {
      "cell_type": "code",
      "metadata": {
        "colab": {
          "base_uri": "https://localhost:8080/"
        },
        "id": "SE7UnP3UmxBN",
        "outputId": "46e08f24-631f-4e3b-bf1d-338e2865917c"
      },
      "source": [
        "# Question 8\n",
        "\n",
        "# 독립변수를 Label encoding 방식이 아닌 one-hot encoding 방식으로 데이터를 변환 하여 x_dum 변수에 저장하라\n",
        "\n",
        "x_dum = pd.get_dummies(x)\n",
        "\n",
        "# Question 9\n",
        "\n",
        "# 위의 학습 과정을 반복한다. 기존에 사용한 random_state값은 고정한다 smote 층화추출, randomforest 학습, 모델 평가 ,roc 커브 , auc값 추출\n",
        "\n",
        "from sklearn.model_selection import train_test_split\n",
        "X_train, X_test, y_train, y_test = train_test_split(x_dum, y, test_size=0.3, random_state=200,stratify=y)\n",
        "\n",
        "smote = SMOTE(random_state=0)\n",
        "#X_train_over,y_train_over = smote.fit_sample(X_train,y_train)\n",
        "X_train_over,y_train_over = smote.fit_resample(X_train,y_train)\n",
        "\n",
        "clf = RandomForestClassifier(max_depth=2, random_state=0)\n",
        "clf.fit(X_train_over, y_train_over)\n",
        "\n",
        "y_pred = clf.predict(X_test)\n",
        "\n",
        "report= classification_report(y_test, y_pred, target_names=['class 0', 'class 1'])"
      ],
      "execution_count": 37,
      "outputs": [
        {
          "output_type": "stream",
          "text": [
            "/usr/local/lib/python3.7/dist-packages/sklearn/utils/deprecation.py:87: FutureWarning: Function safe_indexing is deprecated; safe_indexing is deprecated in version 0.22 and will be removed in version 0.24.\n",
            "  warnings.warn(msg, category=FutureWarning)\n"
          ],
          "name": "stderr"
        }
      ]
    }
  ]
}