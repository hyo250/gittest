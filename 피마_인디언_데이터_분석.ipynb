{
  "nbformat": 4,
  "nbformat_minor": 0,
  "metadata": {
    "colab": {
      "name": "피마 인디언 데이터 분석.ipynb",
      "provenance": [],
      "collapsed_sections": [],
      "mount_file_id": "176UtczpRmTjqOjiphul8fJRGNHWgHUAE",
      "authorship_tag": "ABX9TyM6G/ACZq6dGjN5NiuW9Vbk",
      "include_colab_link": true
    },
    "kernelspec": {
      "name": "python3",
      "display_name": "Python 3"
    },
    "language_info": {
      "name": "python"
    }
  },
  "cells": [
    {
      "cell_type": "markdown",
      "metadata": {
        "id": "view-in-github",
        "colab_type": "text"
      },
      "source": [
        "<a href=\"https://colab.research.google.com/github/hyo250/gittest/blob/master/%ED%94%BC%EB%A7%88_%EC%9D%B8%EB%94%94%EC%96%B8_%EB%8D%B0%EC%9D%B4%ED%84%B0_%EB%B6%84%EC%84%9D.ipynb\" target=\"_parent\"><img src=\"https://colab.research.google.com/assets/colab-badge.svg\" alt=\"Open In Colab\"/></a>"
      ]
    },
    {
      "cell_type": "code",
      "metadata": {
        "colab": {
          "base_uri": "https://localhost:8080/"
        },
        "id": "-1q4Nc7CBX51",
        "outputId": "63e01a4b-14f5-47fa-e6b5-720c7289264d"
      },
      "source": [
        "cd /content/drive/MyDrive/인공지능실습/모두의 딥러닝"
      ],
      "execution_count": 1,
      "outputs": [
        {
          "output_type": "stream",
          "text": [
            "/content/drive/MyDrive/인공지능실습/모두의 딥러닝\n"
          ],
          "name": "stdout"
        }
      ]
    },
    {
      "cell_type": "code",
      "metadata": {
        "id": "Oqrz1gVVBqnX"
      },
      "source": [
        "import pandas as pd\n",
        "import numpy as np"
      ],
      "execution_count": 2,
      "outputs": []
    },
    {
      "cell_type": "code",
      "metadata": {
        "colab": {
          "base_uri": "https://localhost:8080/",
          "height": 418
        },
        "id": "izITDKASBzqm",
        "outputId": "31afc6ad-9930-428e-9f5d-a9a0f3445970"
      },
      "source": [
        "df=pd.read_csv('./dataset/pima-indians-diabetes.csv', names=['pregnant', 'plasma','insulin','bmi','pedigre','age','class']).reset_index()\n",
        "df.columns=['pregnant', 'plasma','pressure','thickness','insulin','bmi','pedigre','age','class']\n",
        "df"
      ],
      "execution_count": 16,
      "outputs": [
        {
          "output_type": "execute_result",
          "data": {
            "text/html": [
              "<div>\n",
              "<style scoped>\n",
              "    .dataframe tbody tr th:only-of-type {\n",
              "        vertical-align: middle;\n",
              "    }\n",
              "\n",
              "    .dataframe tbody tr th {\n",
              "        vertical-align: top;\n",
              "    }\n",
              "\n",
              "    .dataframe thead th {\n",
              "        text-align: right;\n",
              "    }\n",
              "</style>\n",
              "<table border=\"1\" class=\"dataframe\">\n",
              "  <thead>\n",
              "    <tr style=\"text-align: right;\">\n",
              "      <th></th>\n",
              "      <th>pregnant</th>\n",
              "      <th>plasma</th>\n",
              "      <th>pressure</th>\n",
              "      <th>thickness</th>\n",
              "      <th>insulin</th>\n",
              "      <th>bmi</th>\n",
              "      <th>pedigre</th>\n",
              "      <th>age</th>\n",
              "      <th>class</th>\n",
              "    </tr>\n",
              "  </thead>\n",
              "  <tbody>\n",
              "    <tr>\n",
              "      <th>0</th>\n",
              "      <td>6</td>\n",
              "      <td>148</td>\n",
              "      <td>72</td>\n",
              "      <td>35</td>\n",
              "      <td>0</td>\n",
              "      <td>33.6</td>\n",
              "      <td>0.627</td>\n",
              "      <td>50</td>\n",
              "      <td>1</td>\n",
              "    </tr>\n",
              "    <tr>\n",
              "      <th>1</th>\n",
              "      <td>1</td>\n",
              "      <td>85</td>\n",
              "      <td>66</td>\n",
              "      <td>29</td>\n",
              "      <td>0</td>\n",
              "      <td>26.6</td>\n",
              "      <td>0.351</td>\n",
              "      <td>31</td>\n",
              "      <td>0</td>\n",
              "    </tr>\n",
              "    <tr>\n",
              "      <th>2</th>\n",
              "      <td>8</td>\n",
              "      <td>183</td>\n",
              "      <td>64</td>\n",
              "      <td>0</td>\n",
              "      <td>0</td>\n",
              "      <td>23.3</td>\n",
              "      <td>0.672</td>\n",
              "      <td>32</td>\n",
              "      <td>1</td>\n",
              "    </tr>\n",
              "    <tr>\n",
              "      <th>3</th>\n",
              "      <td>1</td>\n",
              "      <td>89</td>\n",
              "      <td>66</td>\n",
              "      <td>23</td>\n",
              "      <td>94</td>\n",
              "      <td>28.1</td>\n",
              "      <td>0.167</td>\n",
              "      <td>21</td>\n",
              "      <td>0</td>\n",
              "    </tr>\n",
              "    <tr>\n",
              "      <th>4</th>\n",
              "      <td>0</td>\n",
              "      <td>137</td>\n",
              "      <td>40</td>\n",
              "      <td>35</td>\n",
              "      <td>168</td>\n",
              "      <td>43.1</td>\n",
              "      <td>2.288</td>\n",
              "      <td>33</td>\n",
              "      <td>1</td>\n",
              "    </tr>\n",
              "    <tr>\n",
              "      <th>...</th>\n",
              "      <td>...</td>\n",
              "      <td>...</td>\n",
              "      <td>...</td>\n",
              "      <td>...</td>\n",
              "      <td>...</td>\n",
              "      <td>...</td>\n",
              "      <td>...</td>\n",
              "      <td>...</td>\n",
              "      <td>...</td>\n",
              "    </tr>\n",
              "    <tr>\n",
              "      <th>763</th>\n",
              "      <td>10</td>\n",
              "      <td>101</td>\n",
              "      <td>76</td>\n",
              "      <td>48</td>\n",
              "      <td>180</td>\n",
              "      <td>32.9</td>\n",
              "      <td>0.171</td>\n",
              "      <td>63</td>\n",
              "      <td>0</td>\n",
              "    </tr>\n",
              "    <tr>\n",
              "      <th>764</th>\n",
              "      <td>2</td>\n",
              "      <td>122</td>\n",
              "      <td>70</td>\n",
              "      <td>27</td>\n",
              "      <td>0</td>\n",
              "      <td>36.8</td>\n",
              "      <td>0.340</td>\n",
              "      <td>27</td>\n",
              "      <td>0</td>\n",
              "    </tr>\n",
              "    <tr>\n",
              "      <th>765</th>\n",
              "      <td>5</td>\n",
              "      <td>121</td>\n",
              "      <td>72</td>\n",
              "      <td>23</td>\n",
              "      <td>112</td>\n",
              "      <td>26.2</td>\n",
              "      <td>0.245</td>\n",
              "      <td>30</td>\n",
              "      <td>0</td>\n",
              "    </tr>\n",
              "    <tr>\n",
              "      <th>766</th>\n",
              "      <td>1</td>\n",
              "      <td>126</td>\n",
              "      <td>60</td>\n",
              "      <td>0</td>\n",
              "      <td>0</td>\n",
              "      <td>30.1</td>\n",
              "      <td>0.349</td>\n",
              "      <td>47</td>\n",
              "      <td>1</td>\n",
              "    </tr>\n",
              "    <tr>\n",
              "      <th>767</th>\n",
              "      <td>1</td>\n",
              "      <td>93</td>\n",
              "      <td>70</td>\n",
              "      <td>31</td>\n",
              "      <td>0</td>\n",
              "      <td>30.4</td>\n",
              "      <td>0.315</td>\n",
              "      <td>23</td>\n",
              "      <td>0</td>\n",
              "    </tr>\n",
              "  </tbody>\n",
              "</table>\n",
              "<p>768 rows × 9 columns</p>\n",
              "</div>"
            ],
            "text/plain": [
              "     pregnant  plasma  pressure  thickness  insulin   bmi  pedigre  age  class\n",
              "0           6     148        72         35        0  33.6    0.627   50      1\n",
              "1           1      85        66         29        0  26.6    0.351   31      0\n",
              "2           8     183        64          0        0  23.3    0.672   32      1\n",
              "3           1      89        66         23       94  28.1    0.167   21      0\n",
              "4           0     137        40         35      168  43.1    2.288   33      1\n",
              "..        ...     ...       ...        ...      ...   ...      ...  ...    ...\n",
              "763        10     101        76         48      180  32.9    0.171   63      0\n",
              "764         2     122        70         27        0  36.8    0.340   27      0\n",
              "765         5     121        72         23      112  26.2    0.245   30      0\n",
              "766         1     126        60          0        0  30.1    0.349   47      1\n",
              "767         1      93        70         31        0  30.4    0.315   23      0\n",
              "\n",
              "[768 rows x 9 columns]"
            ]
          },
          "metadata": {
            "tags": []
          },
          "execution_count": 16
        }
      ]
    },
    {
      "cell_type": "code",
      "metadata": {
        "colab": {
          "base_uri": "https://localhost:8080/",
          "height": 296
        },
        "id": "Y3itCh6uB56k",
        "outputId": "4c254df1-b403-4620-d4c9-1de71324af6d"
      },
      "source": [
        "df.describe()"
      ],
      "execution_count": 17,
      "outputs": [
        {
          "output_type": "execute_result",
          "data": {
            "text/html": [
              "<div>\n",
              "<style scoped>\n",
              "    .dataframe tbody tr th:only-of-type {\n",
              "        vertical-align: middle;\n",
              "    }\n",
              "\n",
              "    .dataframe tbody tr th {\n",
              "        vertical-align: top;\n",
              "    }\n",
              "\n",
              "    .dataframe thead th {\n",
              "        text-align: right;\n",
              "    }\n",
              "</style>\n",
              "<table border=\"1\" class=\"dataframe\">\n",
              "  <thead>\n",
              "    <tr style=\"text-align: right;\">\n",
              "      <th></th>\n",
              "      <th>pregnant</th>\n",
              "      <th>plasma</th>\n",
              "      <th>pressure</th>\n",
              "      <th>thickness</th>\n",
              "      <th>insulin</th>\n",
              "      <th>bmi</th>\n",
              "      <th>pedigre</th>\n",
              "      <th>age</th>\n",
              "      <th>class</th>\n",
              "    </tr>\n",
              "  </thead>\n",
              "  <tbody>\n",
              "    <tr>\n",
              "      <th>count</th>\n",
              "      <td>768.000000</td>\n",
              "      <td>768.000000</td>\n",
              "      <td>768.000000</td>\n",
              "      <td>768.000000</td>\n",
              "      <td>768.000000</td>\n",
              "      <td>768.000000</td>\n",
              "      <td>768.000000</td>\n",
              "      <td>768.000000</td>\n",
              "      <td>768.000000</td>\n",
              "    </tr>\n",
              "    <tr>\n",
              "      <th>mean</th>\n",
              "      <td>3.845052</td>\n",
              "      <td>120.894531</td>\n",
              "      <td>69.105469</td>\n",
              "      <td>20.536458</td>\n",
              "      <td>79.799479</td>\n",
              "      <td>31.992578</td>\n",
              "      <td>0.471876</td>\n",
              "      <td>33.240885</td>\n",
              "      <td>0.348958</td>\n",
              "    </tr>\n",
              "    <tr>\n",
              "      <th>std</th>\n",
              "      <td>3.369578</td>\n",
              "      <td>31.972618</td>\n",
              "      <td>19.355807</td>\n",
              "      <td>15.952218</td>\n",
              "      <td>115.244002</td>\n",
              "      <td>7.884160</td>\n",
              "      <td>0.331329</td>\n",
              "      <td>11.760232</td>\n",
              "      <td>0.476951</td>\n",
              "    </tr>\n",
              "    <tr>\n",
              "      <th>min</th>\n",
              "      <td>0.000000</td>\n",
              "      <td>0.000000</td>\n",
              "      <td>0.000000</td>\n",
              "      <td>0.000000</td>\n",
              "      <td>0.000000</td>\n",
              "      <td>0.000000</td>\n",
              "      <td>0.078000</td>\n",
              "      <td>21.000000</td>\n",
              "      <td>0.000000</td>\n",
              "    </tr>\n",
              "    <tr>\n",
              "      <th>25%</th>\n",
              "      <td>1.000000</td>\n",
              "      <td>99.000000</td>\n",
              "      <td>62.000000</td>\n",
              "      <td>0.000000</td>\n",
              "      <td>0.000000</td>\n",
              "      <td>27.300000</td>\n",
              "      <td>0.243750</td>\n",
              "      <td>24.000000</td>\n",
              "      <td>0.000000</td>\n",
              "    </tr>\n",
              "    <tr>\n",
              "      <th>50%</th>\n",
              "      <td>3.000000</td>\n",
              "      <td>117.000000</td>\n",
              "      <td>72.000000</td>\n",
              "      <td>23.000000</td>\n",
              "      <td>30.500000</td>\n",
              "      <td>32.000000</td>\n",
              "      <td>0.372500</td>\n",
              "      <td>29.000000</td>\n",
              "      <td>0.000000</td>\n",
              "    </tr>\n",
              "    <tr>\n",
              "      <th>75%</th>\n",
              "      <td>6.000000</td>\n",
              "      <td>140.250000</td>\n",
              "      <td>80.000000</td>\n",
              "      <td>32.000000</td>\n",
              "      <td>127.250000</td>\n",
              "      <td>36.600000</td>\n",
              "      <td>0.626250</td>\n",
              "      <td>41.000000</td>\n",
              "      <td>1.000000</td>\n",
              "    </tr>\n",
              "    <tr>\n",
              "      <th>max</th>\n",
              "      <td>17.000000</td>\n",
              "      <td>199.000000</td>\n",
              "      <td>122.000000</td>\n",
              "      <td>99.000000</td>\n",
              "      <td>846.000000</td>\n",
              "      <td>67.100000</td>\n",
              "      <td>2.420000</td>\n",
              "      <td>81.000000</td>\n",
              "      <td>1.000000</td>\n",
              "    </tr>\n",
              "  </tbody>\n",
              "</table>\n",
              "</div>"
            ],
            "text/plain": [
              "         pregnant      plasma    pressure  ...     pedigre         age       class\n",
              "count  768.000000  768.000000  768.000000  ...  768.000000  768.000000  768.000000\n",
              "mean     3.845052  120.894531   69.105469  ...    0.471876   33.240885    0.348958\n",
              "std      3.369578   31.972618   19.355807  ...    0.331329   11.760232    0.476951\n",
              "min      0.000000    0.000000    0.000000  ...    0.078000   21.000000    0.000000\n",
              "25%      1.000000   99.000000   62.000000  ...    0.243750   24.000000    0.000000\n",
              "50%      3.000000  117.000000   72.000000  ...    0.372500   29.000000    0.000000\n",
              "75%      6.000000  140.250000   80.000000  ...    0.626250   41.000000    1.000000\n",
              "max     17.000000  199.000000  122.000000  ...    2.420000   81.000000    1.000000\n",
              "\n",
              "[8 rows x 9 columns]"
            ]
          },
          "metadata": {
            "tags": []
          },
          "execution_count": 17
        }
      ]
    },
    {
      "cell_type": "code",
      "metadata": {
        "colab": {
          "base_uri": "https://localhost:8080/"
        },
        "id": "jQWPsLDBFAjd",
        "outputId": "cb6f8b4e-bd4e-45ef-9406-e22cd044e3f3"
      },
      "source": [
        "df.info()"
      ],
      "execution_count": 18,
      "outputs": [
        {
          "output_type": "stream",
          "text": [
            "<class 'pandas.core.frame.DataFrame'>\n",
            "RangeIndex: 768 entries, 0 to 767\n",
            "Data columns (total 9 columns):\n",
            " #   Column     Non-Null Count  Dtype  \n",
            "---  ------     --------------  -----  \n",
            " 0   pregnant   768 non-null    int64  \n",
            " 1   plasma     768 non-null    int64  \n",
            " 2   pressure   768 non-null    int64  \n",
            " 3   thickness  768 non-null    int64  \n",
            " 4   insulin    768 non-null    int64  \n",
            " 5   bmi        768 non-null    float64\n",
            " 6   pedigre    768 non-null    float64\n",
            " 7   age        768 non-null    int64  \n",
            " 8   class      768 non-null    int64  \n",
            "dtypes: float64(2), int64(7)\n",
            "memory usage: 54.1 KB\n"
          ],
          "name": "stdout"
        }
      ]
    },
    {
      "cell_type": "code",
      "metadata": {
        "colab": {
          "base_uri": "https://localhost:8080/"
        },
        "id": "PiOrvR-8FCWI",
        "outputId": "bd9656c2-76af-4431-cb54-73188159aee4"
      },
      "source": [
        "df.isna().sum() #결측치는 없음."
      ],
      "execution_count": 19,
      "outputs": [
        {
          "output_type": "execute_result",
          "data": {
            "text/plain": [
              "pregnant     0\n",
              "plasma       0\n",
              "pressure     0\n",
              "thickness    0\n",
              "insulin      0\n",
              "bmi          0\n",
              "pedigre      0\n",
              "age          0\n",
              "class        0\n",
              "dtype: int64"
            ]
          },
          "metadata": {
            "tags": []
          },
          "execution_count": 19
        }
      ]
    },
    {
      "cell_type": "markdown",
      "metadata": {
        "id": "F0_OH6GaFPaD"
      },
      "source": [
        "프로젝트의 목적: 당뇨병의 발병에 영향을 미치는 요인이 뭘까?\n",
        "- 당뇨병 발생 유무= class 변수"
      ]
    },
    {
      "cell_type": "code",
      "metadata": {
        "colab": {
          "base_uri": "https://localhost:8080/",
          "height": 574
        },
        "id": "rkCFUxTFFJ2N",
        "outputId": "68b000e6-96e3-4b37-ca02-efc753160ea9"
      },
      "source": [
        "#임신횟수에 따른 당뇨병 데이터를 임신횟수에 따라 모으고, 그 평균값에 따라 내림차순으로 정렬\n",
        "df[['pregnant','class']].groupby(['pregnant'], as_index=False).mean().sort_values(by='pregnant', ascending=True)\n"
      ],
      "execution_count": 21,
      "outputs": [
        {
          "output_type": "execute_result",
          "data": {
            "text/html": [
              "<div>\n",
              "<style scoped>\n",
              "    .dataframe tbody tr th:only-of-type {\n",
              "        vertical-align: middle;\n",
              "    }\n",
              "\n",
              "    .dataframe tbody tr th {\n",
              "        vertical-align: top;\n",
              "    }\n",
              "\n",
              "    .dataframe thead th {\n",
              "        text-align: right;\n",
              "    }\n",
              "</style>\n",
              "<table border=\"1\" class=\"dataframe\">\n",
              "  <thead>\n",
              "    <tr style=\"text-align: right;\">\n",
              "      <th></th>\n",
              "      <th>pregnant</th>\n",
              "      <th>class</th>\n",
              "    </tr>\n",
              "  </thead>\n",
              "  <tbody>\n",
              "    <tr>\n",
              "      <th>0</th>\n",
              "      <td>0</td>\n",
              "      <td>0.342342</td>\n",
              "    </tr>\n",
              "    <tr>\n",
              "      <th>1</th>\n",
              "      <td>1</td>\n",
              "      <td>0.214815</td>\n",
              "    </tr>\n",
              "    <tr>\n",
              "      <th>2</th>\n",
              "      <td>2</td>\n",
              "      <td>0.184466</td>\n",
              "    </tr>\n",
              "    <tr>\n",
              "      <th>3</th>\n",
              "      <td>3</td>\n",
              "      <td>0.360000</td>\n",
              "    </tr>\n",
              "    <tr>\n",
              "      <th>4</th>\n",
              "      <td>4</td>\n",
              "      <td>0.338235</td>\n",
              "    </tr>\n",
              "    <tr>\n",
              "      <th>5</th>\n",
              "      <td>5</td>\n",
              "      <td>0.368421</td>\n",
              "    </tr>\n",
              "    <tr>\n",
              "      <th>6</th>\n",
              "      <td>6</td>\n",
              "      <td>0.320000</td>\n",
              "    </tr>\n",
              "    <tr>\n",
              "      <th>7</th>\n",
              "      <td>7</td>\n",
              "      <td>0.555556</td>\n",
              "    </tr>\n",
              "    <tr>\n",
              "      <th>8</th>\n",
              "      <td>8</td>\n",
              "      <td>0.578947</td>\n",
              "    </tr>\n",
              "    <tr>\n",
              "      <th>9</th>\n",
              "      <td>9</td>\n",
              "      <td>0.642857</td>\n",
              "    </tr>\n",
              "    <tr>\n",
              "      <th>10</th>\n",
              "      <td>10</td>\n",
              "      <td>0.416667</td>\n",
              "    </tr>\n",
              "    <tr>\n",
              "      <th>11</th>\n",
              "      <td>11</td>\n",
              "      <td>0.636364</td>\n",
              "    </tr>\n",
              "    <tr>\n",
              "      <th>12</th>\n",
              "      <td>12</td>\n",
              "      <td>0.444444</td>\n",
              "    </tr>\n",
              "    <tr>\n",
              "      <th>13</th>\n",
              "      <td>13</td>\n",
              "      <td>0.500000</td>\n",
              "    </tr>\n",
              "    <tr>\n",
              "      <th>14</th>\n",
              "      <td>14</td>\n",
              "      <td>1.000000</td>\n",
              "    </tr>\n",
              "    <tr>\n",
              "      <th>15</th>\n",
              "      <td>15</td>\n",
              "      <td>1.000000</td>\n",
              "    </tr>\n",
              "    <tr>\n",
              "      <th>16</th>\n",
              "      <td>17</td>\n",
              "      <td>1.000000</td>\n",
              "    </tr>\n",
              "  </tbody>\n",
              "</table>\n",
              "</div>"
            ],
            "text/plain": [
              "    pregnant     class\n",
              "0          0  0.342342\n",
              "1          1  0.214815\n",
              "2          2  0.184466\n",
              "3          3  0.360000\n",
              "4          4  0.338235\n",
              "5          5  0.368421\n",
              "6          6  0.320000\n",
              "7          7  0.555556\n",
              "8          8  0.578947\n",
              "9          9  0.642857\n",
              "10        10  0.416667\n",
              "11        11  0.636364\n",
              "12        12  0.444444\n",
              "13        13  0.500000\n",
              "14        14  1.000000\n",
              "15        15  1.000000\n",
              "16        17  1.000000"
            ]
          },
          "metadata": {
            "tags": []
          },
          "execution_count": 21
        }
      ]
    },
    {
      "cell_type": "code",
      "metadata": {
        "id": "fHmyR4zdFERH"
      },
      "source": [
        "import matplotlib.pyplot as plt\n",
        "import seaborn as sns"
      ],
      "execution_count": 22,
      "outputs": []
    },
    {
      "cell_type": "code",
      "metadata": {
        "colab": {
          "base_uri": "https://localhost:8080/",
          "height": 704
        },
        "id": "kNTLgSFOF3tE",
        "outputId": "3b20dccf-c324-434d-d21b-4c60fba43c62"
      },
      "source": [
        "#변수별 상관관계 히트맵그려 살펴보기\n",
        "plt.figure(figsize=(12,12))\n",
        "sns.heatmap(df.corr(), linewidths=0.1, vmax=0.5, cmap=plt.cm.gist_heat, linecolor='white', annot=True)\n",
        "plt.show()"
      ],
      "execution_count": 24,
      "outputs": [
        {
          "output_type": "display_data",
          "data": {
            "image/png": "[encoded data removed]",
            "text/plain": [
              "<Figure size 864x864 with 2 Axes>"
            ]
          },
          "metadata": {
            "tags": [],
            "needs_background": "light"
          }
        }
      ]
    },
    {
      "cell_type": "code",
      "metadata": {
        "colab": {
          "base_uri": "https://localhost:8080/",
          "height": 225
        },
        "id": "79CxpbH2GKyg",
        "outputId": "5970f5d3-53ff-4bb6-c46c-658f588797c7"
      },
      "source": [
        "#위의 그림을보면 class랑 plasma에서 높은 상관을 보임... 0.47\n",
        "grid=sns.FacetGrid(df, col='class')\n",
        "grid.map(plt.hist, 'plasma', bins=10)\n",
        "plt.show()"
      ],
      "execution_count": 25,
      "outputs": [
        {
          "output_type": "display_data",
          "data": {
            "image/png": "[encoded data removed]",
            "text/plain": [
              "<Figure size 432x216 with 2 Axes>"
            ]
          },
          "metadata": {
            "tags": [],
            "needs_background": "light"
          }
        }
      ]
    },
    {
      "cell_type": "markdown",
      "metadata": {
        "id": "gl7-2MLXGxrX"
      },
      "source": [
        "- plasma 수치가 150이 넘어가면 당뇨병 발생확률이 높은듯!!\n"
      ]
    },
    {
      "cell_type": "markdown",
      "metadata": {
        "id": "T00HCxhsG4y3"
      },
      "source": [
        "## 케라스로 당뇨병 예측 실행하기"
      ]
    },
    {
      "cell_type": "code",
      "metadata": {
        "id": "HQcMGGtxHH1J"
      },
      "source": [
        "#케라스 함수 호출\n",
        "from tensorflow.keras.models import Sequential\n",
        "from tensorflow.keras.layers import Dense\n",
        "import tensorflow as tf"
      ],
      "execution_count": 26,
      "outputs": []
    },
    {
      "cell_type": "code",
      "metadata": {
        "id": "FG0FZl81GrE8"
      },
      "source": [
        "#seed값 생성\n",
        "np.random.seed(100)\n",
        "tf.random.set_seed(100)"
      ],
      "execution_count": 27,
      "outputs": []
    },
    {
      "cell_type": "code",
      "metadata": {
        "colab": {
          "base_uri": "https://localhost:8080/"
        },
        "id": "t7vZvfrVHpF5",
        "outputId": "a48829d0-47d6-4acd-dc3a-0e5f50a323b5"
      },
      "source": [
        "print(df.shape) #총 768개의 개별데이터(샘플), 9개의 컬럼(8개는 x변수, 1개는 class(y변수))"
      ],
      "execution_count": 30,
      "outputs": [
        {
          "output_type": "stream",
          "text": [
            "(768, 9)\n"
          ],
          "name": "stdout"
        }
      ]
    },
    {
      "cell_type": "code",
      "metadata": {
        "id": "UXvykUWPHgRb"
      },
      "source": [
        "#모델의 설정\n",
        "model=Sequential()\n",
        "model.add(Dense(12, input_dim=8, activation='relu')) #은닉층+입력층. #input_dim=8인 이유... x변수가 8개임\n",
        "model.add(Dense(8, activation='relu')) #은닉층 \n",
        "model.add(Dense(1, activation='sigmoid')) # 출력층. 노드는 1로!!"
      ],
      "execution_count": 32,
      "outputs": []
    },
    {
      "cell_type": "code",
      "metadata": {
        "id": "nQypk6r_IU8u"
      },
      "source": [
        "#당뇨병 여부 0(아니다), 1(당뇨병) 이므로==>이항분류(binary classfication)\n",
        "model.compile(loss='binary_crossentropy',\n",
        "              optimizer='adam',\n",
        "              metrics=['accuracy'])"
      ],
      "execution_count": 37,
      "outputs": []
    },
    {
      "cell_type": "code",
      "metadata": {
        "id": "twyx-eGoI14N"
      },
      "source": [
        "dataset=np.loadtxt('./dataset/pima-indians-diabetes.csv', delimiter=',')\n",
        "X=dataset[:, 0:8]\n",
        "Y=dataset[:,8]"
      ],
      "execution_count": 34,
      "outputs": []
    },
    {
      "cell_type": "code",
      "metadata": {
        "colab": {
          "base_uri": "https://localhost:8080/"
        },
        "id": "xgdxA8uSIxBY",
        "outputId": "451e33ef-c9c7-4045-a8e9-b3a3766fce64"
      },
      "source": [
        "#모델 실행\n",
        "model.fit(X, Y, epochs=200, batch_size=10)"
      ],
      "execution_count": 38,
      "outputs": [
        {
          "output_type": "stream",
          "text": [
            "Epoch 1/200\n",
            "77/77 [==============================] - 1s 1ms/step - loss: 1.8260 - accuracy: 0.5469\n",
            "Epoch 2/200\n",
            "77/77 [==============================] - 0s 1ms/step - loss: 0.8830 - accuracy: 0.5859\n",
            "Epoch 3/200\n",
            "77/77 [==============================] - 0s 1ms/step - loss: 0.7927 - accuracy: 0.6094\n",
            "Epoch 4/200\n",
            "77/77 [==============================] - 0s 1ms/step - loss: 0.7601 - accuracy: 0.6328\n",
            "Epoch 5/200\n",
            "77/77 [==============================] - 0s 1ms/step - loss: 0.7210 - accuracy: 0.6185\n",
            "Epoch 6/200\n",
            "77/77 [==============================] - 0s 1ms/step - loss: 0.7103 - accuracy: 0.6302\n",
            "Epoch 7/200\n",
            "77/77 [==============================] - 0s 2ms/step - loss: 0.6842 - accuracy: 0.6211\n",
            "Epoch 8/200\n",
            "77/77 [==============================] - 0s 1ms/step - loss: 0.6760 - accuracy: 0.6419\n",
            "Epoch 9/200\n",
            "77/77 [==============================] - 0s 1ms/step - loss: 0.6666 - accuracy: 0.6458\n",
            "Epoch 10/200\n",
            "77/77 [==============================] - 0s 1ms/step - loss: 0.6516 - accuracy: 0.6354\n",
            "Epoch 11/200\n",
            "77/77 [==============================] - 0s 1ms/step - loss: 0.6486 - accuracy: 0.6589\n",
            "Epoch 12/200\n",
            "77/77 [==============================] - 0s 1ms/step - loss: 0.6439 - accuracy: 0.6615\n",
            "Epoch 13/200\n",
            "77/77 [==============================] - 0s 2ms/step - loss: 0.6341 - accuracy: 0.6523\n",
            "Epoch 14/200\n",
            "77/77 [==============================] - 0s 1ms/step - loss: 0.6245 - accuracy: 0.6497\n",
            "Epoch 15/200\n",
            "77/77 [==============================] - 0s 1ms/step - loss: 0.6223 - accuracy: 0.6641\n",
            "Epoch 16/200\n",
            "77/77 [==============================] - 0s 2ms/step - loss: 0.6154 - accuracy: 0.6862\n",
            "Epoch 17/200\n",
            "77/77 [==============================] - 0s 1ms/step - loss: 0.6135 - accuracy: 0.6693\n",
            "Epoch 18/200\n",
            "77/77 [==============================] - 0s 1ms/step - loss: 0.6111 - accuracy: 0.6732\n",
            "Epoch 19/200\n",
            "77/77 [==============================] - 0s 1ms/step - loss: 0.6063 - accuracy: 0.6706\n",
            "Epoch 20/200\n",
            "77/77 [==============================] - 0s 2ms/step - loss: 0.6043 - accuracy: 0.6784\n",
            "Epoch 21/200\n",
            "77/77 [==============================] - 0s 1ms/step - loss: 0.5990 - accuracy: 0.6667\n",
            "Epoch 22/200\n",
            "77/77 [==============================] - 0s 1ms/step - loss: 0.5992 - accuracy: 0.6680\n",
            "Epoch 23/200\n",
            "77/77 [==============================] - 0s 1ms/step - loss: 0.5978 - accuracy: 0.6719\n",
            "Epoch 24/200\n",
            "77/77 [==============================] - 0s 1ms/step - loss: 0.6005 - accuracy: 0.6706\n",
            "Epoch 25/200\n",
            "77/77 [==============================] - 0s 2ms/step - loss: 0.5928 - accuracy: 0.6745\n",
            "Epoch 26/200\n",
            "77/77 [==============================] - 0s 1ms/step - loss: 0.5896 - accuracy: 0.6784\n",
            "Epoch 27/200\n",
            "77/77 [==============================] - 0s 1ms/step - loss: 0.5906 - accuracy: 0.6797\n",
            "Epoch 28/200\n",
            "77/77 [==============================] - 0s 1ms/step - loss: 0.5871 - accuracy: 0.6875\n",
            "Epoch 29/200\n",
            "77/77 [==============================] - 0s 2ms/step - loss: 0.5887 - accuracy: 0.6784\n",
            "Epoch 30/200\n",
            "77/77 [==============================] - 0s 1ms/step - loss: 0.5837 - accuracy: 0.6823\n",
            "Epoch 31/200\n",
            "77/77 [==============================] - 0s 1ms/step - loss: 0.5866 - accuracy: 0.6810\n",
            "Epoch 32/200\n",
            "77/77 [==============================] - 0s 1ms/step - loss: 0.5842 - accuracy: 0.6836\n",
            "Epoch 33/200\n",
            "77/77 [==============================] - 0s 1ms/step - loss: 0.5833 - accuracy: 0.6784\n",
            "Epoch 34/200\n",
            "77/77 [==============================] - 0s 1ms/step - loss: 0.5863 - accuracy: 0.6745\n",
            "Epoch 35/200\n",
            "77/77 [==============================] - 0s 1ms/step - loss: 0.5832 - accuracy: 0.6784\n",
            "Epoch 36/200\n",
            "77/77 [==============================] - 0s 1ms/step - loss: 0.5857 - accuracy: 0.6823\n",
            "Epoch 37/200\n",
            "77/77 [==============================] - 0s 1ms/step - loss: 0.5779 - accuracy: 0.6862\n",
            "Epoch 38/200\n",
            "77/77 [==============================] - 0s 1ms/step - loss: 0.5789 - accuracy: 0.6784\n",
            "Epoch 39/200\n",
            "77/77 [==============================] - 0s 1ms/step - loss: 0.5752 - accuracy: 0.6823\n",
            "Epoch 40/200\n",
            "77/77 [==============================] - 0s 1ms/step - loss: 0.5774 - accuracy: 0.6810\n",
            "Epoch 41/200\n",
            "77/77 [==============================] - 0s 1ms/step - loss: 0.5772 - accuracy: 0.6784\n",
            "Epoch 42/200\n",
            "77/77 [==============================] - 0s 1ms/step - loss: 0.5770 - accuracy: 0.6810\n",
            "Epoch 43/200\n",
            "77/77 [==============================] - 0s 1ms/step - loss: 0.5781 - accuracy: 0.6836\n",
            "Epoch 44/200\n",
            "77/77 [==============================] - 0s 1ms/step - loss: 0.5735 - accuracy: 0.6901\n",
            "Epoch 45/200\n",
            "77/77 [==============================] - 0s 2ms/step - loss: 0.5754 - accuracy: 0.6836\n",
            "Epoch 46/200\n",
            "77/77 [==============================] - 0s 1ms/step - loss: 0.5717 - accuracy: 0.6875\n",
            "Epoch 47/200\n",
            "77/77 [==============================] - 0s 1ms/step - loss: 0.5743 - accuracy: 0.6862\n",
            "Epoch 48/200\n",
            "77/77 [==============================] - 0s 1ms/step - loss: 0.5793 - accuracy: 0.6875\n",
            "Epoch 49/200\n",
            "77/77 [==============================] - 0s 1ms/step - loss: 0.5862 - accuracy: 0.6849\n",
            "Epoch 50/200\n",
            "77/77 [==============================] - 0s 1ms/step - loss: 0.5784 - accuracy: 0.6836\n",
            "Epoch 51/200\n",
            "77/77 [==============================] - 0s 1ms/step - loss: 0.5763 - accuracy: 0.6797\n",
            "Epoch 52/200\n",
            "77/77 [==============================] - 0s 2ms/step - loss: 0.5746 - accuracy: 0.6797\n",
            "Epoch 53/200\n",
            "77/77 [==============================] - 0s 1ms/step - loss: 0.5730 - accuracy: 0.6849\n",
            "Epoch 54/200\n",
            "77/77 [==============================] - 0s 1ms/step - loss: 0.5738 - accuracy: 0.6836\n",
            "Epoch 55/200\n",
            "77/77 [==============================] - 0s 1ms/step - loss: 0.5726 - accuracy: 0.6849\n",
            "Epoch 56/200\n",
            "77/77 [==============================] - 0s 1ms/step - loss: 0.5686 - accuracy: 0.6797\n",
            "Epoch 57/200\n",
            "77/77 [==============================] - 0s 1ms/step - loss: 0.5721 - accuracy: 0.6914\n",
            "Epoch 58/200\n",
            "77/77 [==============================] - 0s 1ms/step - loss: 0.5698 - accuracy: 0.6901\n",
            "Epoch 59/200\n",
            "77/77 [==============================] - 0s 1ms/step - loss: 0.5696 - accuracy: 0.6823\n",
            "Epoch 60/200\n",
            "77/77 [==============================] - 0s 1ms/step - loss: 0.5685 - accuracy: 0.6823\n",
            "Epoch 61/200\n",
            "77/77 [==============================] - 0s 2ms/step - loss: 0.5687 - accuracy: 0.6862\n",
            "Epoch 62/200\n",
            "77/77 [==============================] - 0s 1ms/step - loss: 0.5720 - accuracy: 0.6810\n",
            "Epoch 63/200\n",
            "77/77 [==============================] - 0s 2ms/step - loss: 0.5706 - accuracy: 0.6797\n",
            "Epoch 64/200\n",
            "77/77 [==============================] - 0s 1ms/step - loss: 0.5684 - accuracy: 0.6823\n",
            "Epoch 65/200\n",
            "77/77 [==============================] - 0s 1ms/step - loss: 0.5688 - accuracy: 0.6823\n",
            "Epoch 66/200\n",
            "77/77 [==============================] - 0s 2ms/step - loss: 0.5653 - accuracy: 0.6849\n",
            "Epoch 67/200\n",
            "77/77 [==============================] - 0s 1ms/step - loss: 0.5785 - accuracy: 0.6667\n",
            "Epoch 68/200\n",
            "77/77 [==============================] - 0s 1ms/step - loss: 0.5725 - accuracy: 0.6784\n",
            "Epoch 69/200\n",
            "77/77 [==============================] - 0s 2ms/step - loss: 0.5687 - accuracy: 0.6875\n",
            "Epoch 70/200\n",
            "77/77 [==============================] - 0s 1ms/step - loss: 0.5697 - accuracy: 0.6771\n",
            "Epoch 71/200\n",
            "77/77 [==============================] - 0s 2ms/step - loss: 0.5649 - accuracy: 0.6849\n",
            "Epoch 72/200\n",
            "77/77 [==============================] - 0s 1ms/step - loss: 0.5669 - accuracy: 0.6849\n",
            "Epoch 73/200\n",
            "77/77 [==============================] - 0s 1ms/step - loss: 0.5637 - accuracy: 0.6849\n",
            "Epoch 74/200\n",
            "77/77 [==============================] - 0s 1ms/step - loss: 0.5704 - accuracy: 0.6901\n",
            "Epoch 75/200\n",
            "77/77 [==============================] - 0s 1ms/step - loss: 0.5635 - accuracy: 0.6901\n",
            "Epoch 76/200\n",
            "77/77 [==============================] - 0s 1ms/step - loss: 0.5656 - accuracy: 0.6901\n",
            "Epoch 77/200\n",
            "77/77 [==============================] - 0s 1ms/step - loss: 0.5629 - accuracy: 0.6862\n",
            "Epoch 78/200\n",
            "77/77 [==============================] - 0s 1ms/step - loss: 0.5639 - accuracy: 0.6784\n",
            "Epoch 79/200\n",
            "77/77 [==============================] - 0s 1ms/step - loss: 0.5641 - accuracy: 0.6875\n",
            "Epoch 80/200\n",
            "77/77 [==============================] - 0s 1ms/step - loss: 0.5639 - accuracy: 0.6888\n",
            "Epoch 81/200\n",
            "77/77 [==============================] - 0s 2ms/step - loss: 0.5632 - accuracy: 0.6888\n",
            "Epoch 82/200\n",
            "77/77 [==============================] - 0s 1ms/step - loss: 0.5649 - accuracy: 0.6875\n",
            "Epoch 83/200\n",
            "77/77 [==============================] - 0s 1ms/step - loss: 0.5647 - accuracy: 0.6823\n",
            "Epoch 84/200\n",
            "77/77 [==============================] - 0s 1ms/step - loss: 0.5572 - accuracy: 0.6979\n",
            "Epoch 85/200\n",
            "77/77 [==============================] - 0s 1ms/step - loss: 0.5657 - accuracy: 0.6927\n",
            "Epoch 86/200\n",
            "77/77 [==============================] - 0s 2ms/step - loss: 0.5630 - accuracy: 0.6771\n",
            "Epoch 87/200\n",
            "77/77 [==============================] - 0s 2ms/step - loss: 0.5608 - accuracy: 0.6927\n",
            "Epoch 88/200\n",
            "77/77 [==============================] - 0s 1ms/step - loss: 0.5675 - accuracy: 0.6823\n",
            "Epoch 89/200\n",
            "77/77 [==============================] - 0s 1ms/step - loss: 0.5659 - accuracy: 0.6836\n",
            "Epoch 90/200\n",
            "77/77 [==============================] - 0s 1ms/step - loss: 0.5676 - accuracy: 0.6849\n",
            "Epoch 91/200\n",
            "77/77 [==============================] - 0s 1ms/step - loss: 0.5666 - accuracy: 0.6745\n",
            "Epoch 92/200\n",
            "77/77 [==============================] - 0s 1ms/step - loss: 0.5611 - accuracy: 0.6875\n",
            "Epoch 93/200\n",
            "77/77 [==============================] - 0s 1ms/step - loss: 0.5615 - accuracy: 0.6888\n",
            "Epoch 94/200\n",
            "77/77 [==============================] - 0s 1ms/step - loss: 0.5641 - accuracy: 0.6810\n",
            "Epoch 95/200\n",
            "77/77 [==============================] - 0s 1ms/step - loss: 0.5589 - accuracy: 0.6901\n",
            "Epoch 96/200\n",
            "77/77 [==============================] - 0s 1ms/step - loss: 0.5577 - accuracy: 0.6888\n",
            "Epoch 97/200\n",
            "77/77 [==============================] - 0s 2ms/step - loss: 0.5622 - accuracy: 0.6849\n",
            "Epoch 98/200\n",
            "77/77 [==============================] - 0s 1ms/step - loss: 0.5623 - accuracy: 0.6927\n",
            "Epoch 99/200\n",
            "77/77 [==============================] - 0s 1ms/step - loss: 0.5596 - accuracy: 0.6862\n",
            "Epoch 100/200\n",
            "77/77 [==============================] - 0s 2ms/step - loss: 0.5607 - accuracy: 0.6901\n",
            "Epoch 101/200\n",
            "77/77 [==============================] - 0s 1ms/step - loss: 0.5574 - accuracy: 0.6875\n",
            "Epoch 102/200\n",
            "77/77 [==============================] - 0s 1ms/step - loss: 0.5588 - accuracy: 0.6888\n",
            "Epoch 103/200\n",
            "77/77 [==============================] - 0s 2ms/step - loss: 0.5580 - accuracy: 0.6914\n",
            "Epoch 104/200\n",
            "77/77 [==============================] - 0s 1ms/step - loss: 0.5600 - accuracy: 0.6849\n",
            "Epoch 105/200\n",
            "77/77 [==============================] - 0s 2ms/step - loss: 0.5644 - accuracy: 0.6927\n",
            "Epoch 106/200\n",
            "77/77 [==============================] - 0s 1ms/step - loss: 0.5614 - accuracy: 0.6914\n",
            "Epoch 107/200\n",
            "77/77 [==============================] - 0s 1ms/step - loss: 0.5633 - accuracy: 0.6823\n",
            "Epoch 108/200\n",
            "77/77 [==============================] - 0s 1ms/step - loss: 0.5607 - accuracy: 0.6823\n",
            "Epoch 109/200\n",
            "77/77 [==============================] - 0s 1ms/step - loss: 0.5616 - accuracy: 0.6940\n",
            "Epoch 110/200\n",
            "77/77 [==============================] - 0s 1ms/step - loss: 0.5582 - accuracy: 0.6901\n",
            "Epoch 111/200\n",
            "77/77 [==============================] - 0s 1ms/step - loss: 0.5607 - accuracy: 0.6836\n",
            "Epoch 112/200\n",
            "77/77 [==============================] - 0s 2ms/step - loss: 0.5580 - accuracy: 0.6901\n",
            "Epoch 113/200\n",
            "77/77 [==============================] - 0s 1ms/step - loss: 0.5591 - accuracy: 0.6875\n",
            "Epoch 114/200\n",
            "77/77 [==============================] - 0s 2ms/step - loss: 0.5588 - accuracy: 0.6953\n",
            "Epoch 115/200\n",
            "77/77 [==============================] - 0s 2ms/step - loss: 0.5573 - accuracy: 0.6940\n",
            "Epoch 116/200\n",
            "77/77 [==============================] - 0s 2ms/step - loss: 0.5562 - accuracy: 0.6875\n",
            "Epoch 117/200\n",
            "77/77 [==============================] - 0s 1ms/step - loss: 0.5580 - accuracy: 0.6862\n",
            "Epoch 118/200\n",
            "77/77 [==============================] - 0s 1ms/step - loss: 0.5570 - accuracy: 0.6875\n",
            "Epoch 119/200\n",
            "77/77 [==============================] - 0s 1ms/step - loss: 0.5558 - accuracy: 0.6914\n",
            "Epoch 120/200\n",
            "77/77 [==============================] - 0s 1ms/step - loss: 0.5633 - accuracy: 0.6823\n",
            "Epoch 121/200\n",
            "77/77 [==============================] - 0s 1ms/step - loss: 0.5556 - accuracy: 0.6823\n",
            "Epoch 122/200\n",
            "77/77 [==============================] - 0s 2ms/step - loss: 0.5615 - accuracy: 0.6810\n",
            "Epoch 123/200\n",
            "77/77 [==============================] - 0s 1ms/step - loss: 0.5648 - accuracy: 0.6875\n",
            "Epoch 124/200\n",
            "77/77 [==============================] - 0s 2ms/step - loss: 0.5521 - accuracy: 0.6940\n",
            "Epoch 125/200\n",
            "77/77 [==============================] - 0s 1ms/step - loss: 0.5610 - accuracy: 0.6888\n",
            "Epoch 126/200\n",
            "77/77 [==============================] - 0s 1ms/step - loss: 0.5538 - accuracy: 0.6914\n",
            "Epoch 127/200\n",
            "77/77 [==============================] - 0s 1ms/step - loss: 0.5552 - accuracy: 0.6940\n",
            "Epoch 128/200\n",
            "77/77 [==============================] - 0s 1ms/step - loss: 0.5545 - accuracy: 0.6875\n",
            "Epoch 129/200\n",
            "77/77 [==============================] - 0s 2ms/step - loss: 0.5558 - accuracy: 0.6901\n",
            "Epoch 130/200\n",
            "77/77 [==============================] - 0s 1ms/step - loss: 0.5609 - accuracy: 0.6953\n",
            "Epoch 131/200\n",
            "77/77 [==============================] - 0s 1ms/step - loss: 0.5671 - accuracy: 0.6797\n",
            "Epoch 132/200\n",
            "77/77 [==============================] - 0s 1ms/step - loss: 0.5538 - accuracy: 0.6901\n",
            "Epoch 133/200\n",
            "77/77 [==============================] - 0s 2ms/step - loss: 0.5559 - accuracy: 0.6849\n",
            "Epoch 134/200\n",
            "77/77 [==============================] - 0s 2ms/step - loss: 0.5548 - accuracy: 0.6888\n",
            "Epoch 135/200\n",
            "77/77 [==============================] - 0s 2ms/step - loss: 0.5588 - accuracy: 0.6888\n",
            "Epoch 136/200\n",
            "77/77 [==============================] - 0s 1ms/step - loss: 0.5549 - accuracy: 0.6875\n",
            "Epoch 137/200\n",
            "77/77 [==============================] - 0s 1ms/step - loss: 0.5512 - accuracy: 0.6901\n",
            "Epoch 138/200\n",
            "77/77 [==============================] - 0s 2ms/step - loss: 0.5542 - accuracy: 0.6927\n",
            "Epoch 139/200\n",
            "77/77 [==============================] - 0s 2ms/step - loss: 0.5574 - accuracy: 0.6836\n",
            "Epoch 140/200\n",
            "77/77 [==============================] - 0s 2ms/step - loss: 0.5517 - accuracy: 0.6888\n",
            "Epoch 141/200\n",
            "77/77 [==============================] - 0s 2ms/step - loss: 0.5492 - accuracy: 0.6940\n",
            "Epoch 142/200\n",
            "77/77 [==============================] - 0s 2ms/step - loss: 0.5606 - accuracy: 0.6888\n",
            "Epoch 143/200\n",
            "77/77 [==============================] - 0s 1ms/step - loss: 0.5542 - accuracy: 0.6966\n",
            "Epoch 144/200\n",
            "77/77 [==============================] - 0s 1ms/step - loss: 0.5544 - accuracy: 0.6901\n",
            "Epoch 145/200\n",
            "77/77 [==============================] - 0s 1ms/step - loss: 0.5532 - accuracy: 0.6901\n",
            "Epoch 146/200\n",
            "77/77 [==============================] - 0s 1ms/step - loss: 0.5527 - accuracy: 0.6914\n",
            "Epoch 147/200\n",
            "77/77 [==============================] - 0s 1ms/step - loss: 0.5508 - accuracy: 0.7005\n",
            "Epoch 148/200\n",
            "77/77 [==============================] - 0s 2ms/step - loss: 0.5546 - accuracy: 0.6901\n",
            "Epoch 149/200\n",
            "77/77 [==============================] - 0s 1ms/step - loss: 0.5525 - accuracy: 0.6966\n",
            "Epoch 150/200\n",
            "77/77 [==============================] - 0s 1ms/step - loss: 0.5511 - accuracy: 0.6823\n",
            "Epoch 151/200\n",
            "77/77 [==============================] - 0s 2ms/step - loss: 0.5632 - accuracy: 0.6849\n",
            "Epoch 152/200\n",
            "77/77 [==============================] - 0s 1ms/step - loss: 0.5528 - accuracy: 0.6901\n",
            "Epoch 153/200\n",
            "77/77 [==============================] - 0s 2ms/step - loss: 0.5549 - accuracy: 0.6810\n",
            "Epoch 154/200\n",
            "77/77 [==============================] - 0s 2ms/step - loss: 0.5538 - accuracy: 0.6979\n",
            "Epoch 155/200\n",
            "77/77 [==============================] - 0s 2ms/step - loss: 0.5522 - accuracy: 0.6888\n",
            "Epoch 156/200\n",
            "77/77 [==============================] - 0s 2ms/step - loss: 0.5532 - accuracy: 0.6810\n",
            "Epoch 157/200\n",
            "77/77 [==============================] - 0s 2ms/step - loss: 0.5541 - accuracy: 0.6875\n",
            "Epoch 158/200\n",
            "77/77 [==============================] - 0s 1ms/step - loss: 0.5499 - accuracy: 0.6953\n",
            "Epoch 159/200\n",
            "77/77 [==============================] - 0s 1ms/step - loss: 0.5502 - accuracy: 0.7044\n",
            "Epoch 160/200\n",
            "77/77 [==============================] - 0s 1ms/step - loss: 0.5539 - accuracy: 0.6992\n",
            "Epoch 161/200\n",
            "77/77 [==============================] - 0s 1ms/step - loss: 0.5568 - accuracy: 0.6758\n",
            "Epoch 162/200\n",
            "77/77 [==============================] - 0s 2ms/step - loss: 0.5495 - accuracy: 0.6901\n",
            "Epoch 163/200\n",
            "77/77 [==============================] - 0s 1ms/step - loss: 0.5553 - accuracy: 0.6927\n",
            "Epoch 164/200\n",
            "77/77 [==============================] - 0s 2ms/step - loss: 0.5517 - accuracy: 0.6849\n",
            "Epoch 165/200\n",
            "77/77 [==============================] - 0s 2ms/step - loss: 0.5498 - accuracy: 0.6953\n",
            "Epoch 166/200\n",
            "77/77 [==============================] - 0s 2ms/step - loss: 0.5526 - accuracy: 0.6901\n",
            "Epoch 167/200\n",
            "77/77 [==============================] - 0s 1ms/step - loss: 0.5534 - accuracy: 0.6901\n",
            "Epoch 168/200\n",
            "77/77 [==============================] - 0s 2ms/step - loss: 0.5484 - accuracy: 0.6953\n",
            "Epoch 169/200\n",
            "77/77 [==============================] - 0s 2ms/step - loss: 0.5516 - accuracy: 0.6797\n",
            "Epoch 170/200\n",
            "77/77 [==============================] - 0s 2ms/step - loss: 0.5530 - accuracy: 0.6810\n",
            "Epoch 171/200\n",
            "77/77 [==============================] - 0s 2ms/step - loss: 0.5533 - accuracy: 0.6875\n",
            "Epoch 172/200\n",
            "77/77 [==============================] - 0s 2ms/step - loss: 0.5555 - accuracy: 0.6888\n",
            "Epoch 173/200\n",
            "77/77 [==============================] - 0s 1ms/step - loss: 0.5472 - accuracy: 0.6927\n",
            "Epoch 174/200\n",
            "77/77 [==============================] - 0s 2ms/step - loss: 0.5554 - accuracy: 0.6823\n",
            "Epoch 175/200\n",
            "77/77 [==============================] - 0s 1ms/step - loss: 0.5527 - accuracy: 0.6875\n",
            "Epoch 176/200\n",
            "77/77 [==============================] - 0s 1ms/step - loss: 0.5459 - accuracy: 0.6901\n",
            "Epoch 177/200\n",
            "77/77 [==============================] - 0s 1ms/step - loss: 0.5452 - accuracy: 0.6940\n",
            "Epoch 178/200\n",
            "77/77 [==============================] - 0s 2ms/step - loss: 0.5475 - accuracy: 0.6966\n",
            "Epoch 179/200\n",
            "77/77 [==============================] - 0s 1ms/step - loss: 0.5487 - accuracy: 0.6927\n",
            "Epoch 180/200\n",
            "77/77 [==============================] - 0s 2ms/step - loss: 0.5475 - accuracy: 0.6862\n",
            "Epoch 181/200\n",
            "77/77 [==============================] - 0s 2ms/step - loss: 0.5506 - accuracy: 0.6862\n",
            "Epoch 182/200\n",
            "77/77 [==============================] - 0s 2ms/step - loss: 0.5490 - accuracy: 0.6888\n",
            "Epoch 183/200\n",
            "77/77 [==============================] - 0s 1ms/step - loss: 0.5499 - accuracy: 0.6862\n",
            "Epoch 184/200\n",
            "77/77 [==============================] - 0s 2ms/step - loss: 0.5451 - accuracy: 0.7122\n",
            "Epoch 185/200\n",
            "77/77 [==============================] - 0s 2ms/step - loss: 0.5470 - accuracy: 0.7135\n",
            "Epoch 186/200\n",
            "77/77 [==============================] - 0s 1ms/step - loss: 0.5521 - accuracy: 0.7070\n",
            "Epoch 187/200\n",
            "77/77 [==============================] - 0s 2ms/step - loss: 0.5462 - accuracy: 0.7201\n",
            "Epoch 188/200\n",
            "77/77 [==============================] - 0s 2ms/step - loss: 0.5462 - accuracy: 0.7148\n",
            "Epoch 189/200\n",
            "77/77 [==============================] - 0s 2ms/step - loss: 0.5445 - accuracy: 0.7214\n",
            "Epoch 190/200\n",
            "77/77 [==============================] - 0s 1ms/step - loss: 0.5447 - accuracy: 0.7122\n",
            "Epoch 191/200\n",
            "77/77 [==============================] - 0s 2ms/step - loss: 0.5447 - accuracy: 0.7135\n",
            "Epoch 192/200\n",
            "77/77 [==============================] - 0s 1ms/step - loss: 0.5435 - accuracy: 0.7188\n",
            "Epoch 193/200\n",
            "77/77 [==============================] - 0s 1ms/step - loss: 0.5509 - accuracy: 0.7148\n",
            "Epoch 194/200\n",
            "77/77 [==============================] - 0s 1ms/step - loss: 0.5490 - accuracy: 0.7161\n",
            "Epoch 195/200\n",
            "77/77 [==============================] - 0s 2ms/step - loss: 0.5438 - accuracy: 0.7227\n",
            "Epoch 196/200\n",
            "77/77 [==============================] - 0s 2ms/step - loss: 0.5437 - accuracy: 0.7279\n",
            "Epoch 197/200\n",
            "77/77 [==============================] - 0s 2ms/step - loss: 0.5430 - accuracy: 0.7044\n",
            "Epoch 198/200\n",
            "77/77 [==============================] - 0s 2ms/step - loss: 0.5390 - accuracy: 0.7122\n",
            "Epoch 199/200\n",
            "77/77 [==============================] - 0s 2ms/step - loss: 0.5575 - accuracy: 0.7122\n",
            "Epoch 200/200\n",
            "77/77 [==============================] - 0s 1ms/step - loss: 0.5511 - accuracy: 0.7109\n"
          ],
          "name": "stdout"
        },
        {
          "output_type": "execute_result",
          "data": {
            "text/plain": [
              "<tensorflow.python.keras.callbacks.History at 0x7f4a041252d0>"
            ]
          },
          "metadata": {
            "tags": []
          },
          "execution_count": 38
        }
      ]
    },
    {
      "cell_type": "code",
      "metadata": {
        "colab": {
          "base_uri": "https://localhost:8080/"
        },
        "id": "EqTbFxKaJMRd",
        "outputId": "eb807461-79e1-424a-a7d5-a5b436131516"
      },
      "source": [
        "#결과출력\n",
        "print('accuracy: %.4f' %(model.evaluate(X,Y)[1]))"
      ],
      "execution_count": 39,
      "outputs": [
        {
          "output_type": "stream",
          "text": [
            "24/24 [==============================] - 0s 1ms/step - loss: 0.5450 - accuracy: 0.7305\n",
            "accuracy: 0.7305\n"
          ],
          "name": "stdout"
        }
      ]
    },
    {
      "cell_type": "code",
      "metadata": {
        "id": "jePwxX_TJh0R"
      },
      "source": [
        ""
      ],
      "execution_count": null,
      "outputs": []
    }
  ]
}